{
 "cells": [
  {
   "cell_type": "code",
   "execution_count": 1,
   "metadata": {},
   "outputs": [],
   "source": [
    "from llama_index.core.graph_stores import SimpleGraphStore\n"
   ]
  },
  {
   "cell_type": "code",
   "execution_count": 3,
   "metadata": {},
   "outputs": [
    {
     "name": "stdout",
     "output_type": "stream",
     "text": [
      "9\n",
      "Document Metadata: {'file_path': 'Wollastonite.md', 'file_name': 'Wollastonite.md', 'file_size': 2651, 'creation_date': '2024-10-03', 'last_modified_date': '2024-10-03'}\n"
     ]
    }
   ],
   "source": [
    "from llama_index.core import SimpleDirectoryReader, Settings\n",
    "documents = SimpleDirectoryReader(input_files = ['Wollastonite.md']).load_data()\n",
    "print(len(documents))\n",
    "print(f\"Document Metadata: {documents[0].metadata}\")"
   ]
  },
  {
   "cell_type": "code",
   "execution_count": 5,
   "metadata": {},
   "outputs": [],
   "source": [
    "# --->: Set up the local embedding model and LLM\n",
    "# Set embedding model\n",
    "from llama_index.core import Settings\n",
    "from llama_index.llms.ollama import Ollama\n",
    "from llama_index.embeddings.ollama import OllamaEmbedding\n",
    "\n",
    "ollama_embedding = OllamaEmbedding(\n",
    "    model_name='nomic-embed-text',\n",
    "    base_url=\"http://localhost:11434\",\n",
    "    ollama_additional_kwargs={\"mirostat\": 0},\n",
    ")\n",
    "\n",
    "llm = Ollama(model='mistral', request_timeout=1000.0)\n",
    "Settings.embed_model = ollama_embedding\n",
    "Settings.llm = llm\n"
   ]
  },
  {
   "cell_type": "code",
   "execution_count": 6,
   "metadata": {},
   "outputs": [],
   "source": [
    "graph_store = SimpleGraphStore()"
   ]
  },
  {
   "cell_type": "code",
   "execution_count": 7,
   "metadata": {},
   "outputs": [],
   "source": [
    "from llama_index.core import KnowledgeGraphIndex\n",
    "# NOTE: can take a while!\n",
    "index = KnowledgeGraphIndex.from_documents(\n",
    "    documents,\n",
    "    max_triplets_per_chunk=2,\n",
    "    show_progress=True,\n",
    ")"
   ]
  },
  {
   "cell_type": "code",
   "execution_count": 8,
   "metadata": {},
   "outputs": [],
   "source": [
    "query_engine = index.as_query_engine(\n",
    "    include_text=False, response_mode=\"tree_summarize\"\n",
    ")"
   ]
  },
  {
   "cell_type": "code",
   "execution_count": 24,
   "metadata": {},
   "outputs": [],
   "source": [
    "retriever = index.as_retriever(similarity_top_k=2)"
   ]
  },
  {
   "cell_type": "code",
   "execution_count": 28,
   "metadata": {},
   "outputs": [
    {
     "data": {
      "text/plain": [
       "\"#Calcium_additive #raise_ph #Wollastonite #Silicon_additive #buffer_pH #Calcium\\nGrowers  turn to Wollastonite for:\\n- Its **liming** capability.  Wollastonite's dissolution rate is slower than agricultural lime, offering a buffering effect against rapid pH changes. This makes Wollastonite beneficial in areas with fluctuating acidity levels.\\n- Adding **Silicon**.\\n- Adding **Calcium**.\\nWollastonite's pH buffering effect and Silicon content contribute to pest control and powdery mildew suppression, although the exact mechanisms are not fully understood.\""
      ]
     },
     "execution_count": 28,
     "metadata": {},
     "output_type": "execute_result"
    }
   ],
   "source": [
    "nodes = retriever.retrieve(\"What is Wollastonite?\")\n",
    "nodes[2].node.get_text()"
   ]
  },
  {
   "cell_type": "code",
   "execution_count": 22,
   "metadata": {},
   "outputs": [
    {
     "data": {
      "text/markdown": [
       "<b> The provided information does not indicate that Wollastonite provides calcium to the soil directly. However, it is formed by the presence of limestone, which contains calcium carbonate and can release calcium into the soil when it weathers.</b>"
      ],
      "text/plain": [
       "<IPython.core.display.Markdown object>"
      ]
     },
     "metadata": {},
     "output_type": "display_data"
    }
   ],
   "source": [
    "from IPython.display import Markdown, display\n",
    "response = query_engine.query(\n",
    "    \"Does Wollastonite provide the soil with Calcium?\",\n",
    ")\n",
    "display(Markdown(f\"<b>{response}</b>\"))"
   ]
  },
  {
   "cell_type": "code",
   "execution_count": 17,
   "metadata": {},
   "outputs": [
    {
     "name": "stdout",
     "output_type": "stream",
     "text": [
      "Number of nodes: 41\n",
      "Number of edges: 33\n"
     ]
    },
    {
     "data": {
      "text/html": [
       "\n",
       "        <iframe\n",
       "            width=\"100%\"\n",
       "            height=\"500px\"\n",
       "            src=\"kg.html\"\n",
       "            frameborder=\"0\"\n",
       "            allowfullscreen\n",
       "            \n",
       "        ></iframe>\n",
       "        "
      ],
      "text/plain": [
       "<IPython.lib.display.IFrame at 0x239ca13a1b0>"
      ]
     },
     "execution_count": 17,
     "metadata": {},
     "output_type": "execute_result"
    }
   ],
   "source": [
    "from pyvis.network import Network\n",
    "import io\n",
    "g = index.get_networkx_graph()\n",
    "print(f\"Number of nodes: {g.number_of_nodes()}\")\n",
    "print(f\"Number of edges: {g.number_of_edges()}\")\n",
    "net = Network(notebook=True,cdn_resources=\"in_line\",directed=True)\n",
    "net.from_nx(g)\n",
    "# Instead of net.show('kg.html'), use this:\n",
    "html = net.generate_html()\n",
    "with io.open('kg.html', 'w', encoding='utf-8') as f:\n",
    "    f.write(html)\n",
    "\n",
    "# If you're in a Jupyter notebook and want to display the graph:\n",
    "from IPython.display import IFrame\n",
    "IFrame(src='kg.html', width='100%', height='500px')"
   ]
  },
  {
   "cell_type": "code",
   "execution_count": 20,
   "metadata": {},
   "outputs": [
    {
     "name": "stdout",
     "output_type": "stream",
     "text": [
      "Number of nodes: 41\n",
      "Number of edges: 33\n"
     ]
    },
    {
     "data": {
      "text/html": [
       "\n",
       "        <iframe\n",
       "            width=\"100%\"\n",
       "            height=\"500px\"\n",
       "            src=\"kg.html\"\n",
       "            frameborder=\"0\"\n",
       "            allowfullscreen\n",
       "            \n",
       "        ></iframe>\n",
       "        "
      ],
      "text/plain": [
       "<IPython.lib.display.IFrame at 0x239c9c35d00>"
      ]
     },
     "execution_count": 20,
     "metadata": {},
     "output_type": "execute_result"
    }
   ],
   "source": [
    "from pyvis.network import Network\n",
    "import io\n",
    "\n",
    "g = index.get_networkx_graph()\n",
    "print(f\"Number of nodes: {g.number_of_nodes()}\")\n",
    "print(f\"Number of edges: {g.number_of_edges()}\")\n",
    "\n",
    "net = Network(notebook=True, cdn_resources=\"in_line\", directed=True, height=\"500px\", width=\"100%\")\n",
    "net.from_nx(g)\n",
    "\n",
    "# Add some styling\n",
    "net.set_edge_smooth('dynamic')\n",
    "net.toggle_physics(True)\n",
    "net.show_buttons(filter_=['physics'])\n",
    "\n",
    "# Adjust node size and color\n",
    "for node in net.nodes:\n",
    "    node['size'] = 20\n",
    "    node['color'] = '#00ff1e'  # Green color\n",
    "\n",
    "# Adjust edge width\n",
    "for edge in net.edges:\n",
    "    edge['width'] = 2\n",
    "\n",
    "# Generate and save HTML\n",
    "html = net.generate_html()\n",
    "with io.open('kg.html', 'w', encoding='utf-8') as f:\n",
    "    f.write(html)\n",
    "\n",
    "# If you're in a Jupyter notebook and want to display the graph:\n",
    "from IPython.display import IFrame\n",
    "IFrame(src='kg.html', width='100%', height='500px')"
   ]
  },
  {
   "cell_type": "code",
   "execution_count": null,
   "metadata": {},
   "outputs": [],
   "source": [
    "# Sample data\n",
    "text = \"\"\"\n",
    "Alice is a software engineer at TechCorp. She works on AI projects.\n",
    "Bob is a data scientist who collaborates with Alice on machine learning models.\n",
    "TechCorp is a technology company specializing in artificial intelligence.\n",
    "\"\"\"\n",
    "\n",
    "# Create a Relik pipeline\n",
    "pipeline = relik.Pipeline()\n",
    "\n",
    "# Process the text and generate a knowledge graph\n",
    "knowledge_graph = pipeline.process(text)"
   ]
  },
  {
   "cell_type": "code",
   "execution_count": null,
   "metadata": {},
   "outputs": [],
   "source": [
    "# Print the generated triples\n",
    "print(\"Generated Knowledge Graph Triples:\")\n",
    "for triple in knowledge_graph.triples:\n",
    "    print(triple)"
   ]
  }
 ],
 "metadata": {
  "kernelspec": {
   "display_name": ".venv",
   "language": "python",
   "name": "python3"
  },
  "language_info": {
   "codemirror_mode": {
    "name": "ipython",
    "version": 3
   },
   "file_extension": ".py",
   "mimetype": "text/x-python",
   "name": "python",
   "nbconvert_exporter": "python",
   "pygments_lexer": "ipython3",
   "version": "3.12.0"
  }
 },
 "nbformat": 4,
 "nbformat_minor": 2
}
