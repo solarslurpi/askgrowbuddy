{
 "cells": [
  {
   "cell_type": "code",
   "execution_count": 3,
   "metadata": {},
   "outputs": [
    {
     "name": "stdout",
     "output_type": "stream",
     "text": [
      "c:\\Users\\happy\\Documents\\Projects\\askgrowbuddy\n"
     ]
    },
    {
     "name": "stderr",
     "output_type": "stream",
     "text": [
      "c:\\Users\\happy\\Documents\\Projects\\askgrowbuddy\\.venv\\Lib\\site-packages\\IPython\\core\\magics\\osm.py:417: UserWarning: This is now an optional IPython functionality, setting dhist requires you to install the `pickleshare` library.\n",
      "  self.shell.db['dhist'] = compress_dhist(dhist)[-100:]\n"
     ]
    },
    {
     "data": {
      "text/plain": [
       "'c:\\\\Users\\\\happy\\\\Documents\\\\Projects\\\\askgrowbuddy'"
      ]
     },
     "execution_count": 3,
     "metadata": {},
     "output_type": "execute_result"
    }
   ],
   "source": [
    "%cd ..\n",
    "%pwd  # To verify the current working directory"
   ]
  },
  {
   "cell_type": "code",
   "execution_count": 4,
   "metadata": {},
   "outputs": [
    {
     "name": "stdout",
     "output_type": "stream",
     "text": [
      "resource module not available on Windows\n"
     ]
    }
   ],
   "source": [
    "from src.soil_test_analyst import SoilTestAnalyst\n",
    "# from src.soil_test_models import soil_report_instance"
   ]
  },
  {
   "cell_type": "code",
   "execution_count": 1,
   "metadata": {},
   "outputs": [],
   "source": [
    "mehlic_upload = r'C:\\Users\\happy\\Documents\\Projects\\askgrowbuddy\\Margaret Johnson-Soil-20240911-179093.pdf'\n",
    "paste_upload = r'C:\\Users\\happy\\Documents\\Projects\\askgrowbuddy\\Margaret Johnson-Saturated Paste-20240911-179093.pdf'\n",
    "# m3_report, sp_report = SoilTestAnalyst.load_reports(mehlic_upload, paste_upload)\n",
    "# soil_report_instance.set_reports(m3_report, sp_report)"
   ]
  },
  {
   "cell_type": "code",
   "execution_count": null,
   "metadata": {},
   "outputs": [],
   "source": [
    "analyst = SoilTestAnalyst(mehlic_upload, paste_upload)\n"
   ]
  },
  {
   "cell_type": "code",
   "execution_count": 4,
   "metadata": {},
   "outputs": [],
   "source": [
    "soil_property_name = \"ph\"\n",
    "value = 6.5\n",
    "optimal_range = \"6.0-7.0\""
   ]
  },
  {
   "cell_type": "code",
   "execution_count": 5,
   "metadata": {},
   "outputs": [],
   "source": [
    "# This section requires this code.\n",
    "import nest_asyncio\n",
    "nest_asyncio.apply()"
   ]
  },
  {
   "cell_type": "code",
   "execution_count": 6,
   "metadata": {},
   "outputs": [],
   "source": [
    "\n",
    "retriever_prompt = f\"The  {soil_property_name} at value {value}; optimal range is {optimal_range}. Includes actionable advice on adjustments if current value is outside optimal conditions.\"\n",
    "nodes_with_score = analyst.retriever.retrieve(retriever_prompt)"
   ]
  },
  {
   "cell_type": "code",
   "execution_count": 26,
   "metadata": {},
   "outputs": [],
   "source": [
    "retriever_prompt= \"The ph is at 6.9.  What is the optimal range for growing Cannabis?\""
   ]
  },
  {
   "cell_type": "code",
   "execution_count": 28,
   "metadata": {},
   "outputs": [],
   "source": [
    "nodes_with_score = analyst.retriever.retrieve(retriever_prompt)"
   ]
  },
  {
   "cell_type": "code",
   "execution_count": 29,
   "metadata": {},
   "outputs": [
    {
     "data": {
      "text/plain": [
       "{'source': '2024-09-11 Preparation Document for Mehlic-3 Analysis.md',\n",
       " 'path': 'G:\\\\My Drive\\\\Audios_To_Knowledge\\\\knowledge\\\\AskGrowBuddy\\\\AskGrowBuddy\\\\Knowledge\\\\soil_test_knowlege\\\\soil test comments\\\\2024-09-11\\\\2024-09-11 Preparation Document for Mehlic-3 Analysis.md',\n",
       " 'created': 1726950458.577,\n",
       " 'last_modified': 1726606704.565,\n",
       " 'last_accessed': 1726950458.577,\n",
       " 'Header_1': 'Mehlic-3',\n",
       " 'Header_2': 'Trace Elements',\n",
       " 'Header_3': 'Aluminum (ppm) is 30',\n",
       " 'retriever_source': 'bm25'}"
      ]
     },
     "execution_count": 29,
     "metadata": {},
     "output_type": "execute_result"
    }
   ],
   "source": [
    "dir(nodes_with_score[0])\n",
    "nodes_with_score[0].metadata\n"
   ]
  },
  {
   "cell_type": "code",
   "execution_count": 34,
   "metadata": {},
   "outputs": [
    {
     "name": "stdout",
     "output_type": "stream",
     "text": [
      "* Running on local URL:  http://127.0.0.1:7875\n",
      "\n",
      "To create a public link, set `share=True` in `launch()`.\n"
     ]
    },
    {
     "data": {
      "text/html": [
       "<div><iframe src=\"http://127.0.0.1:7875/\" width=\"100%\" height=\"500\" allow=\"autoplay; camera; microphone; clipboard-read; clipboard-write;\" frameborder=\"0\" allowfullscreen></iframe></div>"
      ],
      "text/plain": [
       "<IPython.core.display.HTML object>"
      ]
     },
     "metadata": {},
     "output_type": "display_data"
    },
    {
     "data": {
      "text/plain": []
     },
     "execution_count": 34,
     "metadata": {},
     "output_type": "execute_result"
    }
   ],
   "source": [
    "import gradio as gr\n",
    "import traceback\n",
    "import logging\n",
    "import os\n",
    "\n",
    "logging.basicConfig(level=logging.DEBUG)\n",
    "logger = logging.getLogger(__name__)\n",
    "\n",
    "def create_node_viewer(nodes_with_score, retriever_prompt):\n",
    "    def format_metadata(metadata):\n",
    "        formatted = \"Metadata:\\n\"\n",
    "        for key, value in metadata.items():\n",
    "            if key == 'path':\n",
    "                value = os.path.basename(value)\n",
    "            formatted += f\"- {key}: {value}\\n\"\n",
    "        return formatted\n",
    "\n",
    "    def show_node(index):\n",
    "        try:\n",
    "            logger.debug(f\"Showing node at index {index}\")\n",
    "            node_with_score = nodes_with_score[index]\n",
    "            formatted_metadata = format_metadata(node_with_score.metadata)\n",
    "            filename = os.path.basename(node_with_score.metadata['path'])\n",
    "            return (\n",
    "                node_with_score.get_content(),\n",
    "                f\"Retriever Source: {node_with_score.metadata['retriever_source']}\",\n",
    "                f\"Content Source: {filename}\",\n",
    "                f\"Score: {node_with_score.get_score():.4f}\",\n",
    "                formatted_metadata,\n",
    "                f\"Node {index + 1} of {len(nodes_with_score)}\",\n",
    "                index\n",
    "            )\n",
    "        except Exception as e:\n",
    "            logger.error(f\"Error displaying node: {str(e)}\")\n",
    "            logger.error(traceback.format_exc())\n",
    "            return \"Error displaying node\", \"Error\", \"Error\", \"Error\", \"Error formatting metadata\", f\"Error at index {index}\", index\n",
    "\n",
    "    def navigate(direction, current_index):\n",
    "        new_index = (int(current_index) + direction) % len(nodes_with_score)\n",
    "        return show_node(new_index)\n",
    "\n",
    "    with gr.Blocks() as iface:\n",
    "        gr.Markdown(f\"# {retriever_prompt}\")\n",
    "\n",
    "        current_index = gr.State(0)\n",
    "\n",
    "        with gr.Row():\n",
    "            prev_btn = gr.Button(\"Previous\")\n",
    "            next_btn = gr.Button(\"Next\")\n",
    "\n",
    "        node_text = gr.Textbox(label=\"Node Content\", lines=10)\n",
    "        retriever_source = gr.Markdown()\n",
    "        content_source = gr.Markdown()\n",
    "        score = gr.Markdown()\n",
    "        metadata = gr.Markdown()\n",
    "        index_display = gr.Markdown()\n",
    "\n",
    "        prev_btn.click(navigate, inputs=[gr.Number(-1), current_index],\n",
    "                       outputs=[node_text, retriever_source, content_source, score, metadata, index_display, current_index])\n",
    "        next_btn.click(navigate, inputs=[gr.Number(1), current_index],\n",
    "                       outputs=[node_text, retriever_source, content_source, score, metadata, index_display, current_index])\n",
    "\n",
    "        # Initialize with the first node\n",
    "        iface.load(show_node, inputs=[gr.Number(0)],\n",
    "                   outputs=[node_text, retriever_source, content_source, score, metadata, index_display, current_index])\n",
    "\n",
    "    return iface\n",
    "\n",
    "# Assuming nodes_with_score and retriever_prompt are already defined\n",
    "retriever_prompt = \"Cannabis cultivation guidance for ph at value 6.5; optimal range is 6.0-7.0. Includes actionable advice on adjustments if current value is outside optimal conditions.\"\n",
    "\n",
    "# Create and launch the interface\n",
    "iface = create_node_viewer(nodes_with_score, retriever_prompt)\n",
    "iface.launch(inline=True)"
   ]
  },
  {
   "cell_type": "code",
   "execution_count": null,
   "metadata": {},
   "outputs": [],
   "source": [
    "from IPython.display import display, clear_output, HTML\n",
    "\n",
    "def create_node_viewer(nodes_with_score, retriever_prompt):\n",
    "    current_index = 0\n",
    "\n",
    "    def show_prompt_and_node(index):\n",
    "        clear_output(wait=True)\n",
    "\n",
    "        # Display the retriever prompt\n",
    "        display(HTML(f\"<h3>Retriever Prompt:</h3><p>{retriever_prompt}</p><hr>\"))\n",
    "\n",
    "        node_with_score = nodes_with_score[index]\n",
    "        print(f\"Node {index + 1} of {len(nodes_with_score)}\")\n",
    "        print(f\"Score: {node_with_score.get_score():.4f}\")\n",
    "        print(\"\\nContent:\")\n",
    "        print(node_with_score.get_content())\n",
    "        print(\"\\nMetadata:\")\n",
    "        print(node_with_score.metadata)\n",
    "        print(\"\\nEnter 'n' for next, 'p' for previous, or 'q' to quit.\")\n",
    "\n",
    "    while True:\n",
    "        show_prompt_and_node(current_index)\n",
    "        user_input = input().lower()\n",
    "\n",
    "        if user_input == 'n':\n",
    "            current_index = (current_index + 1) % len(nodes_with_score)\n",
    "        elif user_input == 'p':\n",
    "            current_index = (current_index - 1) % len(nodes_with_score)\n",
    "        elif user_input == 'q':\n",
    "            break\n",
    "        else:\n",
    "            print(\"Invalid input. Please enter 'n', 'p', or 'q'.\")\n",
    "\n",
    "# Assuming nodes_with_score and retriever_prompt are already defined\n",
    "create_node_viewer(nodes_with_score, retriever_prompt)"
   ]
  }
 ],
 "metadata": {
  "kernelspec": {
   "display_name": ".venv",
   "language": "python",
   "name": "python3"
  },
  "language_info": {
   "codemirror_mode": {
    "name": "ipython",
    "version": 3
   },
   "file_extension": ".py",
   "mimetype": "text/x-python",
   "name": "python",
   "nbconvert_exporter": "python",
   "pygments_lexer": "ipython3",
   "version": "3.12.0"
  }
 },
 "nbformat": 4,
 "nbformat_minor": 2
}
