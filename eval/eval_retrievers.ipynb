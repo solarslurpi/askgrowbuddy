{
 "cells": [
  {
   "cell_type": "markdown",
   "metadata": {},
   "source": [
    "# Notebook Goal\n",
    "Evolve understanding of how each retriever returns nodes and what their scores mean relative to each other.\n",
    "- Given the different approaches to retrieval, does each retriever appear to be working as expected? Is the vector retriever returning the most semantically relevant?  Is the knowledge graph retriever returning reasonable resulsts?\n",
    "- How do the scores from one retriever relate/compare to the scores from another retriever?\n",
    "- How many nodes are duplicates?\n",
    "- Are the retrievers returning as many as set in similarity_top_k?\n",
    "- Is reranking working as expected?\n"
   ]
  },
  {
   "cell_type": "code",
   "execution_count": 2,
   "metadata": {},
   "outputs": [
    {
     "name": "stdout",
     "output_type": "stream",
     "text": [
      "c:\\Users\\happy\\Documents\\Projects\\askgrowbuddy\n"
     ]
    },
    {
     "name": "stderr",
     "output_type": "stream",
     "text": [
      "c:\\Users\\happy\\Documents\\Projects\\askgrowbuddy\\.venv\\Lib\\site-packages\\IPython\\core\\magics\\osm.py:417: UserWarning: This is now an optional IPython functionality, setting dhist requires you to install the `pickleshare` library.\n",
      "  self.shell.db['dhist'] = compress_dhist(dhist)[-100:]\n"
     ]
    },
    {
     "data": {
      "text/plain": [
       "'c:\\\\Users\\\\happy\\\\Documents\\\\Projects\\\\askgrowbuddy'"
      ]
     },
     "execution_count": 2,
     "metadata": {},
     "output_type": "execute_result"
    }
   ],
   "source": [
    "%cd ..\n",
    "%pwd  # To verify the current working directory"
   ]
  },
  {
   "cell_type": "markdown",
   "metadata": {},
   "source": [
    "Let's start by understanding the Obsidian Note to NodeWithScore transformation"
   ]
  },
  {
   "cell_type": "code",
   "execution_count": 17,
   "metadata": {},
   "outputs": [],
   "source": [
    "\n",
    "import os"
   ]
  },
  {
   "cell_type": "code",
   "execution_count": 18,
   "metadata": {},
   "outputs": [
    {
     "data": {
      "text/plain": [
       "'c:\\\\Users\\\\happy\\\\Documents\\\\Projects\\\\askgrowbuddy'"
      ]
     },
     "execution_count": 18,
     "metadata": {},
     "output_type": "execute_result"
    }
   ],
   "source": [
    "os.getcwd()"
   ]
  },
  {
   "cell_type": "code",
   "execution_count": 3,
   "metadata": {},
   "outputs": [
    {
     "name": "stdout",
     "output_type": "stream",
     "text": [
      "resource module not available on Windows\n"
     ]
    },
    {
     "name": "stderr",
     "output_type": "stream",
     "text": [
      "2024-10-18 10:28:52,531 - src.ingest_service - INFO - Attempting to get vector index for collection 'soil_test_knowledge' - c:\\Users\\happy\\Documents\\Projects\\askgrowbuddy\\src\\ingest_service.py:128\n",
      "2024-10-18 10:28:53,183 - src.ingest_service - INFO - Successfully loaded vector index for collection 'soil_test_knowledge' - c:\\Users\\happy\\Documents\\Projects\\askgrowbuddy\\src\\ingest_service.py:138\n"
     ]
    }
   ],
   "source": [
    "from src.ingest_service import IngestService\n",
    "ingest_service = IngestService()\n",
    "vector_index = ingest_service.get_vector_index('soil_test_knowledge')\n",
    "vector_retriever = vector_index.as_retriever(similarity_top_k=5)\n",
    "# Example:\n",
    "# retriever = vector_index.as_retriever(\n",
    "#     similarity_top_k=5,\n",
    "#     filters={\"category\": \"soil\"},\n",
    "#     alpha=0.5,\n",
    "#     vector_store_query_mode=\"hybrid\",\n",
    "#     include_text=True\n",
    "# )f\n"
   ]
  },
  {
   "cell_type": "code",
   "execution_count": 4,
   "metadata": {},
   "outputs": [],
   "source": [
    "retriever_prompt= \"The ph is at 6.9.  What is the optimal range for growing Cannabis?\""
   ]
  },
  {
   "cell_type": "code",
   "execution_count": 5,
   "metadata": {},
   "outputs": [],
   "source": [
    "nodes_with_score = vector_retriever.retrieve(retriever_prompt)\n"
   ]
  },
  {
   "cell_type": "code",
   "execution_count": 15,
   "metadata": {},
   "outputs": [
    {
     "data": {
      "text/plain": [
       "{}"
      ]
     },
     "execution_count": 15,
     "metadata": {},
     "output_type": "execute_result"
    }
   ],
   "source": [
    "nodes_with_score[0].metadata\n"
   ]
  },
  {
   "cell_type": "code",
   "execution_count": 8,
   "metadata": {},
   "outputs": [
    {
     "name": "stdout",
     "output_type": "stream",
     "text": [
      "* Running on local URL:  http://127.0.0.1:7876\n",
      "\n",
      "To create a public link, set `share=True` in `launch()`.\n"
     ]
    },
    {
     "data": {
      "text/html": [
       "<div><iframe src=\"http://127.0.0.1:7876/\" width=\"100%\" height=\"500\" allow=\"autoplay; camera; microphone; clipboard-read; clipboard-write;\" frameborder=\"0\" allowfullscreen></iframe></div>"
      ],
      "text/plain": [
       "<IPython.core.display.HTML object>"
      ]
     },
     "metadata": {},
     "output_type": "display_data"
    },
    {
     "data": {
      "text/plain": []
     },
     "execution_count": 8,
     "metadata": {},
     "output_type": "execute_result"
    },
    {
     "name": "stderr",
     "output_type": "stream",
     "text": [
      "2024-10-18 10:41:10,898 - node_view - ERROR - Error displaying node: 'path' - c:\\Users\\happy\\Documents\\Projects\\askgrowbuddy\\eval\\node_view.py:35\n",
      "Traceback (most recent call last):\n",
      "  File \"c:\\Users\\happy\\Documents\\Projects\\askgrowbuddy\\eval\\node_view.py\", line 24, in show_node\n",
      "    filename = os.path.basename(node_with_score.metadata['path'])\n",
      "                                ~~~~~~~~~~~~~~~~~~~~~~~~^^^^^^^^\n",
      "KeyError: 'path'\n"
     ]
    }
   ],
   "source": [
    "from node_view import launch_node_viewer\n",
    "launch_node_viewer(nodes_with_score, retriever_prompt)\n"
   ]
  }
 ],
 "metadata": {
  "kernelspec": {
   "display_name": ".venv",
   "language": "python",
   "name": "python3"
  },
  "language_info": {
   "codemirror_mode": {
    "name": "ipython",
    "version": 3
   },
   "file_extension": ".py",
   "mimetype": "text/x-python",
   "name": "python",
   "nbconvert_exporter": "python",
   "pygments_lexer": "ipython3",
   "version": "3.12.0"
  }
 },
 "nbformat": 4,
 "nbformat_minor": 2
}
