{
 "cells": [
  {
   "cell_type": "code",
   "execution_count": 20,
   "metadata": {},
   "outputs": [],
   "source": [
    "import os\n",
    "import cohere\n",
    "client = cohere.Client(api_key=os.getenv(\"COHERE_API_KEY\"))\n",
    "\n",
    "# Show example embedding a text sentence. then show some info on the embedding using cohere methods and properties.\n",
    "\n",
    "# Example text to embed\n",
    "text = \"This is an example sentence for embedding.\"\n",
    "\n",
    "# Get the embedding\n",
    "embedding = client.embed(texts=[text], model=\"embed-english-v3.0\", input_type=\"search_query\")\n"
   ]
  },
  {
   "cell_type": "code",
   "execution_count": 21,
   "metadata": {},
   "outputs": [
    {
     "data": {
      "text/html": [
       "<pre style=\"white-space:pre;overflow-x:auto;line-height:normal;font-family:Menlo,'DejaVu Sans Mono',consolas,'Courier New',monospace\"><span style=\"font-weight: bold\">{</span>\n",
       "    <span style=\"color: #008000; text-decoration-color: #008000\">'response_type'</span>: <span style=\"color: #008000; text-decoration-color: #008000\">'embeddings_floats'</span>,\n",
       "    <span style=\"color: #008000; text-decoration-color: #008000\">'id'</span>: <span style=\"color: #008000; text-decoration-color: #008000\">'131c17ee-f935-4601-af94-80265bf647cc'</span>,\n",
       "    <span style=\"color: #008000; text-decoration-color: #008000\">'embeddings'</span>: <span style=\"font-weight: bold\">[[</span><span style=\"color: #008080; text-decoration-color: #008080; font-weight: bold\">0.034606934</span>, <span style=\"color: #008080; text-decoration-color: #008080; font-weight: bold\">0.004501343</span>, <span style=\"color: #008080; text-decoration-color: #008080; font-weight: bold\">0.04840088</span>, <span style=\"color: #008080; text-decoration-color: #008080; font-weight: bold\">0.028381348</span>, <span style=\"color: #008080; text-decoration-color: #008080; font-weight: bold\">-0.015388489</span>, <span style=\"color: #008000; text-decoration-color: #008000\">'...'</span><span style=\"font-weight: bold\">]]</span>,\n",
       "    <span style=\"color: #008000; text-decoration-color: #008000\">'texts'</span>: <span style=\"font-weight: bold\">[</span><span style=\"color: #008000; text-decoration-color: #008000\">'this is an example sentence for embedding.'</span><span style=\"font-weight: bold\">]</span>,\n",
       "    <span style=\"color: #008000; text-decoration-color: #008000\">'meta'</span>: <span style=\"font-weight: bold\">{</span>\n",
       "        <span style=\"color: #008000; text-decoration-color: #008000\">'api_version'</span>: <span style=\"font-weight: bold\">{</span><span style=\"color: #008000; text-decoration-color: #008000\">'version'</span>: <span style=\"color: #008000; text-decoration-color: #008000\">'1'</span><span style=\"font-weight: bold\">}</span>,\n",
       "        <span style=\"color: #008000; text-decoration-color: #008000\">'billed_units'</span>: <span style=\"font-weight: bold\">{</span>\n",
       "            <span style=\"color: #008000; text-decoration-color: #008000\">'input_tokens'</span>: <span style=\"color: #008080; text-decoration-color: #008080; font-weight: bold\">10.0</span>,\n",
       "            <span style=\"color: #008000; text-decoration-color: #008000\">'output_tokens'</span>: <span style=\"color: #800080; text-decoration-color: #800080; font-style: italic\">None</span>,\n",
       "            <span style=\"color: #008000; text-decoration-color: #008000\">'search_units'</span>: <span style=\"color: #800080; text-decoration-color: #800080; font-style: italic\">None</span>,\n",
       "            <span style=\"color: #008000; text-decoration-color: #008000\">'classifications'</span>: <span style=\"color: #800080; text-decoration-color: #800080; font-style: italic\">None</span>\n",
       "        <span style=\"font-weight: bold\">}</span>,\n",
       "        <span style=\"color: #008000; text-decoration-color: #008000\">'warnings'</span>: <span style=\"font-weight: bold\">[]</span>\n",
       "    <span style=\"font-weight: bold\">}</span>\n",
       "<span style=\"font-weight: bold\">}</span>\n",
       "</pre>\n"
      ],
      "text/plain": [
       "\u001b[1m{\u001b[0m\n",
       "    \u001b[32m'response_type'\u001b[0m: \u001b[32m'embeddings_floats'\u001b[0m,\n",
       "    \u001b[32m'id'\u001b[0m: \u001b[32m'131c17ee-f935-4601-af94-80265bf647cc'\u001b[0m,\n",
       "    \u001b[32m'embeddings'\u001b[0m: \u001b[1m[\u001b[0m\u001b[1m[\u001b[0m\u001b[1;36m0.034606934\u001b[0m, \u001b[1;36m0.004501343\u001b[0m, \u001b[1;36m0.04840088\u001b[0m, \u001b[1;36m0.028381348\u001b[0m, \u001b[1;36m-0.015388489\u001b[0m, \u001b[32m'...'\u001b[0m\u001b[1m]\u001b[0m\u001b[1m]\u001b[0m,\n",
       "    \u001b[32m'texts'\u001b[0m: \u001b[1m[\u001b[0m\u001b[32m'this is an example sentence for embedding.'\u001b[0m\u001b[1m]\u001b[0m,\n",
       "    \u001b[32m'meta'\u001b[0m: \u001b[1m{\u001b[0m\n",
       "        \u001b[32m'api_version'\u001b[0m: \u001b[1m{\u001b[0m\u001b[32m'version'\u001b[0m: \u001b[32m'1'\u001b[0m\u001b[1m}\u001b[0m,\n",
       "        \u001b[32m'billed_units'\u001b[0m: \u001b[1m{\u001b[0m\n",
       "            \u001b[32m'input_tokens'\u001b[0m: \u001b[1;36m10.0\u001b[0m,\n",
       "            \u001b[32m'output_tokens'\u001b[0m: \u001b[3;35mNone\u001b[0m,\n",
       "            \u001b[32m'search_units'\u001b[0m: \u001b[3;35mNone\u001b[0m,\n",
       "            \u001b[32m'classifications'\u001b[0m: \u001b[3;35mNone\u001b[0m\n",
       "        \u001b[1m}\u001b[0m,\n",
       "        \u001b[32m'warnings'\u001b[0m: \u001b[1m[\u001b[0m\u001b[1m]\u001b[0m\n",
       "    \u001b[1m}\u001b[0m\n",
       "\u001b[1m}\u001b[0m\n"
      ]
     },
     "metadata": {},
     "output_type": "display_data"
    }
   ],
   "source": [
    "from rich.console import Console\n",
    "from rich.pretty import Pretty\n",
    "\n",
    "console = Console()\n",
    "\n",
    "# Assuming 'response' is your EmbeddingsFloatsEmbedResponse object\n",
    "truncated_response = embedding.dict()\n",
    "truncated_response['embeddings'] = [emb[:5] + ['...'] for emb in truncated_response['embeddings']]\n",
    "\n",
    "console.print(Pretty(truncated_response))"
   ]
  },
  {
   "cell_type": "code",
   "execution_count": 22,
   "metadata": {},
   "outputs": [
    {
     "name": "stderr",
     "output_type": "stream",
     "text": [
      "Insert of existing embedding ID: 1\n",
      "Add of existing embedding ID: 1\n"
     ]
    },
    {
     "data": {
      "text/html": [
       "<pre style=\"white-space:pre;overflow-x:auto;line-height:normal;font-family:Menlo,'DejaVu Sans Mono',consolas,'Courier New',monospace\">Query results:\n",
       "<span style=\"font-weight: bold\">{</span>\n",
       "    <span style=\"color: #008000; text-decoration-color: #008000\">'ids'</span>: <span style=\"font-weight: bold\">[[</span><span style=\"color: #008000; text-decoration-color: #008000\">'1'</span><span style=\"font-weight: bold\">]]</span>,\n",
       "    <span style=\"color: #008000; text-decoration-color: #008000\">'distances'</span>: <span style=\"font-weight: bold\">[[</span><span style=\"color: #008080; text-decoration-color: #008080; font-weight: bold\">1.8203496932983398</span><span style=\"font-weight: bold\">]]</span>,\n",
       "    <span style=\"color: #008000; text-decoration-color: #008000\">'metadatas'</span>: <span style=\"font-weight: bold\">[[{</span><span style=\"color: #008000; text-decoration-color: #008000\">'source'</span>: <span style=\"color: #008000; text-decoration-color: #008000\">'example'</span><span style=\"font-weight: bold\">}]]</span>,\n",
       "    <span style=\"color: #008000; text-decoration-color: #008000\">'embeddings'</span>: <span style=\"color: #800080; text-decoration-color: #800080; font-style: italic\">None</span>,\n",
       "    <span style=\"color: #008000; text-decoration-color: #008000\">'documents'</span>: <span style=\"font-weight: bold\">[[</span><span style=\"color: #008000; text-decoration-color: #008000\">'This is an example sentence for embedding.'</span><span style=\"font-weight: bold\">]]</span>,\n",
       "    <span style=\"color: #008000; text-decoration-color: #008000\">'uris'</span>: <span style=\"color: #800080; text-decoration-color: #800080; font-style: italic\">None</span>,\n",
       "    <span style=\"color: #008000; text-decoration-color: #008000\">'data'</span>: <span style=\"color: #800080; text-decoration-color: #800080; font-style: italic\">None</span>,\n",
       "    <span style=\"color: #008000; text-decoration-color: #008000\">'included'</span>: <span style=\"font-weight: bold\">[</span><span style=\"color: #008000; text-decoration-color: #008000\">'metadatas'</span>, <span style=\"color: #008000; text-decoration-color: #008000\">'documents'</span>, <span style=\"color: #008000; text-decoration-color: #008000\">'distances'</span><span style=\"font-weight: bold\">]</span>\n",
       "<span style=\"font-weight: bold\">}</span>\n",
       "</pre>\n"
      ],
      "text/plain": [
       "Query results:\n",
       "\u001b[1m{\u001b[0m\n",
       "    \u001b[32m'ids'\u001b[0m: \u001b[1m[\u001b[0m\u001b[1m[\u001b[0m\u001b[32m'1'\u001b[0m\u001b[1m]\u001b[0m\u001b[1m]\u001b[0m,\n",
       "    \u001b[32m'distances'\u001b[0m: \u001b[1m[\u001b[0m\u001b[1m[\u001b[0m\u001b[1;36m1.8203496932983398\u001b[0m\u001b[1m]\u001b[0m\u001b[1m]\u001b[0m,\n",
       "    \u001b[32m'metadatas'\u001b[0m: \u001b[1m[\u001b[0m\u001b[1m[\u001b[0m\u001b[1m{\u001b[0m\u001b[32m'source'\u001b[0m: \u001b[32m'example'\u001b[0m\u001b[1m}\u001b[0m\u001b[1m]\u001b[0m\u001b[1m]\u001b[0m,\n",
       "    \u001b[32m'embeddings'\u001b[0m: \u001b[3;35mNone\u001b[0m,\n",
       "    \u001b[32m'documents'\u001b[0m: \u001b[1m[\u001b[0m\u001b[1m[\u001b[0m\u001b[32m'This is an example sentence for embedding.'\u001b[0m\u001b[1m]\u001b[0m\u001b[1m]\u001b[0m,\n",
       "    \u001b[32m'uris'\u001b[0m: \u001b[3;35mNone\u001b[0m,\n",
       "    \u001b[32m'data'\u001b[0m: \u001b[3;35mNone\u001b[0m,\n",
       "    \u001b[32m'included'\u001b[0m: \u001b[1m[\u001b[0m\u001b[32m'metadatas'\u001b[0m, \u001b[32m'documents'\u001b[0m, \u001b[32m'distances'\u001b[0m\u001b[1m]\u001b[0m\n",
       "\u001b[1m}\u001b[0m\n"
      ]
     },
     "metadata": {},
     "output_type": "display_data"
    }
   ],
   "source": [
    "import chromadb\n",
    "from chromadb.utils import embedding_functions\n",
    "import cohere\n",
    "import os\n",
    "\n",
    "# Initialize Chroma client\n",
    "chroma_client = chromadb.Client()\n",
    "\n",
    "# Create a custom Cohere embedding function that returns lists\n",
    "class CohereEmbeddingFunction(embedding_functions.EmbeddingFunction):\n",
    "    def __init__(self, api_key, model_name=\"embed-english-v3.0\"):\n",
    "        self.client = cohere.Client(api_key=api_key)\n",
    "        self.model_name = model_name\n",
    "\n",
    "    def __call__(self, texts):\n",
    "        embeddings = self.client.embed(texts=texts, model=self.model_name, input_type=\"search_document\").embeddings\n",
    "        return [list(embedding) for embedding in embeddings]  # Convert tuples to lists\n",
    "\n",
    "# Create a Cohere embedding function\n",
    "cohere_ef = CohereEmbeddingFunction(api_key=os.getenv(\"COHERE_API_KEY\"))\n",
    "\n",
    "# Use get_or_create=True to either get the existing collection or create a new one\n",
    "collection = chroma_client.create_collection(\n",
    "    name=\"cohere_embeddings\",\n",
    "    embedding_function=cohere_ef,\n",
    "    get_or_create=True\n",
    ")\n",
    "\n",
    "# Example: Add a document to the collection\n",
    "collection.add(\n",
    "    documents=[\"The ideal ph for cannabis is 6.8\"],\n",
    "    metadatas=[{\"source\": \"example\"}],\n",
    "    ids=[\"1\"]\n",
    ")\n",
    "\n",
    "# Example: Query the collection\n",
    "results = collection.query(\n",
    "    query_texts=[\"The ideal ph for cannabis is 6.8\"],\n",
    "    n_results=1\n",
    ")\n",
    "\n",
    "print(\"Query results:\", results)"
   ]
  },
  {
   "cell_type": "code",
   "execution_count": 18,
   "metadata": {},
   "outputs": [
    {
     "data": {
      "text/html": [
       "<pre style=\"white-space:pre;overflow-x:auto;line-height:normal;font-family:Menlo,'DejaVu Sans Mono',consolas,'Courier New',monospace\">Cosine Similarity: <span style=\"color: #008080; text-decoration-color: #008080; font-weight: bold\">0.9913253537096989</span>\n",
       "</pre>\n"
      ],
      "text/plain": [
       "Cosine Similarity: \u001b[1;36m0.9913253537096989\u001b[0m\n"
      ]
     },
     "metadata": {},
     "output_type": "display_data"
    },
    {
     "data": {
      "text/html": [
       "<pre style=\"white-space:pre;overflow-x:auto;line-height:normal;font-family:Menlo,'DejaVu Sans Mono',consolas,'Courier New',monospace\">Distance: <span style=\"color: #008080; text-decoration-color: #008080; font-weight: bold\">0.008674646290301125</span>\n",
       "</pre>\n"
      ],
      "text/plain": [
       "Distance: \u001b[1;36m0.008674646290301125\u001b[0m\n"
      ]
     },
     "metadata": {},
     "output_type": "display_data"
    },
    {
     "data": {
      "text/html": [
       "<pre style=\"white-space:pre;overflow-x:auto;line-height:normal;font-family:Menlo,'DejaVu Sans Mono',consolas,'Courier New',monospace\">Euclidean Distance: <span style=\"color: #008080; text-decoration-color: #008080; font-weight: bold\">0.13168521047423537</span>\n",
       "</pre>\n"
      ],
      "text/plain": [
       "Euclidean Distance: \u001b[1;36m0.13168521047423537\u001b[0m\n"
      ]
     },
     "metadata": {},
     "output_type": "display_data"
    }
   ],
   "source": [
    "import cohere\n",
    "import numpy as np\n",
    "import os\n",
    "\n",
    "# Initialize Cohere client\n",
    "cohere_client = cohere.Client(api_key=os.getenv(\"COHERE_API_KEY\"))\n",
    "\n",
    "# Get embeddings\n",
    "query = \"The ideal ph for cannabis is 6.8.\"\n",
    "document = \"The ideal ph for cannabis is 6.8\"\n",
    "\n",
    "query_embedding = cohere_client.embed(texts=[query], model=\"embed-english-v3.0\", input_type=\"search_query\").embeddings[0]\n",
    "doc_embedding = cohere_client.embed(texts=[document], model=\"embed-english-v3.0\", input_type=\"search_query\").embeddings[0]\n",
    "\n",
    "# Calculate cosine similarity\n",
    "def cosine_similarity(a, b):\n",
    "    return np.dot(a, b) / (np.linalg.norm(a) * np.linalg.norm(b))\n",
    "\n",
    "similarity = cosine_similarity(query_embedding, doc_embedding)\n",
    "distance = 1 - similarity\n",
    "\n",
    "print(f\"Cosine Similarity: {similarity}\")\n",
    "print(f\"Distance: {distance}\")\n",
    "\n",
    "# Calculate Euclidean distance\n",
    "euclidean_distance = np.linalg.norm(np.array(query_embedding) - np.array(doc_embedding))\n",
    "print(f\"Euclidean Distance: {euclidean_distance}\")"
   ]
  },
  {
   "cell_type": "code",
   "execution_count": 19,
   "metadata": {},
   "outputs": [
    {
     "data": {
      "text/html": [
       "<pre style=\"white-space:pre;overflow-x:auto;line-height:normal;font-family:Menlo,'DejaVu Sans Mono',consolas,'Courier New',monospace\">Top <span style=\"color: #008080; text-decoration-color: #008080; font-weight: bold\">3</span> results for query: <span style=\"color: #008000; text-decoration-color: #008000\">'What'</span>s the best pH level for growing marijuana?'\n",
       "</pre>\n"
      ],
      "text/plain": [
       "Top \u001b[1;36m3\u001b[0m results for query: \u001b[32m'What'\u001b[0ms the best pH level for growing marijuana?'\n"
      ]
     },
     "metadata": {},
     "output_type": "display_data"
    },
    {
     "data": {
      "text/html": [
       "<pre style=\"white-space:pre;overflow-x:auto;line-height:normal;font-family:Menlo,'DejaVu Sans Mono',consolas,'Courier New',monospace\"><span style=\"color: #008080; text-decoration-color: #008080; font-weight: bold\">1</span>. Document: The ideal pH for cannabis is <span style=\"color: #008080; text-decoration-color: #008080; font-weight: bold\">6.8</span>\n",
       "</pre>\n"
      ],
      "text/plain": [
       "\u001b[1;36m1\u001b[0m. Document: The ideal pH for cannabis is \u001b[1;36m6.8\u001b[0m\n"
      ]
     },
     "metadata": {},
     "output_type": "display_data"
    },
    {
     "data": {
      "text/html": [
       "<pre style=\"white-space:pre;overflow-x:auto;line-height:normal;font-family:Menlo,'DejaVu Sans Mono',consolas,'Courier New',monospace\">   Distance: <span style=\"color: #008080; text-decoration-color: #008080; font-weight: bold\">0.5664966702461243</span>\n",
       "</pre>\n"
      ],
      "text/plain": [
       "   Distance: \u001b[1;36m0.5664966702461243\u001b[0m\n"
      ]
     },
     "metadata": {},
     "output_type": "display_data"
    },
    {
     "data": {
      "text/html": [
       "<pre style=\"white-space:pre;overflow-x:auto;line-height:normal;font-family:Menlo,'DejaVu Sans Mono',consolas,'Courier New',monospace\">\n",
       "</pre>\n"
      ],
      "text/plain": [
       "\n"
      ]
     },
     "metadata": {},
     "output_type": "display_data"
    },
    {
     "data": {
      "text/html": [
       "<pre style=\"white-space:pre;overflow-x:auto;line-height:normal;font-family:Menlo,'DejaVu Sans Mono',consolas,'Courier New',monospace\"><span style=\"color: #008080; text-decoration-color: #008080; font-weight: bold\">2</span>. Document: Hydroponics can lead to faster growth in cannabis plants\n",
       "</pre>\n"
      ],
      "text/plain": [
       "\u001b[1;36m2\u001b[0m. Document: Hydroponics can lead to faster growth in cannabis plants\n"
      ]
     },
     "metadata": {},
     "output_type": "display_data"
    },
    {
     "data": {
      "text/html": [
       "<pre style=\"white-space:pre;overflow-x:auto;line-height:normal;font-family:Menlo,'DejaVu Sans Mono',consolas,'Courier New',monospace\">   Distance: <span style=\"color: #008080; text-decoration-color: #008080; font-weight: bold\">1.077615737915039</span>\n",
       "</pre>\n"
      ],
      "text/plain": [
       "   Distance: \u001b[1;36m1.077615737915039\u001b[0m\n"
      ]
     },
     "metadata": {},
     "output_type": "display_data"
    },
    {
     "data": {
      "text/html": [
       "<pre style=\"white-space:pre;overflow-x:auto;line-height:normal;font-family:Menlo,'DejaVu Sans Mono',consolas,'Courier New',monospace\">\n",
       "</pre>\n"
      ],
      "text/plain": [
       "\n"
      ]
     },
     "metadata": {},
     "output_type": "display_data"
    },
    {
     "data": {
      "text/html": [
       "<pre style=\"white-space:pre;overflow-x:auto;line-height:normal;font-family:Menlo,'DejaVu Sans Mono',consolas,'Courier New',monospace\"><span style=\"color: #008080; text-decoration-color: #008080; font-weight: bold\">3</span>. Document: Cannabis requires a lot of nitrogen during vegetative growth\n",
       "</pre>\n"
      ],
      "text/plain": [
       "\u001b[1;36m3\u001b[0m. Document: Cannabis requires a lot of nitrogen during vegetative growth\n"
      ]
     },
     "metadata": {},
     "output_type": "display_data"
    },
    {
     "data": {
      "text/html": [
       "<pre style=\"white-space:pre;overflow-x:auto;line-height:normal;font-family:Menlo,'DejaVu Sans Mono',consolas,'Courier New',monospace\">   Distance: <span style=\"color: #008080; text-decoration-color: #008080; font-weight: bold\">1.1733460426330566</span>\n",
       "</pre>\n"
      ],
      "text/plain": [
       "   Distance: \u001b[1;36m1.1733460426330566\u001b[0m\n"
      ]
     },
     "metadata": {},
     "output_type": "display_data"
    },
    {
     "data": {
      "text/html": [
       "<pre style=\"white-space:pre;overflow-x:auto;line-height:normal;font-family:Menlo,'DejaVu Sans Mono',consolas,'Courier New',monospace\">\n",
       "</pre>\n"
      ],
      "text/plain": [
       "\n"
      ]
     },
     "metadata": {},
     "output_type": "display_data"
    }
   ],
   "source": [
    "import chromadb\n",
    "from chromadb.utils import embedding_functions\n",
    "import cohere\n",
    "import os\n",
    "\n",
    "# Initialize Chroma client\n",
    "chroma_client = chromadb.Client()\n",
    "\n",
    "# Create a custom Cohere embedding function\n",
    "class CohereEmbeddingFunction(embedding_functions.EmbeddingFunction):\n",
    "    def __init__(self, api_key, model_name=\"embed-english-v3.0\"):\n",
    "        self.client = cohere.Client(api_key=api_key)\n",
    "        self.model_name = model_name\n",
    "\n",
    "    def __call__(self, texts):\n",
    "        # Use search_document for storing, search_query for querying\n",
    "        input_type = \"search_document\" if len(texts) > 1 or len(texts[0].split()) > 10 else \"search_query\"\n",
    "        embeddings = self.client.embed(texts=texts, model=self.model_name, input_type=input_type).embeddings\n",
    "        return [list(embedding) for embedding in embeddings]\n",
    "\n",
    "# Create a Cohere embedding function\n",
    "cohere_ef = CohereEmbeddingFunction(api_key=os.getenv(\"COHERE_API_KEY\"))\n",
    "\n",
    "# Get or create a collection\n",
    "collection = chroma_client.get_or_create_collection(\n",
    "    name=\"cannabis_info\",\n",
    "    embedding_function=cohere_ef\n",
    ")\n",
    "\n",
    "# Add some documents to the collection (if not already added)\n",
    "documents = [\n",
    "    \"The ideal pH for cannabis is 6.8\",\n",
    "    \"Cannabis requires a lot of nitrogen during vegetative growth\",\n",
    "    \"Indica strains typically have broader leaves than Sativa\",\n",
    "    \"LED lights are energy-efficient for growing cannabis\",\n",
    "    \"Hydroponics can lead to faster growth in cannabis plants\"\n",
    "]\n",
    "\n",
    "collection.add(\n",
    "    documents=documents,\n",
    "    ids=[f\"doc_{i}\" for i in range(len(documents))]\n",
    ")\n",
    "\n",
    "# Query for the top k similar items\n",
    "k = 3  # Change this to get more or fewer results\n",
    "query_text = \"What's the best pH level for growing marijuana?\"\n",
    "\n",
    "results = collection.query(\n",
    "    query_texts=[query_text],\n",
    "    n_results=k\n",
    ")\n",
    "\n",
    "print(f\"Top {k} results for query: '{query_text}'\")\n",
    "for i, (doc, distance) in enumerate(zip(results['documents'][0], results['distances'][0]), 1):\n",
    "    print(f\"{i}. Document: {doc}\")\n",
    "    print(f\"   Distance: {distance}\")\n",
    "    print()"
   ]
  },
  {
   "cell_type": "code",
   "execution_count": null,
   "metadata": {},
   "outputs": [],
   "source": [
    "import chromadb\n",
    "from chromadb.utils.embedding_functions import SentenceTransformerEmbeddingFunction\n",
    "\n",
    "embedding_function = SentenceTransformerEmbeddingFunction()\n",
    "print(embedding_function([token_split_texts[10]]))"
   ]
  }
 ],
 "metadata": {
  "kernelspec": {
   "display_name": ".venv",
   "language": "python",
   "name": "python3"
  },
  "language_info": {
   "codemirror_mode": {
    "name": "ipython",
    "version": 3
   },
   "file_extension": ".py",
   "mimetype": "text/x-python",
   "name": "python",
   "nbconvert_exporter": "python",
   "pygments_lexer": "ipython3",
   "version": "3.12.0"
  }
 },
 "nbformat": 4,
 "nbformat_minor": 2
}
