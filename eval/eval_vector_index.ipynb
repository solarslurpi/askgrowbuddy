{
 "cells": [
  {
   "cell_type": "markdown",
   "metadata": {},
   "source": [
    "# The Start\n",
    "We start with an already created vectore indox.\n",
    "Let's get to know how the vector index works by exploring the path an Obsidian note takes from loading through indexing through being retrieved.\n",
    "\n",
    "The document we'll be using, 'Bluelab Pulse Meter Review.md', includes frontmatter as well as transcribed text from a YouTube video.  This note was chosen because it has a moderate length and rich metadata fields.\n",
    "\n",
    "The `load_obsidian_notes` method is used to load the note into a list of LlamaIndex Documents. In this case, there is only one document.  Notice the metadata. There are some interesting fields such as the `description` which came from the frontmatter of the Obsidian note.\n"
   ]
  },
  {
   "cell_type": "code",
   "execution_count": 1,
   "metadata": {},
   "outputs": [
    {
     "name": "stdout",
     "output_type": "stream",
     "text": [
      "c:\\Users\\happy\\Documents\\Projects\\askgrowbuddy\n"
     ]
    },
    {
     "name": "stderr",
     "output_type": "stream",
     "text": [
      "c:\\Users\\happy\\Documents\\Projects\\askgrowbuddy\\.venv\\Lib\\site-packages\\IPython\\core\\magics\\osm.py:417: UserWarning: This is now an optional IPython functionality, setting dhist requires you to install the `pickleshare` library.\n",
      "  self.shell.db['dhist'] = compress_dhist(dhist)[-100:]\n"
     ]
    },
    {
     "data": {
      "text/plain": [
       "'c:\\\\Users\\\\happy\\\\Documents\\\\Projects\\\\askgrowbuddy'"
      ]
     },
     "execution_count": 1,
     "metadata": {},
     "output_type": "execute_result"
    }
   ],
   "source": [
    "%cd ..\n",
    "%pwd  # To verify the current working directory"
   ]
  },
  {
   "cell_type": "code",
   "execution_count": 2,
   "metadata": {},
   "outputs": [],
   "source": [
    "from rich import print"
   ]
  },
  {
   "cell_type": "code",
   "execution_count": 3,
   "metadata": {},
   "outputs": [
    {
     "name": "stdout",
     "output_type": "stream",
     "text": [
      "resource module not available on Windows\n"
     ]
    },
    {
     "data": {
      "text/html": [
       "<pre style=\"white-space:pre;overflow-x:auto;line-height:normal;font-family:Menlo,'DejaVu Sans Mono',consolas,'Courier New',monospace\"><span style=\"font-style: italic\">                                          Document Statistics                                           </span>\n",
       "┏━━━━━━━━━━━━━━━━━━━━━━━━┳━━━━━━━━━━━━━━━━━━━━━━━━━━━━━━━━━━━━━━━━━━━━━━━━━━━━━━━━━━━━━━━━━━━━━━━━━━━━━┓\n",
       "┃<span style=\"font-weight: bold\"> Statistic              </span>┃<span style=\"font-weight: bold\"> Value                                                                       </span>┃\n",
       "┡━━━━━━━━━━━━━━━━━━━━━━━━╇━━━━━━━━━━━━━━━━━━━━━━━━━━━━━━━━━━━━━━━━━━━━━━━━━━━━━━━━━━━━━━━━━━━━━━━━━━━━━┩\n",
       "│<span style=\"color: #008080; text-decoration-color: #008080\"> Document Type          </span>│<span style=\"color: #800080; text-decoration-color: #800080\"> Document                                                                    </span>│\n",
       "│<span style=\"color: #008080; text-decoration-color: #008080\"> Total Documents        </span>│<span style=\"color: #800080; text-decoration-color: #800080\"> 71                                                                          </span>│\n",
       "│<span style=\"color: #008080; text-decoration-color: #008080\"> Avg Content Length     </span>│<span style=\"color: #800080; text-decoration-color: #800080\"> 14462.8                                                                     </span>│\n",
       "│<span style=\"color: #008080; text-decoration-color: #008080\"> All Docs Have Content  </span>│<span style=\"color: #800080; text-decoration-color: #800080\"> True                                                                        </span>│\n",
       "│<span style=\"color: #008080; text-decoration-color: #008080\"> All Docs Have Metadata </span>│<span style=\"color: #800080; text-decoration-color: #800080\"> True                                                                        </span>│\n",
       "│<span style=\"color: #008080; text-decoration-color: #008080\"> Shortest Doc Length    </span>│<span style=\"color: #800080; text-decoration-color: #800080\"> 312                                                                         </span>│\n",
       "│<span style=\"color: #008080; text-decoration-color: #008080\"> Longest Doc Length     </span>│<span style=\"color: #800080; text-decoration-color: #800080\"> 228081                                                                      </span>│\n",
       "│<span style=\"color: #008080; text-decoration-color: #008080\"> Metadata Fields        </span>│<span style=\"color: #800080; text-decoration-color: #800080\"> </span><span style=\"color: #800080; text-decoration-color: #800080; font-style: italic\">                              Metadata Fields                              </span><span style=\"color: #800080; text-decoration-color: #800080\"> </span>│\n",
       "│<span style=\"color: #008080; text-decoration-color: #008080\">                        </span>│<span style=\"color: #800080; text-decoration-color: #800080\"> ┏━━━━━━━━━━━━━━━━━━━━┳━━━━━━━━━━━━━━━━━━━━━━━━━━━━━━━━━━━━━━━━━━━━━━━━━━━━┓ </span>│\n",
       "│<span style=\"color: #008080; text-decoration-color: #008080\">                        </span>│<span style=\"color: #800080; text-decoration-color: #800080\"> ┃</span><span style=\"color: #800080; text-decoration-color: #800080; font-weight: bold\"> Field              </span><span style=\"color: #800080; text-decoration-color: #800080\">┃</span><span style=\"color: #800080; text-decoration-color: #800080; font-weight: bold\"> Unique Values                                      </span><span style=\"color: #800080; text-decoration-color: #800080\">┃ </span>│\n",
       "│<span style=\"color: #008080; text-decoration-color: #008080\">                        </span>│<span style=\"color: #800080; text-decoration-color: #800080\"> ┡━━━━━━━━━━━━━━━━━━━━╇━━━━━━━━━━━━━━━━━━━━━━━━━━━━━━━━━━━━━━━━━━━━━━━━━━━━┩ </span>│\n",
       "│<span style=\"color: #008080; text-decoration-color: #008080\">                        </span>│<span style=\"color: #800080; text-decoration-color: #800080\"> │</span><span style=\"color: #008080; text-decoration-color: #008080\"> audio_quality      </span><span style=\"color: #800080; text-decoration-color: #800080\">│</span><span style=\"color: #008000; text-decoration-color: #008000\"> large, medium, small, tiny                         </span><span style=\"color: #800080; text-decoration-color: #800080\">│ </span>│\n",
       "│<span style=\"color: #008080; text-decoration-color: #008080\">                        </span>│<span style=\"color: #800080; text-decoration-color: #800080\"> │</span><span style=\"color: #008080; text-decoration-color: #008080\"> audio_source       </span><span style=\"color: #800080; text-decoration-color: #800080\">│</span><span style=\"color: #008000; text-decoration-color: #008000\"> Brandon_soil_report_review.mp3, Bryant 1.10.24 ... </span><span style=\"color: #800080; text-decoration-color: #800080\">│ </span>│\n",
       "│<span style=\"color: #008080; text-decoration-color: #008080\">                        </span>│<span style=\"color: #800080; text-decoration-color: #800080\"> │</span><span style=\"color: #008080; text-decoration-color: #008080\"> channel            </span><span style=\"color: #800080; text-decoration-color: #800080\">│</span><span style=\"color: #008000; text-decoration-color: #008000\"> , Future Cannabis Project, KIS Organics, e-GRO ... </span><span style=\"color: #800080; text-decoration-color: #800080\">│ </span>│\n",
       "│<span style=\"color: #008080; text-decoration-color: #008080\">                        </span>│<span style=\"color: #800080; text-decoration-color: #800080\"> │</span><span style=\"color: #008080; text-decoration-color: #008080\"> compute_type       </span><span style=\"color: #800080; text-decoration-color: #800080\">│</span><span style=\"color: #008000; text-decoration-color: #008000\"> int8                                               </span><span style=\"color: #800080; text-decoration-color: #800080\">│ </span>│\n",
       "│<span style=\"color: #008080; text-decoration-color: #008080\">                        </span>│<span style=\"color: #800080; text-decoration-color: #800080\"> │</span><span style=\"color: #008080; text-decoration-color: #008080\"> created            </span><span style=\"color: #800080; text-decoration-color: #800080\">│</span><span style=\"color: #008000; text-decoration-color: #008000\"> 1709997835.806, 1710952360.804, 1711126509.142,... </span><span style=\"color: #800080; text-decoration-color: #800080\">│ </span>│\n",
       "│<span style=\"color: #008080; text-decoration-color: #008080\">                        </span>│<span style=\"color: #800080; text-decoration-color: #800080\"> │</span><span style=\"color: #008080; text-decoration-color: #008080\"> description        </span><span style=\"color: #800080; text-decoration-color: #800080\">│</span><span style=\"color: #008000; text-decoration-color: #008000\"> , In this e-GRO Webinar Patrick Veazie and Dr. ... </span><span style=\"color: #800080; text-decoration-color: #800080\">│ </span>│\n",
       "│<span style=\"color: #008080; text-decoration-color: #008080\">                        </span>│<span style=\"color: #800080; text-decoration-color: #800080\"> │</span><span style=\"color: #008080; text-decoration-color: #008080\"> download_time      </span><span style=\"color: #800080; text-decoration-color: #800080\">│</span><span style=\"color: #008000; text-decoration-color: #008000\"> 00:00:00, 00:00:03, 00:00:07, 00:00:15, 00:00:1... </span><span style=\"color: #800080; text-decoration-color: #800080\">│ </span>│\n",
       "│<span style=\"color: #008080; text-decoration-color: #008080\">                        </span>│<span style=\"color: #800080; text-decoration-color: #800080\"> │</span><span style=\"color: #008080; text-decoration-color: #008080\"> duration           </span><span style=\"color: #800080; text-decoration-color: #800080\">│</span><span style=\"color: #008000; text-decoration-color: #008000\"> 00:01:26, 00:07:03, 00:07:33, 00:26:21, 00:52:2... </span><span style=\"color: #800080; text-decoration-color: #800080\">│ </span>│\n",
       "│<span style=\"color: #008080; text-decoration-color: #008080\">                        </span>│<span style=\"color: #800080; text-decoration-color: #800080\"> │</span><span style=\"color: #008080; text-decoration-color: #008080\"> excalidraw-plugin  </span><span style=\"color: #800080; text-decoration-color: #800080\">│</span><span style=\"color: #008000; text-decoration-color: #008000\"> parsed                                             </span><span style=\"color: #800080; text-decoration-color: #800080\">│ </span>│\n",
       "│<span style=\"color: #008080; text-decoration-color: #008080\">                        </span>│<span style=\"color: #800080; text-decoration-color: #800080\"> │</span><span style=\"color: #008080; text-decoration-color: #008080\"> last_accessed      </span><span style=\"color: #800080; text-decoration-color: #800080\">│</span><span style=\"color: #008000; text-decoration-color: #008000\"> 1714514672.501, 1714515042.959, 1714613034.834,... </span><span style=\"color: #800080; text-decoration-color: #800080\">│ </span>│\n",
       "│<span style=\"color: #008080; text-decoration-color: #008080\">                        </span>│<span style=\"color: #800080; text-decoration-color: #800080\"> │</span><span style=\"color: #008080; text-decoration-color: #008080\"> last_modified      </span><span style=\"color: #800080; text-decoration-color: #800080\">│</span><span style=\"color: #008000; text-decoration-color: #008000\"> 1703549011.503, 1705615966.523, 1706549516.547,... </span><span style=\"color: #800080; text-decoration-color: #800080\">│ </span>│\n",
       "│<span style=\"color: #008080; text-decoration-color: #008080\">                        </span>│<span style=\"color: #800080; text-decoration-color: #800080\"> │</span><span style=\"color: #008080; text-decoration-color: #008080\"> path               </span><span style=\"color: #800080; text-decoration-color: #800080\">│</span><span style=\"color: #008000; text-decoration-color: #008000\"> G:\\My Drive\\Audios_To_Knowledge\\knowledge\\AskGr... </span><span style=\"color: #800080; text-decoration-color: #800080\">│ </span>│\n",
       "│<span style=\"color: #008080; text-decoration-color: #008080\">                        </span>│<span style=\"color: #800080; text-decoration-color: #800080\"> │</span><span style=\"color: #008080; text-decoration-color: #008080\"> source             </span><span style=\"color: #800080; text-decoration-color: #800080\">│</span><span style=\"color: #008000; text-decoration-color: #008000\"> 09-11-2024 Soil Test Analysis Attempt.md, 2024-... </span><span style=\"color: #800080; text-decoration-color: #800080\">│ </span>│\n",
       "│<span style=\"color: #008080; text-decoration-color: #008080\">                        </span>│<span style=\"color: #800080; text-decoration-color: #800080\"> │</span><span style=\"color: #008080; text-decoration-color: #008080\"> tags               </span><span style=\"color: #800080; text-decoration-color: #800080\">│</span><span style=\"color: #008000; text-decoration-color: #008000\"> , #KIS,#soil_test, D2B3FFA6, M3,SP, M3,SP,satur... </span><span style=\"color: #800080; text-decoration-color: #800080\">│ </span>│\n",
       "│<span style=\"color: #008080; text-decoration-color: #008080\">                        </span>│<span style=\"color: #800080; text-decoration-color: #800080\"> │</span><span style=\"color: #008080; text-decoration-color: #008080\"> title              </span><span style=\"color: #800080; text-decoration-color: #800080\">│</span><span style=\"color: #008000; text-decoration-color: #008000\"> Brandon_soil_report_review, Bryant 1.10.24 part... </span><span style=\"color: #800080; text-decoration-color: #800080\">│ </span>│\n",
       "│<span style=\"color: #008080; text-decoration-color: #008080\">                        </span>│<span style=\"color: #800080; text-decoration-color: #800080\"> │</span><span style=\"color: #008080; text-decoration-color: #008080\"> transcription_time </span><span style=\"color: #800080; text-decoration-color: #800080\">│</span><span style=\"color: #008000; text-decoration-color: #008000\"> 00:00:17, 00:00:31, 00:00:50, 00:03:10, 00:04:0... </span><span style=\"color: #800080; text-decoration-color: #800080\">│ </span>│\n",
       "│<span style=\"color: #008080; text-decoration-color: #008080\">                        </span>│<span style=\"color: #800080; text-decoration-color: #800080\"> │</span><span style=\"color: #008080; text-decoration-color: #008080\"> upload_date        </span><span style=\"color: #800080; text-decoration-color: #800080\">│</span><span style=\"color: #008000; text-decoration-color: #008000\"> 20200629, 20231012, 2024-08-15, 2024-08-18, 202... </span><span style=\"color: #800080; text-decoration-color: #800080\">│ </span>│\n",
       "│<span style=\"color: #008080; text-decoration-color: #008080\">                        </span>│<span style=\"color: #800080; text-decoration-color: #800080\"> │</span><span style=\"color: #008080; text-decoration-color: #008080\"> uploader_id        </span><span style=\"color: #800080; text-decoration-color: #800080\">│</span><span style=\"color: #008000; text-decoration-color: #008000\"> , @FCP1, @e-growebinars487, @kisorganics           </span><span style=\"color: #800080; text-decoration-color: #800080\">│ </span>│\n",
       "│<span style=\"color: #008080; text-decoration-color: #008080\">                        </span>│<span style=\"color: #800080; text-decoration-color: #800080\"> │</span><span style=\"color: #008080; text-decoration-color: #008080\"> youtube_url        </span><span style=\"color: #800080; text-decoration-color: #800080\">│</span><span style=\"color: #008000; text-decoration-color: #008000\"> https://www.youtube.com/watch?v=NthulrqIUKQ, ht... </span><span style=\"color: #800080; text-decoration-color: #800080\">│ </span>│\n",
       "│<span style=\"color: #008080; text-decoration-color: #008080\">                        </span>│<span style=\"color: #800080; text-decoration-color: #800080\"> └────────────────────┴────────────────────────────────────────────────────┘ </span>│\n",
       "└────────────────────────┴─────────────────────────────────────────────────────────────────────────────┘\n",
       "</pre>\n"
      ],
      "text/plain": [
       "\u001b[3m                                          Document Statistics                                           \u001b[0m\n",
       "┏━━━━━━━━━━━━━━━━━━━━━━━━┳━━━━━━━━━━━━━━━━━━━━━━━━━━━━━━━━━━━━━━━━━━━━━━━━━━━━━━━━━━━━━━━━━━━━━━━━━━━━━┓\n",
       "┃\u001b[1m \u001b[0m\u001b[1mStatistic             \u001b[0m\u001b[1m \u001b[0m┃\u001b[1m \u001b[0m\u001b[1mValue                                                                      \u001b[0m\u001b[1m \u001b[0m┃\n",
       "┡━━━━━━━━━━━━━━━━━━━━━━━━╇━━━━━━━━━━━━━━━━━━━━━━━━━━━━━━━━━━━━━━━━━━━━━━━━━━━━━━━━━━━━━━━━━━━━━━━━━━━━━┩\n",
       "│\u001b[36m \u001b[0m\u001b[36mDocument Type         \u001b[0m\u001b[36m \u001b[0m│\u001b[35m \u001b[0m\u001b[35mDocument                                                                   \u001b[0m\u001b[35m \u001b[0m│\n",
       "│\u001b[36m \u001b[0m\u001b[36mTotal Documents       \u001b[0m\u001b[36m \u001b[0m│\u001b[35m \u001b[0m\u001b[35m71                                                                         \u001b[0m\u001b[35m \u001b[0m│\n",
       "│\u001b[36m \u001b[0m\u001b[36mAvg Content Length    \u001b[0m\u001b[36m \u001b[0m│\u001b[35m \u001b[0m\u001b[35m14462.8                                                                    \u001b[0m\u001b[35m \u001b[0m│\n",
       "│\u001b[36m \u001b[0m\u001b[36mAll Docs Have Content \u001b[0m\u001b[36m \u001b[0m│\u001b[35m \u001b[0m\u001b[35mTrue                                                                       \u001b[0m\u001b[35m \u001b[0m│\n",
       "│\u001b[36m \u001b[0m\u001b[36mAll Docs Have Metadata\u001b[0m\u001b[36m \u001b[0m│\u001b[35m \u001b[0m\u001b[35mTrue                                                                       \u001b[0m\u001b[35m \u001b[0m│\n",
       "│\u001b[36m \u001b[0m\u001b[36mShortest Doc Length   \u001b[0m\u001b[36m \u001b[0m│\u001b[35m \u001b[0m\u001b[35m312                                                                        \u001b[0m\u001b[35m \u001b[0m│\n",
       "│\u001b[36m \u001b[0m\u001b[36mLongest Doc Length    \u001b[0m\u001b[36m \u001b[0m│\u001b[35m \u001b[0m\u001b[35m228081                                                                     \u001b[0m\u001b[35m \u001b[0m│\n",
       "│\u001b[36m \u001b[0m\u001b[36mMetadata Fields       \u001b[0m\u001b[36m \u001b[0m│\u001b[35m \u001b[0m\u001b[3;35m                              Metadata Fields                              \u001b[0m\u001b[35m \u001b[0m│\n",
       "│\u001b[36m                        \u001b[0m│\u001b[35m \u001b[0m\u001b[35m┏━━━━━━━━━━━━━━━━━━━━┳━━━━━━━━━━━━━━━━━━━━━━━━━━━━━━━━━━━━━━━━━━━━━━━━━━━━┓\u001b[0m\u001b[35m \u001b[0m│\n",
       "│\u001b[36m                        \u001b[0m│\u001b[35m \u001b[0m\u001b[35m┃\u001b[0m\u001b[1;35m \u001b[0m\u001b[1;35mField             \u001b[0m\u001b[1;35m \u001b[0m\u001b[35m┃\u001b[0m\u001b[1;35m \u001b[0m\u001b[1;35mUnique Values                                     \u001b[0m\u001b[1;35m \u001b[0m\u001b[35m┃\u001b[0m\u001b[35m \u001b[0m│\n",
       "│\u001b[36m                        \u001b[0m│\u001b[35m \u001b[0m\u001b[35m┡━━━━━━━━━━━━━━━━━━━━╇━━━━━━━━━━━━━━━━━━━━━━━━━━━━━━━━━━━━━━━━━━━━━━━━━━━━┩\u001b[0m\u001b[35m \u001b[0m│\n",
       "│\u001b[36m                        \u001b[0m│\u001b[35m \u001b[0m\u001b[35m│\u001b[0m\u001b[36m \u001b[0m\u001b[36maudio_quality     \u001b[0m\u001b[36m \u001b[0m\u001b[35m│\u001b[0m\u001b[32m \u001b[0m\u001b[32mlarge, medium, small, tiny                        \u001b[0m\u001b[32m \u001b[0m\u001b[35m│\u001b[0m\u001b[35m \u001b[0m│\n",
       "│\u001b[36m                        \u001b[0m│\u001b[35m \u001b[0m\u001b[35m│\u001b[0m\u001b[36m \u001b[0m\u001b[36maudio_source      \u001b[0m\u001b[36m \u001b[0m\u001b[35m│\u001b[0m\u001b[32m \u001b[0m\u001b[32mBrandon_soil_report_review.mp3, Bryant 1.10.24 ...\u001b[0m\u001b[32m \u001b[0m\u001b[35m│\u001b[0m\u001b[35m \u001b[0m│\n",
       "│\u001b[36m                        \u001b[0m│\u001b[35m \u001b[0m\u001b[35m│\u001b[0m\u001b[36m \u001b[0m\u001b[36mchannel           \u001b[0m\u001b[36m \u001b[0m\u001b[35m│\u001b[0m\u001b[32m \u001b[0m\u001b[32m, Future Cannabis Project, KIS Organics, e-GRO ...\u001b[0m\u001b[32m \u001b[0m\u001b[35m│\u001b[0m\u001b[35m \u001b[0m│\n",
       "│\u001b[36m                        \u001b[0m│\u001b[35m \u001b[0m\u001b[35m│\u001b[0m\u001b[36m \u001b[0m\u001b[36mcompute_type      \u001b[0m\u001b[36m \u001b[0m\u001b[35m│\u001b[0m\u001b[32m \u001b[0m\u001b[32mint8                                              \u001b[0m\u001b[32m \u001b[0m\u001b[35m│\u001b[0m\u001b[35m \u001b[0m│\n",
       "│\u001b[36m                        \u001b[0m│\u001b[35m \u001b[0m\u001b[35m│\u001b[0m\u001b[36m \u001b[0m\u001b[36mcreated           \u001b[0m\u001b[36m \u001b[0m\u001b[35m│\u001b[0m\u001b[32m \u001b[0m\u001b[32m1709997835.806, 1710952360.804, 1711126509.142,...\u001b[0m\u001b[32m \u001b[0m\u001b[35m│\u001b[0m\u001b[35m \u001b[0m│\n",
       "│\u001b[36m                        \u001b[0m│\u001b[35m \u001b[0m\u001b[35m│\u001b[0m\u001b[36m \u001b[0m\u001b[36mdescription       \u001b[0m\u001b[36m \u001b[0m\u001b[35m│\u001b[0m\u001b[32m \u001b[0m\u001b[32m, In this e-GRO Webinar Patrick Veazie and Dr. ...\u001b[0m\u001b[32m \u001b[0m\u001b[35m│\u001b[0m\u001b[35m \u001b[0m│\n",
       "│\u001b[36m                        \u001b[0m│\u001b[35m \u001b[0m\u001b[35m│\u001b[0m\u001b[36m \u001b[0m\u001b[36mdownload_time     \u001b[0m\u001b[36m \u001b[0m\u001b[35m│\u001b[0m\u001b[32m \u001b[0m\u001b[32m00:00:00, 00:00:03, 00:00:07, 00:00:15, 00:00:1...\u001b[0m\u001b[32m \u001b[0m\u001b[35m│\u001b[0m\u001b[35m \u001b[0m│\n",
       "│\u001b[36m                        \u001b[0m│\u001b[35m \u001b[0m\u001b[35m│\u001b[0m\u001b[36m \u001b[0m\u001b[36mduration          \u001b[0m\u001b[36m \u001b[0m\u001b[35m│\u001b[0m\u001b[32m \u001b[0m\u001b[32m00:01:26, 00:07:03, 00:07:33, 00:26:21, 00:52:2...\u001b[0m\u001b[32m \u001b[0m\u001b[35m│\u001b[0m\u001b[35m \u001b[0m│\n",
       "│\u001b[36m                        \u001b[0m│\u001b[35m \u001b[0m\u001b[35m│\u001b[0m\u001b[36m \u001b[0m\u001b[36mexcalidraw-plugin \u001b[0m\u001b[36m \u001b[0m\u001b[35m│\u001b[0m\u001b[32m \u001b[0m\u001b[32mparsed                                            \u001b[0m\u001b[32m \u001b[0m\u001b[35m│\u001b[0m\u001b[35m \u001b[0m│\n",
       "│\u001b[36m                        \u001b[0m│\u001b[35m \u001b[0m\u001b[35m│\u001b[0m\u001b[36m \u001b[0m\u001b[36mlast_accessed     \u001b[0m\u001b[36m \u001b[0m\u001b[35m│\u001b[0m\u001b[32m \u001b[0m\u001b[32m1714514672.501, 1714515042.959, 1714613034.834,...\u001b[0m\u001b[32m \u001b[0m\u001b[35m│\u001b[0m\u001b[35m \u001b[0m│\n",
       "│\u001b[36m                        \u001b[0m│\u001b[35m \u001b[0m\u001b[35m│\u001b[0m\u001b[36m \u001b[0m\u001b[36mlast_modified     \u001b[0m\u001b[36m \u001b[0m\u001b[35m│\u001b[0m\u001b[32m \u001b[0m\u001b[32m1703549011.503, 1705615966.523, 1706549516.547,...\u001b[0m\u001b[32m \u001b[0m\u001b[35m│\u001b[0m\u001b[35m \u001b[0m│\n",
       "│\u001b[36m                        \u001b[0m│\u001b[35m \u001b[0m\u001b[35m│\u001b[0m\u001b[36m \u001b[0m\u001b[36mpath              \u001b[0m\u001b[36m \u001b[0m\u001b[35m│\u001b[0m\u001b[32m \u001b[0m\u001b[32mG:\\My Drive\\Audios_To_Knowledge\\knowledge\\AskGr...\u001b[0m\u001b[32m \u001b[0m\u001b[35m│\u001b[0m\u001b[35m \u001b[0m│\n",
       "│\u001b[36m                        \u001b[0m│\u001b[35m \u001b[0m\u001b[35m│\u001b[0m\u001b[36m \u001b[0m\u001b[36msource            \u001b[0m\u001b[36m \u001b[0m\u001b[35m│\u001b[0m\u001b[32m \u001b[0m\u001b[32m09-11-2024 Soil Test Analysis Attempt.md, 2024-...\u001b[0m\u001b[32m \u001b[0m\u001b[35m│\u001b[0m\u001b[35m \u001b[0m│\n",
       "│\u001b[36m                        \u001b[0m│\u001b[35m \u001b[0m\u001b[35m│\u001b[0m\u001b[36m \u001b[0m\u001b[36mtags              \u001b[0m\u001b[36m \u001b[0m\u001b[35m│\u001b[0m\u001b[32m \u001b[0m\u001b[32m, #KIS,#soil_test, D2B3FFA6, M3,SP, M3,SP,satur...\u001b[0m\u001b[32m \u001b[0m\u001b[35m│\u001b[0m\u001b[35m \u001b[0m│\n",
       "│\u001b[36m                        \u001b[0m│\u001b[35m \u001b[0m\u001b[35m│\u001b[0m\u001b[36m \u001b[0m\u001b[36mtitle             \u001b[0m\u001b[36m \u001b[0m\u001b[35m│\u001b[0m\u001b[32m \u001b[0m\u001b[32mBrandon_soil_report_review, Bryant 1.10.24 part...\u001b[0m\u001b[32m \u001b[0m\u001b[35m│\u001b[0m\u001b[35m \u001b[0m│\n",
       "│\u001b[36m                        \u001b[0m│\u001b[35m \u001b[0m\u001b[35m│\u001b[0m\u001b[36m \u001b[0m\u001b[36mtranscription_time\u001b[0m\u001b[36m \u001b[0m\u001b[35m│\u001b[0m\u001b[32m \u001b[0m\u001b[32m00:00:17, 00:00:31, 00:00:50, 00:03:10, 00:04:0...\u001b[0m\u001b[32m \u001b[0m\u001b[35m│\u001b[0m\u001b[35m \u001b[0m│\n",
       "│\u001b[36m                        \u001b[0m│\u001b[35m \u001b[0m\u001b[35m│\u001b[0m\u001b[36m \u001b[0m\u001b[36mupload_date       \u001b[0m\u001b[36m \u001b[0m\u001b[35m│\u001b[0m\u001b[32m \u001b[0m\u001b[32m20200629, 20231012, 2024-08-15, 2024-08-18, 202...\u001b[0m\u001b[32m \u001b[0m\u001b[35m│\u001b[0m\u001b[35m \u001b[0m│\n",
       "│\u001b[36m                        \u001b[0m│\u001b[35m \u001b[0m\u001b[35m│\u001b[0m\u001b[36m \u001b[0m\u001b[36muploader_id       \u001b[0m\u001b[36m \u001b[0m\u001b[35m│\u001b[0m\u001b[32m \u001b[0m\u001b[32m, @FCP1, @e-growebinars487, @kisorganics          \u001b[0m\u001b[32m \u001b[0m\u001b[35m│\u001b[0m\u001b[35m \u001b[0m│\n",
       "│\u001b[36m                        \u001b[0m│\u001b[35m \u001b[0m\u001b[35m│\u001b[0m\u001b[36m \u001b[0m\u001b[36myoutube_url       \u001b[0m\u001b[36m \u001b[0m\u001b[35m│\u001b[0m\u001b[32m \u001b[0m\u001b[32mhttps://www.youtube.com/watch?v=NthulrqIUKQ, ht...\u001b[0m\u001b[32m \u001b[0m\u001b[35m│\u001b[0m\u001b[35m \u001b[0m│\n",
       "│\u001b[36m                        \u001b[0m│\u001b[35m \u001b[0m\u001b[35m└────────────────────┴────────────────────────────────────────────────────┘\u001b[0m\u001b[35m \u001b[0m│\n",
       "└────────────────────────┴─────────────────────────────────────────────────────────────────────────────┘\n"
      ]
     },
     "metadata": {},
     "output_type": "display_data"
    },
    {
     "data": {
      "text/plain": [
       "{'Document Type': 'Document',\n",
       " 'Total Documents': 71,\n",
       " 'Avg Content Length': '14462.8',\n",
       " 'All Docs Have Content': True,\n",
       " 'All Docs Have Metadata': True,\n",
       " 'Shortest Doc Length': 312,\n",
       " 'Longest Doc Length': 228081}"
      ]
     },
     "execution_count": 3,
     "metadata": {},
     "output_type": "execute_result"
    }
   ],
   "source": [
    "from src.ingest_service import IngestService\n",
    "from src.doc_stats import DocStats\n",
    "ingest_service = IngestService()\n",
    "# obsidian_notes_path = 'eval/obsidian_notes'\n",
    "obsidian_notes_path = r'G:\\My Drive\\Audios_To_Knowledge\\knowledge\\AskGrowBuddy\\AskGrowBuddy\\Knowledge\\soil_test_knowlege'\n",
    "docs = ingest_service.load_obsidian_notes(obsidian_notes_path)\n",
    "\n",
    "DocStats.print_llama_index_docs_summary_stats(docs)\n"
   ]
  },
  {
   "cell_type": "markdown",
   "metadata": {},
   "source": [
    "We have load a document.  Let's break it text nodes.  LlamaIndex's `MarkdownNodeParser` is used to do this.  Besides metadata, Obsidian notes break down text using markdown headers.  By using a `MarkdownNodeParser`, we can use these headers to guide how the text is chunked. The document workflow is using LlamaIndex libraries.  We start with a `LlamaIndexDocument` and now move to a `BaseNode`, or actually a `TextNode`\n"
   ]
  },
  {
   "cell_type": "markdown",
   "metadata": {},
   "source": [
    "Now when we print out the docstats, we see that the number of documents (nodes) has increased from 1 to 6.  The content length varies and the nodes all have metadata."
   ]
  },
  {
   "cell_type": "code",
   "execution_count": 4,
   "metadata": {},
   "outputs": [
    {
     "data": {
      "text/html": [
       "<pre style=\"white-space:pre;overflow-x:auto;line-height:normal;font-family:Menlo,'DejaVu Sans Mono',consolas,'Courier New',monospace\"><span style=\"font-style: italic\">                                          Document Statistics                                           </span>\n",
       "┏━━━━━━━━━━━━━━━━━━━━━━━━┳━━━━━━━━━━━━━━━━━━━━━━━━━━━━━━━━━━━━━━━━━━━━━━━━━━━━━━━━━━━━━━━━━━━━━━━━━━━━━┓\n",
       "┃<span style=\"font-weight: bold\"> Statistic              </span>┃<span style=\"font-weight: bold\"> Value                                                                       </span>┃\n",
       "┡━━━━━━━━━━━━━━━━━━━━━━━━╇━━━━━━━━━━━━━━━━━━━━━━━━━━━━━━━━━━━━━━━━━━━━━━━━━━━━━━━━━━━━━━━━━━━━━━━━━━━━━┩\n",
       "│<span style=\"color: #008080; text-decoration-color: #008080\"> Document Type          </span>│<span style=\"color: #800080; text-decoration-color: #800080\"> TextNode                                                                    </span>│\n",
       "│<span style=\"color: #008080; text-decoration-color: #008080\"> Total Documents        </span>│<span style=\"color: #800080; text-decoration-color: #800080\"> 148                                                                         </span>│\n",
       "│<span style=\"color: #008080; text-decoration-color: #008080\"> Avg Content Length     </span>│<span style=\"color: #800080; text-decoration-color: #800080\"> 6929.8                                                                      </span>│\n",
       "│<span style=\"color: #008080; text-decoration-color: #008080\"> All Docs Have Content  </span>│<span style=\"color: #800080; text-decoration-color: #800080\"> True                                                                        </span>│\n",
       "│<span style=\"color: #008080; text-decoration-color: #008080\"> All Docs Have Metadata </span>│<span style=\"color: #800080; text-decoration-color: #800080\"> True                                                                        </span>│\n",
       "│<span style=\"color: #008080; text-decoration-color: #008080\"> Shortest Doc Length    </span>│<span style=\"color: #800080; text-decoration-color: #800080\"> 18                                                                          </span>│\n",
       "│<span style=\"color: #008080; text-decoration-color: #008080\"> Longest Doc Length     </span>│<span style=\"color: #800080; text-decoration-color: #800080\"> 225830                                                                      </span>│\n",
       "│<span style=\"color: #008080; text-decoration-color: #008080\"> Metadata Fields        </span>│<span style=\"color: #800080; text-decoration-color: #800080\"> </span><span style=\"color: #800080; text-decoration-color: #800080; font-style: italic\">                              Metadata Fields                              </span><span style=\"color: #800080; text-decoration-color: #800080\"> </span>│\n",
       "│<span style=\"color: #008080; text-decoration-color: #008080\">                        </span>│<span style=\"color: #800080; text-decoration-color: #800080\"> ┏━━━━━━━━━━━━━━━━━━━━┳━━━━━━━━━━━━━━━━━━━━━━━━━━━━━━━━━━━━━━━━━━━━━━━━━━━━┓ </span>│\n",
       "│<span style=\"color: #008080; text-decoration-color: #008080\">                        </span>│<span style=\"color: #800080; text-decoration-color: #800080\"> ┃</span><span style=\"color: #800080; text-decoration-color: #800080; font-weight: bold\"> Field              </span><span style=\"color: #800080; text-decoration-color: #800080\">┃</span><span style=\"color: #800080; text-decoration-color: #800080; font-weight: bold\"> Unique Values                                      </span><span style=\"color: #800080; text-decoration-color: #800080\">┃ </span>│\n",
       "│<span style=\"color: #008080; text-decoration-color: #008080\">                        </span>│<span style=\"color: #800080; text-decoration-color: #800080\"> ┡━━━━━━━━━━━━━━━━━━━━╇━━━━━━━━━━━━━━━━━━━━━━━━━━━━━━━━━━━━━━━━━━━━━━━━━━━━┩ </span>│\n",
       "│<span style=\"color: #008080; text-decoration-color: #008080\">                        </span>│<span style=\"color: #800080; text-decoration-color: #800080\"> │</span><span style=\"color: #008080; text-decoration-color: #008080\"> Header 1           </span><span style=\"color: #800080; text-decoration-color: #800080\">│</span><span style=\"color: #008000; text-decoration-color: #008000\"> 2022-06 soil report Brandon's recommendations, ... </span><span style=\"color: #800080; text-decoration-color: #800080\">│ </span>│\n",
       "│<span style=\"color: #008080; text-decoration-color: #008080\">                        </span>│<span style=\"color: #800080; text-decoration-color: #800080\"> │</span><span style=\"color: #008080; text-decoration-color: #008080\"> audio_quality      </span><span style=\"color: #800080; text-decoration-color: #800080\">│</span><span style=\"color: #008000; text-decoration-color: #008000\"> large, medium, small, tiny                         </span><span style=\"color: #800080; text-decoration-color: #800080\">│ </span>│\n",
       "│<span style=\"color: #008080; text-decoration-color: #008080\">                        </span>│<span style=\"color: #800080; text-decoration-color: #800080\"> │</span><span style=\"color: #008080; text-decoration-color: #008080\"> audio_source       </span><span style=\"color: #800080; text-decoration-color: #800080\">│</span><span style=\"color: #008000; text-decoration-color: #008000\"> Brandon_soil_report_review.mp3, Bryant 1.10.24 ... </span><span style=\"color: #800080; text-decoration-color: #800080\">│ </span>│\n",
       "│<span style=\"color: #008080; text-decoration-color: #008080\">                        </span>│<span style=\"color: #800080; text-decoration-color: #800080\"> │</span><span style=\"color: #008080; text-decoration-color: #008080\"> channel            </span><span style=\"color: #800080; text-decoration-color: #800080\">│</span><span style=\"color: #008000; text-decoration-color: #008000\"> , Future Cannabis Project, KIS Organics, e-GRO ... </span><span style=\"color: #800080; text-decoration-color: #800080\">│ </span>│\n",
       "│<span style=\"color: #008080; text-decoration-color: #008080\">                        </span>│<span style=\"color: #800080; text-decoration-color: #800080\"> │</span><span style=\"color: #008080; text-decoration-color: #008080\"> compute_type       </span><span style=\"color: #800080; text-decoration-color: #800080\">│</span><span style=\"color: #008000; text-decoration-color: #008000\"> int8                                               </span><span style=\"color: #800080; text-decoration-color: #800080\">│ </span>│\n",
       "│<span style=\"color: #008080; text-decoration-color: #008080\">                        </span>│<span style=\"color: #800080; text-decoration-color: #800080\"> │</span><span style=\"color: #008080; text-decoration-color: #008080\"> created            </span><span style=\"color: #800080; text-decoration-color: #800080\">│</span><span style=\"color: #008000; text-decoration-color: #008000\"> 1709997835.806, 1710952360.804, 1711126509.142,... </span><span style=\"color: #800080; text-decoration-color: #800080\">│ </span>│\n",
       "│<span style=\"color: #008080; text-decoration-color: #008080\">                        </span>│<span style=\"color: #800080; text-decoration-color: #800080\"> │</span><span style=\"color: #008080; text-decoration-color: #008080\"> description        </span><span style=\"color: #800080; text-decoration-color: #800080\">│</span><span style=\"color: #008000; text-decoration-color: #008000\"> , In this e-GRO Webinar Patrick Veazie and Dr. ... </span><span style=\"color: #800080; text-decoration-color: #800080\">│ </span>│\n",
       "│<span style=\"color: #008080; text-decoration-color: #008080\">                        </span>│<span style=\"color: #800080; text-decoration-color: #800080\"> │</span><span style=\"color: #008080; text-decoration-color: #008080\"> download_time      </span><span style=\"color: #800080; text-decoration-color: #800080\">│</span><span style=\"color: #008000; text-decoration-color: #008000\"> 00:00:00, 00:00:03, 00:00:07, 00:00:15, 00:00:1... </span><span style=\"color: #800080; text-decoration-color: #800080\">│ </span>│\n",
       "│<span style=\"color: #008080; text-decoration-color: #008080\">                        </span>│<span style=\"color: #800080; text-decoration-color: #800080\"> │</span><span style=\"color: #008080; text-decoration-color: #008080\"> duration           </span><span style=\"color: #800080; text-decoration-color: #800080\">│</span><span style=\"color: #008000; text-decoration-color: #008000\"> 00:01:26, 00:07:03, 00:07:33, 00:26:21, 00:52:2... </span><span style=\"color: #800080; text-decoration-color: #800080\">│ </span>│\n",
       "│<span style=\"color: #008080; text-decoration-color: #008080\">                        </span>│<span style=\"color: #800080; text-decoration-color: #800080\"> │</span><span style=\"color: #008080; text-decoration-color: #008080\"> excalidraw-plugin  </span><span style=\"color: #800080; text-decoration-color: #800080\">│</span><span style=\"color: #008000; text-decoration-color: #008000\"> parsed                                             </span><span style=\"color: #800080; text-decoration-color: #800080\">│ </span>│\n",
       "│<span style=\"color: #008080; text-decoration-color: #008080\">                        </span>│<span style=\"color: #800080; text-decoration-color: #800080\"> │</span><span style=\"color: #008080; text-decoration-color: #008080\"> last_accessed      </span><span style=\"color: #800080; text-decoration-color: #800080\">│</span><span style=\"color: #008000; text-decoration-color: #008000\"> 1714514672.501, 1714515042.959, 1714613034.834,... </span><span style=\"color: #800080; text-decoration-color: #800080\">│ </span>│\n",
       "│<span style=\"color: #008080; text-decoration-color: #008080\">                        </span>│<span style=\"color: #800080; text-decoration-color: #800080\"> │</span><span style=\"color: #008080; text-decoration-color: #008080\"> last_modified      </span><span style=\"color: #800080; text-decoration-color: #800080\">│</span><span style=\"color: #008000; text-decoration-color: #008000\"> 1703549011.503, 1705615966.523, 1706549516.547,... </span><span style=\"color: #800080; text-decoration-color: #800080\">│ </span>│\n",
       "│<span style=\"color: #008080; text-decoration-color: #008080\">                        </span>│<span style=\"color: #800080; text-decoration-color: #800080\"> │</span><span style=\"color: #008080; text-decoration-color: #008080\"> path               </span><span style=\"color: #800080; text-decoration-color: #800080\">│</span><span style=\"color: #008000; text-decoration-color: #008000\"> G:\\My Drive\\Audios_To_Knowledge\\knowledge\\AskGr... </span><span style=\"color: #800080; text-decoration-color: #800080\">│ </span>│\n",
       "│<span style=\"color: #008080; text-decoration-color: #008080\">                        </span>│<span style=\"color: #800080; text-decoration-color: #800080\"> │</span><span style=\"color: #008080; text-decoration-color: #008080\"> source             </span><span style=\"color: #800080; text-decoration-color: #800080\">│</span><span style=\"color: #008000; text-decoration-color: #008000\"> 09-11-2024 Soil Test Analysis Attempt.md, 2024-... </span><span style=\"color: #800080; text-decoration-color: #800080\">│ </span>│\n",
       "│<span style=\"color: #008080; text-decoration-color: #008080\">                        </span>│<span style=\"color: #800080; text-decoration-color: #800080\"> │</span><span style=\"color: #008080; text-decoration-color: #008080\"> tags               </span><span style=\"color: #800080; text-decoration-color: #800080\">│</span><span style=\"color: #008000; text-decoration-color: #008000\"> , #KIS,#soil_test, D2B3FFA6, M3,SP, M3,SP,satur... </span><span style=\"color: #800080; text-decoration-color: #800080\">│ </span>│\n",
       "│<span style=\"color: #008080; text-decoration-color: #008080\">                        </span>│<span style=\"color: #800080; text-decoration-color: #800080\"> │</span><span style=\"color: #008080; text-decoration-color: #008080\"> title              </span><span style=\"color: #800080; text-decoration-color: #800080\">│</span><span style=\"color: #008000; text-decoration-color: #008000\"> Brandon_soil_report_review, Bryant 1.10.24 part... </span><span style=\"color: #800080; text-decoration-color: #800080\">│ </span>│\n",
       "│<span style=\"color: #008080; text-decoration-color: #008080\">                        </span>│<span style=\"color: #800080; text-decoration-color: #800080\"> │</span><span style=\"color: #008080; text-decoration-color: #008080\"> transcription_time </span><span style=\"color: #800080; text-decoration-color: #800080\">│</span><span style=\"color: #008000; text-decoration-color: #008000\"> 00:00:17, 00:00:31, 00:00:50, 00:03:10, 00:04:0... </span><span style=\"color: #800080; text-decoration-color: #800080\">│ </span>│\n",
       "│<span style=\"color: #008080; text-decoration-color: #008080\">                        </span>│<span style=\"color: #800080; text-decoration-color: #800080\"> │</span><span style=\"color: #008080; text-decoration-color: #008080\"> upload_date        </span><span style=\"color: #800080; text-decoration-color: #800080\">│</span><span style=\"color: #008000; text-decoration-color: #008000\"> 20200629, 20231012, 2024-08-15, 2024-08-18, 202... </span><span style=\"color: #800080; text-decoration-color: #800080\">│ </span>│\n",
       "│<span style=\"color: #008080; text-decoration-color: #008080\">                        </span>│<span style=\"color: #800080; text-decoration-color: #800080\"> │</span><span style=\"color: #008080; text-decoration-color: #008080\"> uploader_id        </span><span style=\"color: #800080; text-decoration-color: #800080\">│</span><span style=\"color: #008000; text-decoration-color: #008000\"> , @FCP1, @e-growebinars487, @kisorganics           </span><span style=\"color: #800080; text-decoration-color: #800080\">│ </span>│\n",
       "│<span style=\"color: #008080; text-decoration-color: #008080\">                        </span>│<span style=\"color: #800080; text-decoration-color: #800080\"> │</span><span style=\"color: #008080; text-decoration-color: #008080\"> youtube_url        </span><span style=\"color: #800080; text-decoration-color: #800080\">│</span><span style=\"color: #008000; text-decoration-color: #008000\"> https://www.youtube.com/watch?v=NthulrqIUKQ, ht... </span><span style=\"color: #800080; text-decoration-color: #800080\">│ </span>│\n",
       "│<span style=\"color: #008080; text-decoration-color: #008080\">                        </span>│<span style=\"color: #800080; text-decoration-color: #800080\"> └────────────────────┴────────────────────────────────────────────────────┘ </span>│\n",
       "└────────────────────────┴─────────────────────────────────────────────────────────────────────────────┘\n",
       "</pre>\n"
      ],
      "text/plain": [
       "\u001b[3m                                          Document Statistics                                           \u001b[0m\n",
       "┏━━━━━━━━━━━━━━━━━━━━━━━━┳━━━━━━━━━━━━━━━━━━━━━━━━━━━━━━━━━━━━━━━━━━━━━━━━━━━━━━━━━━━━━━━━━━━━━━━━━━━━━┓\n",
       "┃\u001b[1m \u001b[0m\u001b[1mStatistic             \u001b[0m\u001b[1m \u001b[0m┃\u001b[1m \u001b[0m\u001b[1mValue                                                                      \u001b[0m\u001b[1m \u001b[0m┃\n",
       "┡━━━━━━━━━━━━━━━━━━━━━━━━╇━━━━━━━━━━━━━━━━━━━━━━━━━━━━━━━━━━━━━━━━━━━━━━━━━━━━━━━━━━━━━━━━━━━━━━━━━━━━━┩\n",
       "│\u001b[36m \u001b[0m\u001b[36mDocument Type         \u001b[0m\u001b[36m \u001b[0m│\u001b[35m \u001b[0m\u001b[35mTextNode                                                                   \u001b[0m\u001b[35m \u001b[0m│\n",
       "│\u001b[36m \u001b[0m\u001b[36mTotal Documents       \u001b[0m\u001b[36m \u001b[0m│\u001b[35m \u001b[0m\u001b[35m148                                                                        \u001b[0m\u001b[35m \u001b[0m│\n",
       "│\u001b[36m \u001b[0m\u001b[36mAvg Content Length    \u001b[0m\u001b[36m \u001b[0m│\u001b[35m \u001b[0m\u001b[35m6929.8                                                                     \u001b[0m\u001b[35m \u001b[0m│\n",
       "│\u001b[36m \u001b[0m\u001b[36mAll Docs Have Content \u001b[0m\u001b[36m \u001b[0m│\u001b[35m \u001b[0m\u001b[35mTrue                                                                       \u001b[0m\u001b[35m \u001b[0m│\n",
       "│\u001b[36m \u001b[0m\u001b[36mAll Docs Have Metadata\u001b[0m\u001b[36m \u001b[0m│\u001b[35m \u001b[0m\u001b[35mTrue                                                                       \u001b[0m\u001b[35m \u001b[0m│\n",
       "│\u001b[36m \u001b[0m\u001b[36mShortest Doc Length   \u001b[0m\u001b[36m \u001b[0m│\u001b[35m \u001b[0m\u001b[35m18                                                                         \u001b[0m\u001b[35m \u001b[0m│\n",
       "│\u001b[36m \u001b[0m\u001b[36mLongest Doc Length    \u001b[0m\u001b[36m \u001b[0m│\u001b[35m \u001b[0m\u001b[35m225830                                                                     \u001b[0m\u001b[35m \u001b[0m│\n",
       "│\u001b[36m \u001b[0m\u001b[36mMetadata Fields       \u001b[0m\u001b[36m \u001b[0m│\u001b[35m \u001b[0m\u001b[3;35m                              Metadata Fields                              \u001b[0m\u001b[35m \u001b[0m│\n",
       "│\u001b[36m                        \u001b[0m│\u001b[35m \u001b[0m\u001b[35m┏━━━━━━━━━━━━━━━━━━━━┳━━━━━━━━━━━━━━━━━━━━━━━━━━━━━━━━━━━━━━━━━━━━━━━━━━━━┓\u001b[0m\u001b[35m \u001b[0m│\n",
       "│\u001b[36m                        \u001b[0m│\u001b[35m \u001b[0m\u001b[35m┃\u001b[0m\u001b[1;35m \u001b[0m\u001b[1;35mField             \u001b[0m\u001b[1;35m \u001b[0m\u001b[35m┃\u001b[0m\u001b[1;35m \u001b[0m\u001b[1;35mUnique Values                                     \u001b[0m\u001b[1;35m \u001b[0m\u001b[35m┃\u001b[0m\u001b[35m \u001b[0m│\n",
       "│\u001b[36m                        \u001b[0m│\u001b[35m \u001b[0m\u001b[35m┡━━━━━━━━━━━━━━━━━━━━╇━━━━━━━━━━━━━━━━━━━━━━━━━━━━━━━━━━━━━━━━━━━━━━━━━━━━┩\u001b[0m\u001b[35m \u001b[0m│\n",
       "│\u001b[36m                        \u001b[0m│\u001b[35m \u001b[0m\u001b[35m│\u001b[0m\u001b[36m \u001b[0m\u001b[36mHeader 1          \u001b[0m\u001b[36m \u001b[0m\u001b[35m│\u001b[0m\u001b[32m \u001b[0m\u001b[32m2022-06 soil report Brandon's recommendations, ...\u001b[0m\u001b[32m \u001b[0m\u001b[35m│\u001b[0m\u001b[35m \u001b[0m│\n",
       "│\u001b[36m                        \u001b[0m│\u001b[35m \u001b[0m\u001b[35m│\u001b[0m\u001b[36m \u001b[0m\u001b[36maudio_quality     \u001b[0m\u001b[36m \u001b[0m\u001b[35m│\u001b[0m\u001b[32m \u001b[0m\u001b[32mlarge, medium, small, tiny                        \u001b[0m\u001b[32m \u001b[0m\u001b[35m│\u001b[0m\u001b[35m \u001b[0m│\n",
       "│\u001b[36m                        \u001b[0m│\u001b[35m \u001b[0m\u001b[35m│\u001b[0m\u001b[36m \u001b[0m\u001b[36maudio_source      \u001b[0m\u001b[36m \u001b[0m\u001b[35m│\u001b[0m\u001b[32m \u001b[0m\u001b[32mBrandon_soil_report_review.mp3, Bryant 1.10.24 ...\u001b[0m\u001b[32m \u001b[0m\u001b[35m│\u001b[0m\u001b[35m \u001b[0m│\n",
       "│\u001b[36m                        \u001b[0m│\u001b[35m \u001b[0m\u001b[35m│\u001b[0m\u001b[36m \u001b[0m\u001b[36mchannel           \u001b[0m\u001b[36m \u001b[0m\u001b[35m│\u001b[0m\u001b[32m \u001b[0m\u001b[32m, Future Cannabis Project, KIS Organics, e-GRO ...\u001b[0m\u001b[32m \u001b[0m\u001b[35m│\u001b[0m\u001b[35m \u001b[0m│\n",
       "│\u001b[36m                        \u001b[0m│\u001b[35m \u001b[0m\u001b[35m│\u001b[0m\u001b[36m \u001b[0m\u001b[36mcompute_type      \u001b[0m\u001b[36m \u001b[0m\u001b[35m│\u001b[0m\u001b[32m \u001b[0m\u001b[32mint8                                              \u001b[0m\u001b[32m \u001b[0m\u001b[35m│\u001b[0m\u001b[35m \u001b[0m│\n",
       "│\u001b[36m                        \u001b[0m│\u001b[35m \u001b[0m\u001b[35m│\u001b[0m\u001b[36m \u001b[0m\u001b[36mcreated           \u001b[0m\u001b[36m \u001b[0m\u001b[35m│\u001b[0m\u001b[32m \u001b[0m\u001b[32m1709997835.806, 1710952360.804, 1711126509.142,...\u001b[0m\u001b[32m \u001b[0m\u001b[35m│\u001b[0m\u001b[35m \u001b[0m│\n",
       "│\u001b[36m                        \u001b[0m│\u001b[35m \u001b[0m\u001b[35m│\u001b[0m\u001b[36m \u001b[0m\u001b[36mdescription       \u001b[0m\u001b[36m \u001b[0m\u001b[35m│\u001b[0m\u001b[32m \u001b[0m\u001b[32m, In this e-GRO Webinar Patrick Veazie and Dr. ...\u001b[0m\u001b[32m \u001b[0m\u001b[35m│\u001b[0m\u001b[35m \u001b[0m│\n",
       "│\u001b[36m                        \u001b[0m│\u001b[35m \u001b[0m\u001b[35m│\u001b[0m\u001b[36m \u001b[0m\u001b[36mdownload_time     \u001b[0m\u001b[36m \u001b[0m\u001b[35m│\u001b[0m\u001b[32m \u001b[0m\u001b[32m00:00:00, 00:00:03, 00:00:07, 00:00:15, 00:00:1...\u001b[0m\u001b[32m \u001b[0m\u001b[35m│\u001b[0m\u001b[35m \u001b[0m│\n",
       "│\u001b[36m                        \u001b[0m│\u001b[35m \u001b[0m\u001b[35m│\u001b[0m\u001b[36m \u001b[0m\u001b[36mduration          \u001b[0m\u001b[36m \u001b[0m\u001b[35m│\u001b[0m\u001b[32m \u001b[0m\u001b[32m00:01:26, 00:07:03, 00:07:33, 00:26:21, 00:52:2...\u001b[0m\u001b[32m \u001b[0m\u001b[35m│\u001b[0m\u001b[35m \u001b[0m│\n",
       "│\u001b[36m                        \u001b[0m│\u001b[35m \u001b[0m\u001b[35m│\u001b[0m\u001b[36m \u001b[0m\u001b[36mexcalidraw-plugin \u001b[0m\u001b[36m \u001b[0m\u001b[35m│\u001b[0m\u001b[32m \u001b[0m\u001b[32mparsed                                            \u001b[0m\u001b[32m \u001b[0m\u001b[35m│\u001b[0m\u001b[35m \u001b[0m│\n",
       "│\u001b[36m                        \u001b[0m│\u001b[35m \u001b[0m\u001b[35m│\u001b[0m\u001b[36m \u001b[0m\u001b[36mlast_accessed     \u001b[0m\u001b[36m \u001b[0m\u001b[35m│\u001b[0m\u001b[32m \u001b[0m\u001b[32m1714514672.501, 1714515042.959, 1714613034.834,...\u001b[0m\u001b[32m \u001b[0m\u001b[35m│\u001b[0m\u001b[35m \u001b[0m│\n",
       "│\u001b[36m                        \u001b[0m│\u001b[35m \u001b[0m\u001b[35m│\u001b[0m\u001b[36m \u001b[0m\u001b[36mlast_modified     \u001b[0m\u001b[36m \u001b[0m\u001b[35m│\u001b[0m\u001b[32m \u001b[0m\u001b[32m1703549011.503, 1705615966.523, 1706549516.547,...\u001b[0m\u001b[32m \u001b[0m\u001b[35m│\u001b[0m\u001b[35m \u001b[0m│\n",
       "│\u001b[36m                        \u001b[0m│\u001b[35m \u001b[0m\u001b[35m│\u001b[0m\u001b[36m \u001b[0m\u001b[36mpath              \u001b[0m\u001b[36m \u001b[0m\u001b[35m│\u001b[0m\u001b[32m \u001b[0m\u001b[32mG:\\My Drive\\Audios_To_Knowledge\\knowledge\\AskGr...\u001b[0m\u001b[32m \u001b[0m\u001b[35m│\u001b[0m\u001b[35m \u001b[0m│\n",
       "│\u001b[36m                        \u001b[0m│\u001b[35m \u001b[0m\u001b[35m│\u001b[0m\u001b[36m \u001b[0m\u001b[36msource            \u001b[0m\u001b[36m \u001b[0m\u001b[35m│\u001b[0m\u001b[32m \u001b[0m\u001b[32m09-11-2024 Soil Test Analysis Attempt.md, 2024-...\u001b[0m\u001b[32m \u001b[0m\u001b[35m│\u001b[0m\u001b[35m \u001b[0m│\n",
       "│\u001b[36m                        \u001b[0m│\u001b[35m \u001b[0m\u001b[35m│\u001b[0m\u001b[36m \u001b[0m\u001b[36mtags              \u001b[0m\u001b[36m \u001b[0m\u001b[35m│\u001b[0m\u001b[32m \u001b[0m\u001b[32m, #KIS,#soil_test, D2B3FFA6, M3,SP, M3,SP,satur...\u001b[0m\u001b[32m \u001b[0m\u001b[35m│\u001b[0m\u001b[35m \u001b[0m│\n",
       "│\u001b[36m                        \u001b[0m│\u001b[35m \u001b[0m\u001b[35m│\u001b[0m\u001b[36m \u001b[0m\u001b[36mtitle             \u001b[0m\u001b[36m \u001b[0m\u001b[35m│\u001b[0m\u001b[32m \u001b[0m\u001b[32mBrandon_soil_report_review, Bryant 1.10.24 part...\u001b[0m\u001b[32m \u001b[0m\u001b[35m│\u001b[0m\u001b[35m \u001b[0m│\n",
       "│\u001b[36m                        \u001b[0m│\u001b[35m \u001b[0m\u001b[35m│\u001b[0m\u001b[36m \u001b[0m\u001b[36mtranscription_time\u001b[0m\u001b[36m \u001b[0m\u001b[35m│\u001b[0m\u001b[32m \u001b[0m\u001b[32m00:00:17, 00:00:31, 00:00:50, 00:03:10, 00:04:0...\u001b[0m\u001b[32m \u001b[0m\u001b[35m│\u001b[0m\u001b[35m \u001b[0m│\n",
       "│\u001b[36m                        \u001b[0m│\u001b[35m \u001b[0m\u001b[35m│\u001b[0m\u001b[36m \u001b[0m\u001b[36mupload_date       \u001b[0m\u001b[36m \u001b[0m\u001b[35m│\u001b[0m\u001b[32m \u001b[0m\u001b[32m20200629, 20231012, 2024-08-15, 2024-08-18, 202...\u001b[0m\u001b[32m \u001b[0m\u001b[35m│\u001b[0m\u001b[35m \u001b[0m│\n",
       "│\u001b[36m                        \u001b[0m│\u001b[35m \u001b[0m\u001b[35m│\u001b[0m\u001b[36m \u001b[0m\u001b[36muploader_id       \u001b[0m\u001b[36m \u001b[0m\u001b[35m│\u001b[0m\u001b[32m \u001b[0m\u001b[32m, @FCP1, @e-growebinars487, @kisorganics          \u001b[0m\u001b[32m \u001b[0m\u001b[35m│\u001b[0m\u001b[35m \u001b[0m│\n",
       "│\u001b[36m                        \u001b[0m│\u001b[35m \u001b[0m\u001b[35m│\u001b[0m\u001b[36m \u001b[0m\u001b[36myoutube_url       \u001b[0m\u001b[36m \u001b[0m\u001b[35m│\u001b[0m\u001b[32m \u001b[0m\u001b[32mhttps://www.youtube.com/watch?v=NthulrqIUKQ, ht...\u001b[0m\u001b[32m \u001b[0m\u001b[35m│\u001b[0m\u001b[35m \u001b[0m│\n",
       "│\u001b[36m                        \u001b[0m│\u001b[35m \u001b[0m\u001b[35m└────────────────────┴────────────────────────────────────────────────────┘\u001b[0m\u001b[35m \u001b[0m│\n",
       "└────────────────────────┴─────────────────────────────────────────────────────────────────────────────┘\n"
      ]
     },
     "metadata": {},
     "output_type": "display_data"
    },
    {
     "data": {
      "text/plain": [
       "{'Document Type': 'TextNode',\n",
       " 'Total Documents': 148,\n",
       " 'Avg Content Length': '6929.8',\n",
       " 'All Docs Have Content': True,\n",
       " 'All Docs Have Metadata': True,\n",
       " 'Shortest Doc Length': 18,\n",
       " 'Longest Doc Length': 225830}"
      ]
     },
     "execution_count": 4,
     "metadata": {},
     "output_type": "execute_result"
    }
   ],
   "source": [
    "text_nodes = ingest_service.chunk_text(docs)\n",
    "DocStats.print_llama_index_docs_summary_stats(text_nodes)"
   ]
  },
  {
   "cell_type": "markdown",
   "metadata": {},
   "source": [
    "# The Nodes\n",
    "Let's look at the contents of the nodes.  The first node looks like it does not have any interesting content. The only thing in the text is the timestamp-url code block that is used to play the YouTube video.\n",
    "\n",
    "```  timestamp-url\n",
    "https://www.youtube.com/watch?v=KbZDsrs5roI\n",
    "```\n",
    "This surprised me because I expected nodes to start with a Header.  What I have learned so far:\n",
    "- The markdown splitting is aggressive and simple.  It looks for a #. When it sees one, it starts a new node if there is text underneath it. This is how nodes can include very little text.  Some nodes - like the first one in this example - do not contain any semantically relevant information.  In this case, it contains only a timestamp-url codeblock.\n",
    "- The content is interspersed with the timestamp code blocks. These should be removed.\n",
    "- Even after this, the nodes will need to be reviewed and cleaned up.\n",
    "\n"
   ]
  },
  {
   "cell_type": "markdown",
   "metadata": {},
   "source": [
    "# The End\n",
    "This exploration started with a vector index whose nodes were created with a very agressive Markdown splitter. In addition, the content should be cleaned up. Even after these activities happen,  the nodes will need further review and cleanup.\n",
    "\n",
    "The next step in the exploration is to explore the [node splitting process]\n"
   ]
  },
  {
   "cell_type": "code",
   "execution_count": 5,
   "metadata": {},
   "outputs": [
    {
     "name": "stdout",
     "output_type": "stream",
     "text": [
      "* Running on local URL:  http://127.0.0.1:7860\n",
      "\n",
      "To create a public link, set `share=True` in `launch()`.\n"
     ]
    },
    {
     "data": {
      "text/html": [
       "<div><iframe src=\"http://127.0.0.1:7860/\" width=\"100%\" height=\"500\" allow=\"autoplay; camera; microphone; clipboard-read; clipboard-write;\" frameborder=\"0\" allowfullscreen></iframe></div>"
      ],
      "text/plain": [
       "<IPython.core.display.HTML object>"
      ]
     },
     "metadata": {},
     "output_type": "display_data"
    },
    {
     "name": "stderr",
     "output_type": "stream",
     "text": [
      "c:\\Users\\happy\\Documents\\Projects\\askgrowbuddy\\.venv\\Lib\\site-packages\\gradio\\blocks.py:1749: UserWarning: A function (navigate) returned too many output values (needed: 4, returned: 5). Ignoring extra values.\n",
      "    Output components:\n",
      "        [textbox, markdown, markdown, state]\n",
      "    Output values returned:\n",
      "        [\"# Mycorrhizal Fungi: Symbiotic Partners  \n",
      "Mycorrhizal fungi's role as symbiotic partners to plants was a focal point. These fungi enhance nutrient and water uptake, contributing to plant health and soil structure. The club discussed practices to promote mycorrhizal fungi, such as minimizing soil disturbance and avoiding chemical inputs.  \n",
      "## The Rhizosphere  \n",
      "The rhizosphere is the soil zone immediately surrounding plant roots. It extends just a few millimeters from the root surface, yet it's a hotbed of biological activity where roots and soil life interact closely. One of the most fascinating revelations about the rhizosphere is that plants allocate a substantial portion of their energy—30% to 40% of the carbon fixed during photosynthesis—towards creating root exudates. These carbon-rich compounds, including sugars and amino acids, are secreted through the root hairs into the rhizosphere, attracting a diverse microbial population.  \n",
      "This strategic release of nutrients by the plants not only supports a thriving microbial ecosystem but also plays a crucial role in facilitating nutrient exchange and protection against pathogens. The discussion emphasizes how this significant energy investment into the rhizosphere exemplifies the plant's active role in engineering its immediate environment, tailoring the microbial community to its current needs. This insight into the rhizosphere's dynamics showcases the intricate and symbiotic relationships between plants and microbes, underscoring the importance of maintaining the health of this critical zone through practices that promote microbial diversity and activity.  \n",
      "## Closing\n",
      "It's clear this book serves as a gateway to many mind-blowing observations about the soil's microbial community. With revelations such as a single teaspoon of good garden soil hosting over a billion invisible bacteria and containing thousands of different species, the book underscores the astonishing complexity and diversity hidden beneath our feet. While \"Teaming with Microbes\" implies numerous positive outcomes of nurturing this microscopic world—ranging from enhanced plant health to more resilient ecosystems—the specifics of these benefits, though suggested, are often left for the reader to witness firsthand in their gardening practices. This gap between the implications and explicit discussions invites gardeners to embark on their own journey of discovery, emphasizing that each scoop of soil is not just earth but a vibrant, teeming universe awaiting our understanding and appreciation.\", \"Metadata:\n",
      "- Header 1: Mycorrhizal Fungi: Symbiotic Partners\n",
      "- source: KIS_Patreon_book_club_03_19_2024_summary.md\n",
      "- path: KIS_Patreon_book_club_03_19_2024_summary.md\n",
      "- created: 1710952360.804\n",
      "- last_modified: 1714515030.662\n",
      "- last_accessed: 1714515042.959\n",
      "- tags: mycorrhiza_fungi,teaming_with_microbes,rhyzosphere\n",
      "\", \"Score: N/A\", \"Node 2 of 148\", 1]\n",
      "  warnings.warn(\n",
      "Traceback (most recent call last):\n",
      "  File \"c:\\Users\\happy\\Documents\\Projects\\askgrowbuddy\\.venv\\Lib\\site-packages\\gradio\\queueing.py\", line 622, in process_events\n",
      "    response = await route_utils.call_process_api(\n",
      "               ^^^^^^^^^^^^^^^^^^^^^^^^^^^^^^^^^^^\n",
      "  File \"c:\\Users\\happy\\Documents\\Projects\\askgrowbuddy\\.venv\\Lib\\site-packages\\gradio\\route_utils.py\", line 323, in call_process_api\n",
      "    output = await app.get_blocks().process_api(\n",
      "             ^^^^^^^^^^^^^^^^^^^^^^^^^^^^^^^^^^^\n",
      "  File \"c:\\Users\\happy\\Documents\\Projects\\askgrowbuddy\\.venv\\Lib\\site-packages\\gradio\\blocks.py\", line 2016, in process_api\n",
      "    result = await self.call_function(\n",
      "             ^^^^^^^^^^^^^^^^^^^^^^^^^\n",
      "  File \"c:\\Users\\happy\\Documents\\Projects\\askgrowbuddy\\.venv\\Lib\\site-packages\\gradio\\blocks.py\", line 1569, in call_function\n",
      "    prediction = await anyio.to_thread.run_sync(  # type: ignore\n",
      "                 ^^^^^^^^^^^^^^^^^^^^^^^^^^^^^^^^^^^^^^^^^^^^^^^\n",
      "  File \"c:\\Users\\happy\\Documents\\Projects\\askgrowbuddy\\.venv\\Lib\\site-packages\\anyio\\to_thread.py\", line 56, in run_sync\n",
      "    return await get_async_backend().run_sync_in_worker_thread(\n",
      "           ^^^^^^^^^^^^^^^^^^^^^^^^^^^^^^^^^^^^^^^^^^^^^^^^^^^^\n",
      "  File \"c:\\Users\\happy\\Documents\\Projects\\askgrowbuddy\\.venv\\Lib\\site-packages\\anyio\\_backends\\_asyncio.py\", line 2177, in run_sync_in_worker_thread\n",
      "    return await future\n",
      "           ^^^^^^^^^^^^\n",
      "  File \"c:\\Users\\happy\\Documents\\Projects\\askgrowbuddy\\.venv\\Lib\\site-packages\\anyio\\_backends\\_asyncio.py\", line 859, in run\n",
      "    result = context.run(func, *args)\n",
      "             ^^^^^^^^^^^^^^^^^^^^^^^^\n",
      "  File \"c:\\Users\\happy\\Documents\\Projects\\askgrowbuddy\\.venv\\Lib\\site-packages\\gradio\\utils.py\", line 846, in wrapper\n",
      "    response = f(*args, **kwargs)\n",
      "               ^^^^^^^^^^^^^^^^^^\n",
      "  File \"c:\\Users\\happy\\Documents\\Projects\\askgrowbuddy\\eval\\node_view.py\", line 49, in navigate\n",
      "    new_index = (int(current_index) + direction) % len(nodes)\n",
      "                 ^^^^^^^^^^^^^^^^^^\n",
      "ValueError: invalid literal for int() with base 10: 'Node 2 of 148'\n"
     ]
    }
   ],
   "source": [
    "from node_view import launch_node_viewer\n",
    "# Create and launch the interface\n",
    "launch_node_viewer(text_nodes)\n"
   ]
  },
  {
   "cell_type": "markdown",
   "metadata": {},
   "source": [
    "Let's store the nodes in a chromadb vector store."
   ]
  },
  {
   "cell_type": "code",
   "execution_count": null,
   "metadata": {},
   "outputs": [],
   "source": [
    "ingest_service = IngestService()\n",
    "# Create a Chroma collection object of a given name. Metadata, embeddings, text are all added.\n",
    "our_collection = ingest_service.create_collection(docs=docs, collection='test', embedding_model_name='nomic-embed-text')"
   ]
  },
  {
   "cell_type": "markdown",
   "metadata": {},
   "source": [
    "Now we'll retrieve the nodes from the vector store and convert them back to LlamaIndex TextNodes to get a closer look at what is in the vector store.  It should be the same view as when the text nodes were first created."
   ]
  },
  {
   "cell_type": "code",
   "execution_count": 18,
   "metadata": {},
   "outputs": [],
   "source": [
    "from llama_index.core import VectorStoreIndex\n",
    "from llama_index.vector_stores.chroma import ChromaVectorStore\n",
    "from src.ingest_service import IngestService\n",
    "# Grab the vector index\n",
    "ingest_service = IngestService()\n",
    "our_collection = ingest_service.get_collection('test')\n",
    "chroma_vector_store = ChromaVectorStore(chroma_collection=our_collection)\n",
    "# Create a VectorStoreIndex using the ChromaVectorStore\n",
    "vector_index = VectorStoreIndex.from_vector_store(chroma_vector_store)"
   ]
  },
  {
   "cell_type": "code",
   "execution_count": 19,
   "metadata": {},
   "outputs": [],
   "source": [
    "from llama_index.core.schema import TextNode\n",
    "def chroma_to_text_nodes(chroma_data):\n",
    "    text_nodes = []\n",
    "    for doc, metadata, node_id in zip(chroma_data['documents'], chroma_data['metadatas'], chroma_data['ids']):\n",
    "        node = TextNode(\n",
    "            text=doc,\n",
    "            metadata=metadata,\n",
    "            id_=node_id\n",
    "        )\n",
    "        text_nodes.append(node)\n",
    "    return text_nodes\n"
   ]
  },
  {
   "cell_type": "code",
   "execution_count": null,
   "metadata": {},
   "outputs": [],
   "source": [
    "# Get all document IDs\n",
    "doc_ids = our_collection.get()['ids']\n",
    "\n",
    "# Print the number of documents\n",
    "print(f\"Total number of documents: {len(doc_ids)}\")\n",
    "\n",
    "# Retrieve the node\n",
    "node_data = our_collection.get(ids=doc_ids  , include=['documents', 'metadatas'])\n",
    "print(node_data['metadatas'][0])\n",
    "text_nodes = chroma_to_text_nodes(node_data)\n",
    "DocStats.print_llama_index_docs_summary_stats(text_nodes)\n"
   ]
  },
  {
   "cell_type": "code",
   "execution_count": null,
   "metadata": {},
   "outputs": [],
   "source": [
    "# Create and launch the interface\n",
    "iface = create_node_viewer(text_nodes)\n",
    "iface.launch(inline=True)"
   ]
  },
  {
   "cell_type": "markdown",
   "metadata": {},
   "source": [
    "Finally, let's set up the vector index as a retriever and see how it works.  We'll retrieve `similarity_top_k`nodes.  Instead of being type `TextNode`, the nodes are now `NodeWithScore` objects.\n"
   ]
  },
  {
   "cell_type": "code",
   "execution_count": null,
   "metadata": {},
   "outputs": [],
   "source": [
    "retriever = vector_index.as_retriever(similarity_top_k=5)\n",
    "response = retriever.retrieve(\"What is the ideal ph for growing Cannabis?\")\n",
    "print(f\"Response type: {type(response[0])}\")\n"
   ]
  },
  {
   "cell_type": "code",
   "execution_count": null,
   "metadata": {},
   "outputs": [],
   "source": [
    "query_engine = vector_index.as_query_engine(similarity_top_k=5)\n",
    "response = query_engine.query(\"I am growing Cannabis in Living Soil and my pH is 8.  Is that ok?\")\n",
    "print(response)"
   ]
  },
  {
   "cell_type": "code",
   "execution_count": null,
   "metadata": {},
   "outputs": [],
   "source": [
    "type(response.source_nodes[0])\n"
   ]
  },
  {
   "cell_type": "code",
   "execution_count": null,
   "metadata": {},
   "outputs": [],
   "source": [
    "# Create and launch the interface\n",
    "iface = create_node_viewer(response.source_nodes)\n",
    "iface.launch(inline=True)"
   ]
  },
  {
   "cell_type": "code",
   "execution_count": null,
   "metadata": {},
   "outputs": [],
   "source": []
  }
 ],
 "metadata": {
  "kernelspec": {
   "display_name": ".venv",
   "language": "python",
   "name": "python3"
  },
  "language_info": {
   "codemirror_mode": {
    "name": "ipython",
    "version": 3
   },
   "file_extension": ".py",
   "mimetype": "text/x-python",
   "name": "python",
   "nbconvert_exporter": "python",
   "pygments_lexer": "ipython3",
   "version": "3.12.0"
  }
 },
 "nbformat": 4,
 "nbformat_minor": 2
}
