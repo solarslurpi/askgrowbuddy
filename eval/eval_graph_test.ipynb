{
 "cells": [
  {
   "cell_type": "code",
   "execution_count": 2,
   "metadata": {},
   "outputs": [
    {
     "name": "stdout",
     "output_type": "stream",
     "text": [
      "c:\\Users\\happy\\Documents\\Projects\\askgrowbuddy\n"
     ]
    },
    {
     "name": "stderr",
     "output_type": "stream",
     "text": [
      "c:\\Users\\happy\\Documents\\Projects\\askgrowbuddy\\.venv\\Lib\\site-packages\\IPython\\core\\magics\\osm.py:417: UserWarning: This is now an optional IPython functionality, setting dhist requires you to install the `pickleshare` library.\n",
      "  self.shell.db['dhist'] = compress_dhist(dhist)[-100:]\n"
     ]
    },
    {
     "data": {
      "text/plain": [
       "'c:\\\\Users\\\\happy\\\\Documents\\\\Projects\\\\askgrowbuddy'"
      ]
     },
     "execution_count": 2,
     "metadata": {},
     "output_type": "execute_result"
    }
   ],
   "source": [
    "# This notebook is in the eval folder.  Change to the root folder.\n",
    "%cd ..\n",
    "%pwd  # To verify the current working directory"
   ]
  },
  {
   "cell_type": "code",
   "execution_count": 14,
   "metadata": {},
   "outputs": [],
   "source": [
    "from llama_index.core.schema import TextNode\n",
    "\n",
    "text_nodes = [\n",
    "    TextNode(\n",
    "        text=\"Calcium is taken up by the xylem to the leaves.\",\n",
    "        metadata={\"source\": \"test_node_1.txt\"}\n",
    "    ),\n",
    "    TextNode(\n",
    "        text=\"Plants that are deficient of phosphorus will tend to be lighter in color, short and many times will display a reddish coloration from the accumulation of sugars in the plant.\",\n",
    "        metadata={\"source\": \"test_node_2.txt\"}\n",
    "    ),\n",
    "    TextNode(\n",
    "        text=\"The ideal pH for growing Cannabis is between 6.8-6.9.\",\n",
    "        metadata={\"source\": \"test_node_3.txt\"}\n",
    "    )\n",
    "]"
   ]
  },
  {
   "cell_type": "code",
   "execution_count": 16,
   "metadata": {},
   "outputs": [],
   "source": [
    "# Example of actual Anthropic Beta Message structure:\n",
    "class BetaTextBlock:\n",
    "    def __init__(self, text, type):\n",
    "        self.text = text\n",
    "        self.type = type\n",
    "\n",
    "class BetaUsage:\n",
    "    def __init__(self, input_tokens, output_tokens):\n",
    "        self.input_tokens = input_tokens\n",
    "        self.output_tokens = output_tokens\n",
    "        self.cache_creation_input_tokens = None\n",
    "        self.cache_read_input_tokens = None\n",
    "\n",
    "class BetaMessage:\n",
    "    def __init__(self, id, content, model, role, usage):\n",
    "        self.id = id\n",
    "        self.content = content  # List of BetaTextBlock\n",
    "        self.model = model\n",
    "        self.role = role\n",
    "        self.usage = usage\n",
    "        self.stop_reason = 'end_turn'\n",
    "        self.stop_sequence = None\n",
    "        self.type = 'message'\n",
    "\n",
    "class BetaMessageBatchSucceededResult:\n",
    "    def __init__(self, message):\n",
    "        self.message = message\n",
    "        self.type = 'succeeded'\n",
    "\n",
    "class BetaMessageBatchIndividualResponse:\n",
    "    def __init__(self, custom_id, result):\n",
    "        self.custom_id = custom_id\n",
    "        self.result = result"
   ]
  },
  {
   "cell_type": "code",
   "execution_count": 17,
   "metadata": {},
   "outputs": [],
   "source": [
    "# Example response:\n",
    "example_response = BetaMessageBatchIndividualResponse(\n",
    "    custom_id='f850a504-2f5d-4965-a1db-040363d3f1b3',\n",
    "    result=BetaMessageBatchSucceededResult(\n",
    "        message=BetaMessage(\n",
    "            id='msg_01MTN8DGzEFaWayp7oUUtnAj',\n",
    "            content=[\n",
    "                BetaTextBlock(\n",
    "                    text='(Cannabis_plants, OPTIMAL_PH_IS, 6.8-6.9)',\n",
    "                    type='text'\n",
    "                )\n",
    "            ],\n",
    "            model='claude-3-5-sonnet-20241022',\n",
    "            role='assistant',\n",
    "            usage=BetaUsage(\n",
    "                input_tokens=371,\n",
    "                output_tokens=35\n",
    "            )\n",
    "        )\n",
    "    )\n",
    ")"
   ]
  },
  {
   "cell_type": "code",
   "execution_count": 18,
   "metadata": {},
   "outputs": [
    {
     "name": "stderr",
     "output_type": "stream",
     "text": [
      "2024-11-06 18:33:10,103 - src.knowledge_graph - DEBUG - Deleted all nodes in database test. Verify 0 nodes remaining: 0 - c:\\Users\\happy\\Documents\\Projects\\askgrowbuddy\\src\\knowledge_graph.py:90\n",
      "2024-11-06 18:33:10,104 - src.knowledge_graph_batch - INFO - \n",
      "Processing response f850a504-2f5d-4965-a1db-040363d3f1b3 - c:\\Users\\happy\\Documents\\Projects\\askgrowbuddy\\src\\knowledge_graph_batch.py:164\n",
      "2024-11-06 18:33:12,419 - src.knowledge_graph_batch - INFO - Database connection closed - c:\\Users\\happy\\Documents\\Projects\\askgrowbuddy\\src\\knowledge_graph_batch.py:196\n"
     ]
    }
   ],
   "source": [
    "from src.knowledge_graph_batch import BuildGraphIndexBatch\n",
    "\n",
    "kg_builder = BuildGraphIndexBatch()\n",
    "kg_builder.process_batch_results(text_nodes, results_decoder=[example_response], database_name=\"test\")"
   ]
  },
  {
   "cell_type": "code",
   "execution_count": null,
   "metadata": {},
   "outputs": [],
   "source": [
    "from src.knowledge_graph import BuildGraphIndex\n",
    "\n",
    "kg_builder = BuildGraphIndex()\n",
    "kg_index = kg_builder.build_graph_index(\n",
    "    text_nodes=text_nodes, database_name=\"test\", llm_model_name=\"mistral_soil\"\n",
    ")"
   ]
  },
  {
   "cell_type": "code",
   "execution_count": 6,
   "metadata": {},
   "outputs": [
    {
     "name": "stderr",
     "output_type": "stream",
     "text": [
      "2024-11-06 18:26:12,054 - src.knowledge_graph_batch - INFO - Loaded 35 batch results from batch_results.pkl - c:\\Users\\happy\\Documents\\Projects\\askgrowbuddy\\src\\knowledge_graph_batch.py:241\n"
     ]
    },
    {
     "name": "stdout",
     "output_type": "stream",
     "text": [
      "[BetaMessageBatchIndividualResponse(custom_id='f850a504-2f5d-4965-a1db-040363d3f1b3', result=BetaMessageBatchSucceededResult(message=BetaMessage(id='msg_01MTN8DGzEFaWayp7oUUtnAj', content=[BetaTextBlock(text='(Cannabis_plants, OPTIMAL_PH_IS, 6.8-6.9)', type='text')], model='claude-3-5-sonnet-20241022', role='assistant', stop_reason='end_turn', stop_sequence=None, type='message', usage=BetaUsage(cache_creation_input_tokens=None, cache_read_input_tokens=None, input_tokens=371, output_tokens=35)), type='succeeded')), BetaMessageBatchIndividualResponse(custom_id='dc4f3374-999a-4bfd-956f-43990d226e60', result=BetaMessageBatchSucceededResult(message=BetaMessage(id='msg_019T6buSKrEF6PZjdpBnRr8Q', content=[BetaTextBlock(text='Here are 10 key knowledge triplets from the text:\\n\\n(calcium, IS_CRITICAL_IN, cell_wall_development)\\n(environmental_conditions, INFLUENCES, calcium_uptake)\\n(irrigation_water, CONTAINS, calcium_carbonate)\\n(calcium, IS_A, non_mobile_element)\\n(calcium_deficiency, OCCURS_IN, new_developing_portions)\\n(high_humidity, PREVENTS, calcium_uptake)\\n(technical_grade_calcium_chloride, RECOMMENDED_AT, 200-400_ppm)\\n(plant_transpiration, REQUIRED_FOR, calcium_uptake)\\n(boron_deficiency, CAUSES, thicker_brittle_leaves)\\n(water_quality_testing, DETERMINES, calcium_concentrations)\\n\\nNote: I focused on the most clearly stated and important relationships in the text, avoiding any interpretive or implied relationships. The predicates are formatted in UPPERCASE with underscores as requested.', type='text')], model='claude-3-5-sonnet-20241022', role='assistant', stop_reason='end_turn', stop_sequence=None, type='message', usage=BetaUsage(cache_creation_input_tokens=None, cache_read_input_tokens=None, input_tokens=1827, output_tokens=225)), type='succeeded')), BetaMessageBatchIndividualResponse(custom_id='324038d6-c569-4132-a306-7535be330648', result=BetaMessageBatchSucceededResult(message=BetaMessage(id='msg_01QeAajqDF7SFbNyvZzufXJu', content=[BetaTextBlock(text='Here are the key knowledge triplets from the text:\\n\\n(nitrogen_in_NO3, EQUALS, 22.5_percent)\\n(NO3, CONTAINS, 3_oxygen_atoms)\\n(NO3, CONTAINS, 1_nitrogen_atom)\\n(oxygen_atom, ATOMIC_WEIGHT_IS, 16)\\n(nitrogen_atom, ATOMIC_WEIGHT_IS, 14)\\n(P2O5, CONTAINS, 44_percent_elemental_P)\\n(K2O, CONTAINS, 83_percent_potassium)\\n(seedmeal, CONTAINS, 6_percent_N)\\n(6_percent_nitrate_nitrogen, DIVIDED_BY, 0.22)\\n(nitrate_nitrogen_calculation, EQUALS, 27_percent)', type='text')], model='claude-3-5-sonnet-20241022', role='assistant', stop_reason='end_turn', stop_sequence=None, type='message', usage=BetaUsage(cache_creation_input_tokens=None, cache_read_input_tokens=None, input_tokens=761, output_tokens=197)), type='succeeded')), BetaMessageBatchIndividualResponse(custom_id='4e4316d2-e597-43d7-bd32-64cb6f5637fb', result=BetaMessageBatchSucceededResult(message=BetaMessage(id='msg_01YAXmowvAfZNMW9Ezw8QJBj', content=[BetaTextBlock(text='Here are the key knowledge triplets from the text:\\n\\n(Mehlich_III_test, DESIGNED_FOR, standard_soils)\\n(Mehlich_III_test, OPERATES_AT_PH, 2.5)\\n(Mehlich_III_test, USES_SAMPLE_SIZE, 5_milliliters)\\n(M3_test, DISSOLVES, unprocessed_lime)\\n(unprocessed_lime_dissolution, CAUSES, falsely_elevated_calcium_readings)\\n(living_soils, CONTAINS, organic_minerals)\\n(organic_rich_media, CONTAINS, 25-30_percent_organic_matter)\\n(saturated_paste_test, MEASURES, water_soluble_nutrients)\\n(irrigation_water, INFLUENCES, soil_nutrient_profile)\\n(living_soils, LACKS, colloids)', type='text')], model='claude-3-5-sonnet-20241022', role='assistant', stop_reason='end_turn', stop_sequence=None, type='message', usage=BetaUsage(cache_creation_input_tokens=None, cache_read_input_tokens=None, input_tokens=844, output_tokens=216)), type='succeeded')), BetaMessageBatchIndividualResponse(custom_id='8687cc30-3a59-421f-94b3-0e447b68003c', result=BetaMessageBatchSucceededResult(message=BetaMessage(id='msg_01EDr4JgFtbge3NS74ALTQjY', content=[BetaTextBlock(text='Here are the key knowledge triplets from the text:\\n\\n(Saturated_Paste_Tests, MEASURES, readily_available_nutrients)\\n(soil_sample, MIXED_WITH, neutral_water)\\n(soil_sample, WEIGHS, 200_grams)\\n(mixed_sample, SITS_FOR, 24_hours)\\n(water, ANALYZED_BY, ICP)\\n(paste_test, MEASURES, water_soluble_nutrients)', type='text')], model='claude-3-5-sonnet-20241022', role='assistant', stop_reason='end_turn', stop_sequence=None, type='message', usage=BetaUsage(cache_creation_input_tokens=None, cache_read_input_tokens=None, input_tokens=582, output_tokens=111)), type='succeeded')), BetaMessageBatchIndividualResponse(custom_id='9cb2b5ea-fbdd-4157-976c-e27e6aa669d2', result=BetaMessageBatchSucceededResult(message=BetaMessage(id='msg_016ChBV7h6MfdSZW4Q5XcTqA', content=[BetaTextBlock(text='From this text, I can extract:\\n(M3_test, INDICATES, potentially_available_nutrients)\\n(past_test, INDICATES, nutrients_in_solution)', type='text')], model='claude-3-5-sonnet-20241022', role='assistant', stop_reason='end_turn', stop_sequence=None, type='message', usage=BetaUsage(cache_creation_input_tokens=None, cache_read_input_tokens=None, input_tokens=387, output_tokens=49)), type='succeeded')), BetaMessageBatchIndividualResponse(custom_id='968721d3-28b4-422d-95f2-239c29d6efbb', result=BetaMessageBatchSucceededResult(message=BetaMessage(id='msg_0133aqAgu2VJ1PV5zkbmSNMx', content=[BetaTextBlock(text=\"From the text, I'll extract the key knowledge triplets:\\n\\n(furrowslice, MEASURES, 6-7_inches_thick)\\n(furrowslice_acre, WEIGHS, 2000000_pounds)\\n\\nNote: I selected these as they represent the most concrete and explicitly stated relationships in the text. The first captures the physical dimension of a furrowslice, and the second captures the standardized weight measurement used in soil testing.\", type='text')], model='claude-3-5-sonnet-20241022', role='assistant', stop_reason='end_turn', stop_sequence=None, type='message', usage=BetaUsage(cache_creation_input_tokens=None, cache_read_input_tokens=None, input_tokens=460, output_tokens=106)), type='succeeded')), BetaMessageBatchIndividualResponse(custom_id='03213145-1787-4826-8bb3-4872ce7d1a43', result=BetaMessageBatchSucceededResult(message=BetaMessage(id='msg_01Mp8fh8aYMuF59qtRfW7dFu', content=[BetaTextBlock(text='Here are the key knowledge triplets from the text:\\n\\n(organic_matter, TRANSFORMS_INTO, humus)\\n(humus, CONTRIBUTES_TO, cation_exchange_capacity)\\n(higher_organic_matter, LEADS_TO, more_humus_formation)\\n(humus, HAS_PROPERTY, biological_capacity)\\n(humus, ENHANCES, soil_nutrient_holding)\\n\\nNote: I selected these triplets as they represent the most clearly stated and important relationships in the text, focusing on the key characteristics and functions of humus. I avoided interpretations and stuck to explicitly stated relationships using the exact terminology from the text where possible.', type='text')], model='claude-3-5-sonnet-20241022', role='assistant', stop_reason='end_turn', stop_sequence=None, type='message', usage=BetaUsage(cache_creation_input_tokens=None, cache_read_input_tokens=None, input_tokens=622, output_tokens=155)), type='succeeded')), BetaMessageBatchIndividualResponse(custom_id='43ce71e8-b5a7-44e1-a207-2f134b448359', result=BetaMessageBatchSucceededResult(message=BetaMessage(id='msg_016gWKDZQvVXuSozsrkZk99k', content=[BetaTextBlock(text=\"Here are the key knowledge triplets from the text:\\n\\n(peat, IS, biologically_active_substrate)\\n(peat, CONTRADICTS, sterile_assumption)\\n(agricultural_lime, INFLUENCES, soil_test_outcomes)\\n(peat, TRANSFORMS_INTO, humus)\\n(humus, INCREASES, nutrient_holding_capacity)\\n(peat_decomposition, ENHANCES, soil_CEC)\\n(peat, CONTAINS, biological_activity)\\n(peat_breakdown, CREATES, concentrated_organic_matter)\\n(microbial_processes, CYCLES, agricultural_lime)\\n(decomposed_peat, IMPROVES, nutrient_holding_capacity)\\n\\nNote: I've extracted these relationships based on explicitly stated information in the text, using the specified formatting guidelines. Each relationship represents a distinct fact or connection mentioned in the passage.\", type='text')], model='claude-3-5-sonnet-20241022', role='assistant', stop_reason='end_turn', stop_sequence=None, type='message', usage=BetaUsage(cache_creation_input_tokens=None, cache_read_input_tokens=None, input_tokens=739, output_tokens=208)), type='succeeded')), BetaMessageBatchIndividualResponse(custom_id='9011ee79-fb09-473b-a501-2f1974426c62', result=BetaMessageBatchSucceededResult(message=BetaMessage(id='msg_015GD2zZkUwHLF9kyneS6fYx', content=[BetaTextBlock(text='Here are the key knowledge triplets from the text:\\n\\n(high_soluble_salts, CAUSES, increased_plant_energy_expenditure)\\n(high_salt_concentration, PULLS, water_from_roots)\\n(soil_drying, CAUSES, increased_salt_concentration)\\n(high_salt_concentrations, INCREASES, pH_readings)\\n(irrigation_system, MITIGATES, soluble_salt_issues)\\n(high_sodium_water, CAUSES, soil_element_accumulation)\\n(high_calcium_water, CAUSES, soil_element_accumulation)\\n(high_bicarbonates, CAUSES, nutrient_lockout)\\n(soluble_salts, INCLUDES, cations_and_anions)\\n(soil_moisture, PREVENTS, problematic_salt_concentration)', type='text')], model='claude-3-5-sonnet-20241022', role='assistant', stop_reason='end_turn', stop_sequence=None, type='message', usage=BetaUsage(cache_creation_input_tokens=None, cache_read_input_tokens=None, input_tokens=801, output_tokens=193)), type='succeeded')), BetaMessageBatchIndividualResponse(custom_id='8c1bfb50-76e2-49e6-96ad-1d26c637ed9c', result=BetaMessageBatchSucceededResult(message=BetaMessage(id='msg_01Li4VfPs89F3nrsyYWE5FD4', content=[BetaTextBlock(text='Here are the key knowledge triplets from the text:\\n\\n(1_meq_calcium, EQUALS, 400_lb_per_acre)\\n(1_meq_magnesium, EQUALS, 240_lb_per_acre)\\n(1_meq_potassium, EQUALS, 780_lb_per_acre)\\n(1_meq_sodium, EQUALS, 460_lb_per_acre)\\n(1_ppm, EQUALS, 2_pounds_per_acre)\\n(TCEC_7.0, EQUALS, 2800_pounds_calcium)\\n\\nNote: I extracted the most concrete and clearly stated numerical relationships from the text. I focused on the specific conversion values and equivalencies that were explicitly stated. The triplets capture the key quantitative relationships while avoiding interpretative or derived information.', type='text')], model='claude-3-5-sonnet-20241022', role='assistant', stop_reason='end_turn', stop_sequence=None, type='message', usage=BetaUsage(cache_creation_input_tokens=None, cache_read_input_tokens=None, input_tokens=898, output_tokens=192)), type='succeeded')), BetaMessageBatchIndividualResponse(custom_id='15d5d573-0295-470e-9403-0ad2ac483c7b', result=BetaMessageBatchSucceededResult(message=BetaMessage(id='msg_019ocHTWnmRXzYTnn7RUXLpz', content=[BetaTextBlock(text=\"Here are the key knowledge triplets from the text:\\n\\n(colloid, HAS_DIAMETER_LESS_THAN, 1_micron)\\n(colloid_surfaces, POSSESS, negative_charge)\\n(colloid_surfaces, ATTRACTS, positively_charged_ions)\\n(cations, ARE_HELD_BY, colloid_surfaces)\\n(colloids, ENABLES, nutrient_retention)\\n(colloids, ENABLES, water_retention)\\n(colloids, HAS_PROPERTY, high_surface_area)\\n(water_molecules, ADHERES_TO, colloid_surfaces)\\n(colloids, IMPROVES, soil_structure)\\n(colloids, REDUCES, water_leaching)\\n\\nNote: I've extracted the most significant and clearly stated relationships from the text, focusing on the fundamental properties and functions of colloids in soil systems.\", type='text')], model='claude-3-5-sonnet-20241022', role='assistant', stop_reason='end_turn', stop_sequence=None, type='message', usage=BetaUsage(cache_creation_input_tokens=None, cache_read_input_tokens=None, input_tokens=1097, output_tokens=203)), type='succeeded')), BetaMessageBatchIndividualResponse(custom_id='33cad0b9-807c-4e24-b203-8e039508252d', result=BetaMessageBatchSucceededResult(message=BetaMessage(id='msg_01DFS2ZubEZr3thUfZDx76aA', content=[BetaTextBlock(text='Here are the key knowledge triplets from the text:\\n\\n(SOM, ORIGINATES_FROM, decomposed_plant_and_animal_residues)\\n(microbial_decomposition, TRANSFORMS, materials_into_humus)\\n(humus, CONTAINS, negatively_charged_sites)\\n(humus, HOLDS, cations_and_anions)\\n(humus, IMPROVES, soil_structure)\\n(humus, ENHANCES, water_retention)\\n(humus, PROVIDES, environment_for_beneficial_soil_microbes)\\n(humus, ACTS_AS, natural_buffer_for_soil_pH)\\n(soil_microbes, ASSISTS_IN, nutrient_uptake)', type='text')], model='claude-3-5-sonnet-20241022', role='assistant', stop_reason='end_turn', stop_sequence=None, type='message', usage=BetaUsage(cache_creation_input_tokens=None, cache_read_input_tokens=None, input_tokens=741, output_tokens=173)), type='succeeded')), BetaMessageBatchIndividualResponse(custom_id='021fcccc-093f-4375-8f0a-2ca5035a97d8', result=BetaMessageBatchSucceededResult(message=BetaMessage(id='msg_01FwP8q1sHaxXx3PmkcjrBRF', content=[BetaTextBlock(text='Here are the key knowledge triplets from the text:\\n\\n(compost, REQUIRES, gradual_introduction)\\n(soil_testing, MEASURES, pH_cation_balance_sodium_chloride_levels)\\n(compost, OPTIMAL_RATIO_IS, 18_to_1)\\n(excessive_compost, CAUSES, nutrient_imbalance)\\n(excessive_compost, CAUSES, anaerobic_soil_conditions)\\n(informed_compost_addition, MAINTAINS, soil_fertility)\\n(informed_compost_addition, MAINTAINS, microbial_diversity)', type='text')], model='claude-3-5-sonnet-20241022', role='assistant', stop_reason='end_turn', stop_sequence=None, type='message', usage=BetaUsage(cache_creation_input_tokens=None, cache_read_input_tokens=None, input_tokens=639, output_tokens=146)), type='succeeded')), BetaMessageBatchIndividualResponse(custom_id='02123709-5b0f-4f8a-a150-d53aeb307c36', result=BetaMessageBatchSucceededResult(message=BetaMessage(id='msg_01LEQiXKdmzQeTCR6cmbcHj6', content=[BetaTextBlock(text=\"Here are the key knowledge triplets from the text:\\n\\n(calcium_magnesium_ratio, OPTIMAL_RATIO_IS, 68_12)\\n(inverted_cation_ratios, IMPACTS, nutrient_absorption)\\n(inverted_cation_ratios, IMPACTS, soil_physical_properties)\\n(mineralized_soils, INCREASES, biomass_production)\\n(decomposed_biomass, ENHANCES, soil_organic_matter)\\n(humus, RETAINS, anions)\\n(clay, HOLDS, cations)\\n(organic_matter, HOLDS, cations)\\n\\nNote: I've extracted the most clearly stated relationships while maintaining the exact terminology from the text and following the formatting guidelines. Each concept appears in only one meaningful relationship where possible, and the relationships reflect direct cause-effect or descriptive statements from the text.\", type='text')], model='claude-3-5-sonnet-20241022', role='assistant', stop_reason='end_turn', stop_sequence=None, type='message', usage=BetaUsage(cache_creation_input_tokens=None, cache_read_input_tokens=None, input_tokens=627, output_tokens=205)), type='succeeded')), BetaMessageBatchIndividualResponse(custom_id='fe5e923a-5420-4a9e-91a1-b5bb7d04ec2c', result=BetaMessageBatchSucceededResult(message=BetaMessage(id='msg_01NMmGyEUSeaWdy9ELMehjYN', content=[BetaTextBlock(text='Here are the key knowledge triplets from the text:\\n\\n(nutrient_balance, IS_KEY_FOR, plant_growth)\\n(nitrogen_deficient_plants, DISPLAYS, yellow_spindly_shorter_growth)\\n(excess_chemical_nitrogen, LOWERS, soil_organic_matter_levels)\\n(microbes, MAINTAINS, 20:1_carbon_nitrogen_ratio)\\n(phosphorus, SUPPLIES, plant_energy)\\n(phosphorus_deficient_plants, DISPLAYS, lighter_color_short_reddish)\\n(phosphorus, IS_IMMOBILE_IN, soil)\\n(phosphorus_uptake, OCCURS_THROUGH, diffusion)\\n(good_root_development, IS_ESSENTIAL_FOR, phosphorus_uptake)\\n(phosphorus_levels, SHOULD_BE, 250_lbs_per_acre)', type='text')], model='claude-3-5-sonnet-20241022', role='assistant', stop_reason='end_turn', stop_sequence=None, type='message', usage=BetaUsage(cache_creation_input_tokens=None, cache_read_input_tokens=None, input_tokens=1273, output_tokens=206)), type='succeeded')), BetaMessageBatchIndividualResponse(custom_id='016373ac-5075-4b13-92fd-62c92de41a98', result=BetaMessageBatchSucceededResult(message=BetaMessage(id='msg_011zAcH1V5MWRd1jpEPMynxj', content=[BetaTextBlock(text='Here are the key knowledge triplets from the text:\\n\\n(phosphorus, DETERMINES, plant_growth_speed)\\n(phosphorus, IS_PART_OF, cellular_enzymes)\\n(low_phosphorus, CAUSES, slower_growth)\\n(low_phosphorus, CAUSES, smaller_yield)\\n(catastrophic_low_phosphorus, CAUSES, purple_plant_color)\\n(water_soluble_phosphate, DETERMINES, mineral_content)\\n(maximum_yield, REQUIRES, 400_lbs_per_acre_available_phosphate)\\n(soft_rock_phosphate, IS_BEST_FOR, achieving_phosphate_level)\\n(phosphorus, IS_BECOMING, increasingly_scarce)\\n(phosphorus_scarcity, CAUSES, increasing_price)', type='text')], model='claude-3-5-sonnet-20241022', role='assistant', stop_reason='end_turn', stop_sequence=None, type='message', usage=BetaUsage(cache_creation_input_tokens=None, cache_read_input_tokens=None, input_tokens=770, output_tokens=189)), type='succeeded')), BetaMessageBatchIndividualResponse(custom_id='9f9fc75b-7b29-413e-8eaf-5d8a72f83f00', result=BetaMessageBatchSucceededResult(message=BetaMessage(id='msg_01VprsbmRo8nexpVcv8HVQkg', content=[BetaTextBlock(text='Here are the key knowledge triplets from the text:\\n\\n(potassium, AFFECTS, disease_resistance)\\n(potassium, AFFECTS, water_efficiency)\\n(potassium_deficiency, CAUSES, increased_water_requirements)\\n(potassium_deficiency, CAUSES, lower_carbohydrate_contents)\\n(potassium_deficiency, CAUSES, increased_insect_attraction)\\n(potassium_deficiency, APPEARS_ON, lower_leaves)\\n(corn_crop_180_bushels, REMOVES, 30-35_lbs_potassium)\\n(potassium, COMPETES_WITH, magnesium_uptake)\\n\\nNote: I selected these as they represent the clearest and most direct factual relationships stated in the text, focusing on the key characteristics, effects, and interactions of potassium in plants.', type='text')], model='claude-3-5-sonnet-20241022', role='assistant', stop_reason='end_turn', stop_sequence=None, type='message', usage=BetaUsage(cache_creation_input_tokens=None, cache_read_input_tokens=None, input_tokens=729, output_tokens=201)), type='succeeded')), BetaMessageBatchIndividualResponse(custom_id='4ea2320a-065a-417a-be5f-b14b009f184d', result=BetaMessageBatchSucceededResult(message=BetaMessage(id='msg_01R8XGaAtDs5jWdgCRQCtQfM', content=[BetaTextBlock(text='Here are the key knowledge triplets from the text:\\n\\n(emission_controls, CAUSES, less_sulfur_dioxide_in_atmosphere)\\n(sulfur, CONVERTS_INTO, amino_acids_and_enzymes)\\n(sulfur, HELPS, nitrate_to_protein_conversion)\\n(sulfur_deficiency, RESEMBLES, nitrogen_deficiency)\\n(increased_nitrogen_application, REQUIRES, increased_sulfur_levels)\\n(heavy_soils, OPTIMAL_SULFUR_LEVEL_IS, 30_ppm)\\n(high_sulfur_levels, INDICATES, poor_drainage)\\n\\nNote: I selected these as they represent the most important and clearly stated relationships in the text, focusing on cause-effect relationships and key numerical values. I avoided including the detailed pH-related table data as it would be too granular for the key concepts.', type='text')], model='claude-3-5-sonnet-20241022', role='assistant', stop_reason='end_turn', stop_sequence=None, type='message', usage=BetaUsage(cache_creation_input_tokens=None, cache_read_input_tokens=None, input_tokens=868, output_tokens=205)), type='succeeded')), BetaMessageBatchIndividualResponse(custom_id='c15a8ab9-f15a-4291-8a64-266ca4a9cbca', result=BetaMessageBatchSucceededResult(message=BetaMessage(id='msg_014PcFnMUF5SiANAHLhKKHpK', content=[BetaTextBlock(text='Here are 4 key knowledge triplets from the text:\\n\\n(calcium, FACILITATES, nutrient_movement)\\n(calcium, CONTROLS, soil_pH)\\n(calcium_deficiency, CAUSES, blossom_end_rot)\\n(calcium_deficiency, CAUSES, manganese_toxicity)\\n\\nNote: I selected these as they represent clear cause-effect relationships and key functions explicitly stated in the text. I avoided interpretations and stuck to directly stated relationships, using the exact terminology from the text where possible.', type='text')], model='claude-3-5-sonnet-20241022', role='assistant', stop_reason='end_turn', stop_sequence=None, type='message', usage=BetaUsage(cache_creation_input_tokens=None, cache_read_input_tokens=None, input_tokens=584, output_tokens=118)), type='succeeded')), BetaMessageBatchIndividualResponse(custom_id='0b023fcb-7895-451e-92de-7c1918557865', result=BetaMessageBatchSucceededResult(message=BetaMessage(id='msg_0125uVoXVYuer93XEY4Pu8Ua', content=[BetaTextBlock(text=\"Here are 2 key knowledge triplets from the text:\\n\\n(magnesium, ENABLES, chlorophyll_formation)\\n(magnesium_deficiency, CAUSES, interveinal_chlorosis)\\n\\nNote: While the text contains more information, I've selected the two most clearly stated and significant relationships that fit the formatting guidelines. The first captures the essential role of magnesium in chlorophyll formation, and the second captures a key symptom of magnesium deficiency.\", type='text')], model='claude-3-5-sonnet-20241022', role='assistant', stop_reason='end_turn', stop_sequence=None, type='message', usage=BetaUsage(cache_creation_input_tokens=None, cache_read_input_tokens=None, input_tokens=545, output_tokens=116)), type='succeeded')), BetaMessageBatchIndividualResponse(custom_id='8dcbbb77-1ac6-4da0-8469-800a85679bb5', result=BetaMessageBatchSucceededResult(message=BetaMessage(id='msg_01Ct64JkLb4vjm6x1TfbBoq3', content=[BetaTextBlock(text=\"From this text, I'll extract 2 key knowledge triplets:\\n\\n(trace_elements, REQUIRES, very_small_quantities)\\n(soil_pH, REDUCES, trace_elements_solubility)\\n\\nThese triplets capture two of the main factual relationships explicitly stated in the text, focusing on the key characteristics of trace elements and how soil pH affects their solubility.\", type='text')], model='claude-3-5-sonnet-20241022', role='assistant', stop_reason='end_turn', stop_sequence=None, type='message', usage=BetaUsage(cache_creation_input_tokens=None, cache_read_input_tokens=None, input_tokens=548, output_tokens=95)), type='succeeded')), BetaMessageBatchIndividualResponse(custom_id='b471c66e-3909-4566-89e8-3966ee55e2fe', result=BetaMessageBatchSucceededResult(message=BetaMessage(id='msg_01LygEoeqYrwJ98fVcCUxFmG', content=[BetaTextBlock(text='Here are 5 key knowledge triplets from the text:\\n\\n(boron, IS_INVOLVED_IN, energy_transformation_reactions)\\n(calcium, REDUCES, boron_solubility)\\n(low_boron, CAUSES, calcium_deficiencies)\\n(boron, IMPROVES, potassium_uptake)\\n(boron, MOVES_THROUGH, xylem)\\n\\nNote: I selected these as they represent the clearest and most direct factual relationships stated in the text. I avoided interpretive or complex relationships and focused on clearly stated cause-effect or descriptive relationships using the exact terminology from the text.', type='text')], model='claude-3-5-sonnet-20241022', role='assistant', stop_reason='end_turn', stop_sequence=None, type='message', usage=BetaUsage(cache_creation_input_tokens=None, cache_read_input_tokens=None, input_tokens=571, output_tokens=146)), type='succeeded')), BetaMessageBatchIndividualResponse(custom_id='a51639ad-b9c9-448e-b16f-75b024efd94f', result=BetaMessageBatchSucceededResult(message=BetaMessage(id='msg_01XzcxpDbRFjE95wz6mCqAbK', content=[BetaTextBlock(text='Here are the key knowledge triplets from the text:\\n\\n(iron, CONTRIBUTES_TO, green_coloration_of_plants)\\n(iron, REQUIRES, continual_supply)\\n(iron_deficiencies, APPEARS_FIRST_IN, new_growth)\\n(high_bicarbonate, REDUCES, iron_availability)\\n\\nNote: I selected these as they represent clear, direct relationships explicitly stated in the text. I avoided interpretations or implied relationships, and used predicates that clearly describe the relationship between subject and object.', type='text')], model='claude-3-5-sonnet-20241022', role='assistant', stop_reason='end_turn', stop_sequence=None, type='message', usage=BetaUsage(cache_creation_input_tokens=None, cache_read_input_tokens=None, input_tokens=613, output_tokens=125)), type='succeeded')), BetaMessageBatchIndividualResponse(custom_id='5298a473-56ca-4c67-8797-a9defd459c58', result=BetaMessageBatchSucceededResult(message=BetaMessage(id='msg_01CXkF7TJtNvHD6mhi2pctNb', content=[BetaTextBlock(text=\"From the text, I'll extract the key knowledge triplets:\\n\\n(manganese, IMPACTS, disease_resistance)\\n(high_pH_soils, REDUCES, manganese_availability)\\n(loose_soils, REDUCES, manganese_availability)\\n\\nNote: While the text mentions several other effects of manganese (like nitrogen utilization, photosynthesis, etc.), I selected the most clearly stated relationships and avoided repeating manganese in multiple triplets. I also combined the soil conditions that reduce manganese availability into separate triplets to maintain clarity and avoid complex compound subjects.\", type='text')], model='claude-3-5-sonnet-20241022', role='assistant', stop_reason='end_turn', stop_sequence=None, type='message', usage=BetaUsage(cache_creation_input_tokens=None, cache_read_input_tokens=None, input_tokens=463, output_tokens=128)), type='succeeded')), BetaMessageBatchIndividualResponse(custom_id='c77f99bf-0517-4aa0-b75d-df599df154d2', result=BetaMessageBatchSucceededResult(message=BetaMessage(id='msg_01BzNjnjQ4jL1GZHNcz9Yn8G', content=[BetaTextBlock(text='Here are the key knowledge triplets from the text:\\n\\n(copper, IMPROVES, nitrogen_utilization)\\n(copper, IMPROVES, protein_formation)\\n(high_phosphorus, CAUSES, copper_deficiencies)\\n(high_potassium, CAUSES, copper_deficiencies)\\n(copper, REDUCES, wheat_head_blights)\\n\\nNote: I selected these as they represent the clearest and most direct factual relationships stated in the text. I avoided including some of the more complex or conditional relationships to maintain clarity and accuracy. The predicates are formatted as instructed using only uppercase letters and underscores.', type='text')], model='claude-3-5-sonnet-20241022', role='assistant', stop_reason='end_turn', stop_sequence=None, type='message', usage=BetaUsage(cache_creation_input_tokens=None, cache_read_input_tokens=None, input_tokens=522, output_tokens=147)), type='succeeded')), BetaMessageBatchIndividualResponse(custom_id='fababfc8-9acd-4726-b606-923dd63cd202', result=BetaMessageBatchSucceededResult(message=BetaMessage(id='msg_01FHhmY147zTxso55aDncNBR', content=[BetaTextBlock(text=\"Here are the key knowledge triplets from the text:\\n\\n(zinc, INFLUENCES, plant_reproduction_chemistry)\\n(corn_soybeans_fruit_trees, ARE_SENSITIVE_TO, zinc_deficiencies)\\n(zinc_deficiency, CAUSES, smaller_lighter_plants)\\n(high_soil_pH, REDUCES, zinc_availability)\\n(manure_application, INCREASES, zinc_availability)\\n(zinc_seed_treatment, LASTS, 30-35_days)\\n\\nNote: I selected these as they represent the most significant and clearly stated relationships in the text, focusing on zinc's role, effects of its deficiency, and factors affecting its availability. Each triplet captures a distinct and important fact from the text using exact terminology while avoiding redundancy.\", type='text')], model='claude-3-5-sonnet-20241022', role='assistant', stop_reason='end_turn', stop_sequence=None, type='message', usage=BetaUsage(cache_creation_input_tokens=None, cache_read_input_tokens=None, input_tokens=622, output_tokens=174)), type='succeeded')), BetaMessageBatchIndividualResponse(custom_id='db45c513-135c-429e-b497-a9f80509c569', result=BetaMessageBatchSucceededResult(message=BetaMessage(id='msg_01B6VTV7QfBvyMix9UYdA1ib', content=[BetaTextBlock(text='Here are 5 key knowledge triplets from the text:\\n\\n(molybdenum, INCREASES_IN, availability_as_pH_increases)\\n(molybdenum, IS_INVOLVED_IN, nitrogen_assimilation)\\n(high_phosphorus, REDUCES, molybdenum_uptake)\\n(molybdenum_deficiency, CAUSES, leaf_margin_yellowing)\\n(adequate_soil_pH, IS_BEST_FOR, molybdenum_supply)', type='text')], model='claude-3-5-sonnet-20241022', role='assistant', stop_reason='end_turn', stop_sequence=None, type='message', usage=BetaUsage(cache_creation_input_tokens=None, cache_read_input_tokens=None, input_tokens=576, output_tokens=127)), type='succeeded')), BetaMessageBatchIndividualResponse(custom_id='d9cb8f5d-d3da-4774-9a9a-6cf05a39d896', result=BetaMessageBatchSucceededResult(message=BetaMessage(id='msg_01UeTJXpkwa3cu4x5yVvK9um', content=[BetaTextBlock(text='Here are the key knowledge triplets from the text:\\n\\n(soil_sampling_depth, AFFECTS, test_outcome)\\n(phosphorus, MOVES, less_than_half_inch_in_soil)\\n(calcium, IS, primarily_xylem_mobile)\\n(calcium, MOVES, upward_exclusively)\\n(lime_at_pH_7.0, IS, 5%_soluble)\\n(surface_lime, INCREASES, surface_pH)\\n(one_inch_sandy_loam, WEIGHS, 330000_lbs_per_acre)\\n(sampling_depth_variation, CAUSES, 17%_test_variable)\\n(dissolved_potassium, DISPLACES, calcium_and_magnesium)\\n(nutrient_stratification, OCCURS_FROM, conservation_tillage)\\n\\nNote: I extracted these relationships that were explicitly stated in the text, focusing on the most specific and quantifiable information while maintaining the cause-effect relationships where clearly indicated.', type='text')], model='claude-3-5-sonnet-20241022', role='assistant', stop_reason='end_turn', stop_sequence=None, type='message', usage=BetaUsage(cache_creation_input_tokens=None, cache_read_input_tokens=None, input_tokens=1453, output_tokens=228)), type='succeeded')), BetaMessageBatchIndividualResponse(custom_id='6568782e-5d93-4668-b1d3-78e55c547522', result=BetaMessageBatchSucceededResult(message=BetaMessage(id='msg_01Bq6MLbaDYZEytFp2XnqbfL', content=[BetaTextBlock(text='Here are the key knowledge triplets from the text:\\n\\n(mass_flow, IS_DRIVEN_BY, transpiration_stream)\\n(nitrogen, MOVES_BY, mass_flow)\\n(calcium, MOVES_BY, mass_flow)\\n(phosphorus, MOVES_BY, diffusion)\\n(potassium, MOVES_BY, diffusion)\\n(zinc, MOVES_BY, interceptive_root_growth)\\n(copper, MOVES_BY, interceptive_root_growth)\\n(calcium_boron_manganese, TRAVELS_IN, xylem)\\n\\nNote: I focused on the clearest and most direct relationships stated in the text, prioritizing the fundamental nutrient transport mechanisms and movement patterns. I avoided interpretive or complex relationships that would require combining multiple concepts.', type='text')], model='claude-3-5-sonnet-20241022', role='assistant', stop_reason='end_turn', stop_sequence=None, type='message', usage=BetaUsage(cache_creation_input_tokens=None, cache_read_input_tokens=None, input_tokens=949, output_tokens=186)), type='succeeded')), BetaMessageBatchIndividualResponse(custom_id='11ab6301-7374-4991-a63e-c9cfaa4b7cb0', result=BetaMessageBatchSucceededResult(message=BetaMessage(id='msg_013FHceufjysYodJoM8KnHLb', content=[BetaTextBlock(text=\"(1.0_mEq_hydrogen, EQUALS, 20_lbs_hydrogen_per_acre_furrow_slice)\\n\\nNote: While there are multiple relationships shown in the text, I've extracted just one key triplet as requested. I chose the first relationship mentioned. Each relationship follows the same pattern of mEq to pounds conversion for different nutrients.\", type='text')], model='claude-3-5-sonnet-20241022', role='assistant', stop_reason='end_turn', stop_sequence=None, type='message', usage=BetaUsage(cache_creation_input_tokens=None, cache_read_input_tokens=None, input_tokens=512, output_tokens=86)), type='succeeded')), BetaMessageBatchIndividualResponse(custom_id='d5638420-f723-4bc2-ace4-7a20adbf989f', result=BetaMessageBatchSucceededResult(message=BetaMessage(id='msg_01QzUBSd8YPm1mUu4rotqhn1', content=[BetaTextBlock(text=\"From the provided text, I'll extract the key knowledge triplets:\\n\\n(Albrecht_soil_balancing, DEVELOPED_BY, Dr_William_Albrecht)\\n(Albrecht_soil_balancing, REQUIRES, optimal_balance_of_soil_nutrients)\\n(calcium, COMPRISES, 68_percent)\\n(magnesium, COMPRISES, 12_percent)\\n(potassium, COMPRISES, 3-5_percent)\\n\\nNote: I focused on the most concrete and explicitly stated relationships in the text. The percentages are tied to the soil's cation exchange capacity, but I've simplified the relationships to capture the core numerical facts. I excluded interpretive relationships that weren't explicitly stated in the text.\", type='text')], model='claude-3-5-sonnet-20241022', role='assistant', stop_reason='end_turn', stop_sequence=None, type='message', usage=BetaUsage(cache_creation_input_tokens=None, cache_read_input_tokens=None, input_tokens=506, output_tokens=169)), type='succeeded')), BetaMessageBatchIndividualResponse(custom_id='83b0f15e-9129-49ca-b0dd-652664831d57', result=BetaMessageBatchSucceededResult(message=BetaMessage(id='msg_01U7oAavVELhpmQZfUNraAXT', content=[BetaTextBlock(text='Here are the key knowledge triplets from the text:\\n\\n(phosphoric_acid, STABILIZES, fish_hydrolysate)\\n(fish_hydrolysate, IS_A, liquid)\\n(Brandon, USES, fish_hydrolysate_during_transplanting)\\n(Brandon, ADDS, 1_cup_per_10_gallons)\\n(fish_hydrolysate, PROVIDES, available_phosphorus)\\n(fish_hydrolysate, PROVIDES, available_nitrogen)\\n(fish_hydrolysate, REQUIRES, quick_use)\\n(Brandon, USES_AS, liquid_bandaid)\\n(Brandon, STARTS, tea_bubbling_overnight)\\n(fish_hydrolysate_in_compost_tea, CAUSES, plants_to_explode)', type='text')], model='claude-3-5-sonnet-20241022', role='assistant', stop_reason='end_turn', stop_sequence=None, type='message', usage=BetaUsage(cache_creation_input_tokens=None, cache_read_input_tokens=None, input_tokens=769, output_tokens=196)), type='succeeded')), BetaMessageBatchIndividualResponse(custom_id='32330693-d754-4ef3-bee5-0e4175a411a9', result=BetaMessageBatchSucceededResult(message=BetaMessage(id='msg_01R7Uft7Ccx42T78Nxch5wnm', content=[BetaTextBlock(text='Here are the key knowledge triplets from the text:\\n\\n(soil_sealing, CAUSES, reduced_water_infiltration)\\n(urban_expansion, CAUSES, soil_sealing)\\n(heavy_machinery, CAUSES, soil_compaction)\\n(climate_change, CAUSES, intense_rainfall)\\n(large_water_droplets, INCREASES, sealing_risk)\\n(sandy_soils, HAS, high_sealing_resistance)\\n(silty_soils, HAS, low_sealing_resistance)\\n(high_sodium, CAUSES, soil_particle_dispersion)\\n(mulch, PREVENTS, soil_sealing)\\n(soil_compaction, REDUCES, soil_fertility)\\n\\nNote: These triplets represent the most significant relationships explicitly stated in the text, focusing on causes, effects, and key characteristics of soil sealing and related factors.', type='text')], model='claude-3-5-sonnet-20241022', role='assistant', stop_reason='end_turn', stop_sequence=None, type='message', usage=BetaUsage(cache_creation_input_tokens=None, cache_read_input_tokens=None, input_tokens=1286, output_tokens=202)), type='succeeded')), BetaMessageBatchIndividualResponse(custom_id='db030f42-c907-4665-a21a-9470a3029519', result=BetaMessageBatchSucceededResult(message=BetaMessage(id='msg_01JuGbZFKmL5UekUTg3MFS9W', content=[BetaTextBlock(text=\"From this text, I can extract these triplets:\\n\\n(compost, CAUSES, high_nitrates)\\n(fish_meal, CAUSES, high_nitrates)\\n(blood_meal, CAUSES, high_nitrates)\\n\\nNote: While the text lists more items (feather meal, guanos, KNF, Jadam, ferments), I limited to the top 3 most clearly stated causes as per the request for up to 3 triplets. The numeric value 338PPM was mentioned but not in a clear relationship statement, so it wasn't included in a triplet.\", type='text')], model='claude-3-5-sonnet-20241022', role='assistant', stop_reason='end_turn', stop_sequence=None, type='message', usage=BetaUsage(cache_creation_input_tokens=None, cache_read_input_tokens=None, input_tokens=420, output_tokens=139)), type='succeeded'))]\n"
     ]
    }
   ],
   "source": [
    "from src.knowledge_graph_batch import BuildGraphIndexBatch\n",
    "\n",
    "kg_builder_batch = BuildGraphIndexBatch()\n",
    "kg_index_batch = kg_builder_batch.load_batch_results()\n",
    "print(kg_index_batch)\n"
   ]
  },
  {
   "cell_type": "code",
   "execution_count": 5,
   "metadata": {},
   "outputs": [
    {
     "data": {
      "text/plain": [
       "anthropic.types.beta.messages.beta_message_batch_individual_response.BetaMessageBatchIndividualResponse"
      ]
     },
     "execution_count": 5,
     "metadata": {},
     "output_type": "execute_result"
    }
   ],
   "source": [
    "type(kg_index_batch[0])\n"
   ]
  },
  {
   "cell_type": "markdown",
   "metadata": {},
   "source": []
  }
 ],
 "metadata": {
  "kernelspec": {
   "display_name": ".venv",
   "language": "python",
   "name": "python3"
  },
  "language_info": {
   "codemirror_mode": {
    "name": "ipython",
    "version": 3
   },
   "file_extension": ".py",
   "mimetype": "text/x-python",
   "name": "python",
   "nbconvert_exporter": "python",
   "pygments_lexer": "ipython3",
   "version": "3.12.0"
  }
 },
 "nbformat": 4,
 "nbformat_minor": 2
}
