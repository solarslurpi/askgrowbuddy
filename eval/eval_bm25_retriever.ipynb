{
 "cells": [
  {
   "cell_type": "markdown",
   "metadata": {},
   "source": [
    "Handling of BM25 node retrieval is a bit different than with the vector or graph index.  It has to do with LlamaIndex's APIs.  The wrapper APIs they have focus on the retriever, so I end up passing a BM25 retriever into the hybrid retriever."
   ]
  },
  {
   "cell_type": "code",
   "execution_count": null,
   "metadata": {
    "vscode": {
     "languageId": "plaintext"
    }
   },
   "outputs": [],
   "source": [
    "# This notebook is in the eval folder.  Change to the root folder.\n",
    "%cd ..\n",
    "%pwd  # To verify the current working directory"
   ]
  },
  {
   "cell_type": "code",
   "execution_count": null,
   "metadata": {
    "vscode": {
     "languageId": "plaintext"
    }
   },
   "outputs": [],
   "source": [
    "# Get a retriever to use during hybrid retrieval.\n",
    "from src.ingest_service import IngestService\n",
    "ingest_service = IngestService()\n",
    "bm25_retriever = ingest_service.build_bm25_retriever(nodes=text_nodes, similarity_top_k=3)"
   ]
  }
 ],
 "metadata": {
  "language_info": {
   "name": "python"
  }
 },
 "nbformat": 4,
 "nbformat_minor": 2
}
