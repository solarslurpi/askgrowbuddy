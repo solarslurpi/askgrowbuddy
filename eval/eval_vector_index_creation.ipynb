{
 "cells": [
  {
   "cell_type": "markdown",
   "metadata": {},
   "source": [
    "# The Start\n",
    "Let's walk through the process of creating a vector index."
   ]
  },
  {
   "cell_type": "markdown",
   "metadata": {},
   "source": [
    "# Step 1: Load the Documents\n",
    "The `IngestService` has a method `load_obsidian_notes` that loads the notes from an Obsidian vault.  The input can be either a list of Document objects or a directory containing Obsidian notes.\n",
    "\n",
    "Using Obsidian notes provides several advantages:\n",
    "- Notes are easy to write and edit.\n",
    "- Frontmatter/tags transfer into the metadata of the nodes.\n",
    "- The Headers provide natural splitting points for the text.\n",
    "\n",
    "The `IngestService` class relies on Langchain's `ObsidianLoader` class to load the notes.  The `ObsidianLoader` class uses the frontmatter, tags, dataview fields, and file metadata to populate the metadata of the nodes.  The additional metadata will benefit retrieval of the best nodes to answer a given query.\n",
    "\n",
    "The `load_obsidian_notes` method takes in either:\n",
    "- a list of strings where each string is considered a markdown file.\n",
    "- a directory path to an Obsidian vault.\n",
    "The list of strings options is useful for testing."
   ]
  },
  {
   "cell_type": "code",
   "execution_count": 8,
   "metadata": {},
   "outputs": [],
   "source": [
    "# E.g. to show using the ability to read in a list of Documents to test out loading Documents.\n",
    "\n",
    "doc = \"\"\"#Calcium_additive #raise_ph #Wollastonite #Silicon_additive #buffer_pH #Calcium\n",
    "Growers  turn to Wollastonite for:\n",
    "- Its **liming** capability.  Wollastonite's dissolution rate is slower than agricultural lime, offering a buffering effect against rapid pH changes. This makes Wollastonite beneficial in areas with fluctuating acidity levels.\n",
    "- Adding **Silicon**.\n",
    "- Adding **Calcium**.\n",
    "Wollastonite's pH buffering effect and Silicon content contribute to pest control and powdery mildew suppression, although the exact mechanisms are not fully understood.\n",
    "\n",
    "# What is Wollastonite?\n",
    "\n",
    "## Formation\n",
    "Wollastonite is formed when Limestone is subjected to heat and pressure during metamorphism if surrounding silicate minerals are present.\n",
    "### Basic Reaction:\n",
    "Given high pressure and high temperature:\n",
    "- CaCO3 (Limestone) + SiO2 (silica) → CaSiO3 (Wollastonite) + CO2 (carbon Dioxide)\n",
    "## Sources\n",
    "China is the largest producer of Wollastonite. Other areas where Wollastonite is mined include the United States (although it was originally mined in California, the only active mining in the U.S. is now in New York State), India, Mexico, Canada, and Finland.\n",
    "\n",
    "## Industrial Applications of Wollastonite\n",
    "\n",
    "|Industry|Application|\n",
    "|---|---|\n",
    "|Ceramics|Smoother and more durable ceramics, reinforcement agent|\n",
    "|Plastics and Rubber|Cost-effective strengthening agent|\n",
    "|Paints and Coatings|Reinforcement, improved durability and impact resistance|\n",
    "|Construction|Improved strength and durability of building materials, safe alternative to asbestos|\n",
    "##  How Wollastonite Provides Plants with Ca and Si\n",
    "\n",
    "Wollastonite reacts with Water and Carbon Dioxide in the soil to form Calcium Bicarbonate and Silicon Dioxide.\n",
    "- CaSiO₃ (Wollastonite)+2CO₂ (carbon Dioxide,)+H₂O (Water)→Ca(HCO₃)₂ (Calcium bicarbonate)+SiO₂ (silica)\n",
    "\n",
    "### Calcium\n",
    "- Calcium bicarbonate  (Ca(HCO₃)₂) is unstable and fairly easily decomposes to Limestone (CaCO₃):\n",
    "\t\t- Ca(HCO₃)₂ (Calcium bicarbonate)→CaCO₃ (Limestone)+  CO₂ (carbon Dioxide) + H₂O (Water)\n",
    "\n",
    "- Soils with a pH below 7 (acidic soils) contain hydrogen ions (H+). These hydrogen ions react with the Limestone (CaCO3) to form Calcium ions (Ca2+), Water (H2O), and Carbon Dioxide (CO2).\n",
    "\t- CaCO3 (Limestone) + 2H+ (hydrogen ions) → Ca2+ (Calcium ions) + H2O (Water) + CO2 (carbon Dioxide)\n",
    "### Silicon\n",
    "- Silicon Dioxide slowly breaks down into Silicic Acid, which plants absorb. This process is influenced by soil pH, temperature, and microbial activity.\n",
    "\t- SiO2 (Silicon Dioxide) + 2H2O (Water) → H4SiO4 (Silicic Acid)\n",
    "\n",
    "- Plants absorb Silicic Acid from the soil solution through their roots.\n",
    "\n",
    "\n",
    "\"\"\""
   ]
  },
  {
   "cell_type": "code",
   "execution_count": null,
   "metadata": {},
   "outputs": [],
   "source": [
    "# This notebook is in the eval folder.  Change to the root folder.\n",
    "%cd ..\n",
    "%pwd  # To verify the current working directory"
   ]
  },
  {
   "cell_type": "code",
   "execution_count": null,
   "metadata": {},
   "outputs": [],
   "source": [
    "# --->: Read in the markdown files in the Obsidian vault directory\n",
    "from src.ingest_service import IngestService\n",
    "from src.doc_stats import DocStats\n",
    "# The Directory containing the knowledge documents used by the AI to do the analysis on the soil tests.\n",
    "soil_knowledge_directory = r\"G:\\My Drive\\Audios_To_Knowledge\\knowledge\\AskGrowBuddy\\AskGrowBuddy\\Knowledge\\soil_test_knowlege\"\n",
    "# Load the documents\n",
    "ingest_service = IngestService()\n",
    "loaded_documents = ingest_service.load_obsidian_notes(soil_knowledge_directory)\n",
    "# Show some summary stats about the documents\n",
    "\n",
    "DocStats.print_llama_index_docs_summary_stats(loaded_documents)"
   ]
  },
  {
   "cell_type": "code",
   "execution_count": null,
   "metadata": {},
   "outputs": [],
   "source": [
    "from node_view import launch_node_viewer\n",
    "# Create and launch the interface\n",
    "launch_node_viewer(loaded_documents)"
   ]
  },
  {
   "cell_type": "markdown",
   "metadata": {},
   "source": [
    "# Step 2: Split the Documents using Markdown Splitting"
   ]
  },
  {
   "cell_type": "code",
   "execution_count": null,
   "metadata": {},
   "outputs": [],
   "source": [
    "text_nodes = ingest_service.chunk_text(loaded_documents)\n",
    "DocStats.print_llama_index_docs_summary_stats(text_nodes)"
   ]
  },
  {
   "cell_type": "markdown",
   "metadata": {},
   "source": [
    "# Step 3: Delete Unuseful Nodes\n",
    "Some nodes will not contain any useful content. I delete them to provide cleaner data to the retriver.  I also check to see what other challenges might be occuring. In one case, I noted Excalidraw drawings were included.  I filtered these out."
   ]
  },
  {
   "cell_type": "code",
   "execution_count": null,
   "metadata": {},
   "outputs": [],
   "source": [
    "from node_view import launch_node_viewer\n",
    "# Create and launch the interface\n",
    "launch_node_viewer(text_nodes)\n"
   ]
  },
  {
   "cell_type": "code",
   "execution_count": 8,
   "metadata": {},
   "outputs": [],
   "source": [
    "# Saving the nodes in case we want to start before indexing.\n",
    "import pickle\n",
    "with open('eval/text_nodes.pkl', 'wb') as f:\n",
    "    pickle.dump(text_nodes, f)"
   ]
  },
  {
   "cell_type": "code",
   "execution_count": 6,
   "metadata": {},
   "outputs": [],
   "source": [
    "# Now unpickle\n",
    "import pickle\n",
    "\n",
    "with open('eval/text_nodes.pkl', 'rb') as f:\n",
    "    text_nodes = pickle.load(f)"
   ]
  },
  {
   "cell_type": "code",
   "execution_count": 1,
   "metadata": {},
   "outputs": [],
   "source": [
    "from rich import print\n"
   ]
  },
  {
   "cell_type": "code",
   "execution_count": null,
   "metadata": {},
   "outputs": [],
   "source": [
    "import chromadb\n",
    "client = chromadb.PersistentClient(path=\"vectorstore\")\n",
    "collections = client.list_collections()\n",
    "print(collections)"
   ]
  },
  {
   "cell_type": "markdown",
   "metadata": {},
   "source": [
    "# Step 4: Build the Index\n",
    "Now onto building the vector index.  We will use methods in `IngestService`.  We will start by setting up Ollama.  Ollama is used both for embedding as well as retrieval/inference."
   ]
  },
  {
   "cell_type": "markdown",
   "metadata": {},
   "source": [
    "`chromadb` is used as the persistent store for the vector index."
   ]
  },
  {
   "cell_type": "code",
   "execution_count": null,
   "metadata": {},
   "outputs": [],
   "source": [
    "from src.ingest_service import IngestService\n",
    "ingest_service = IngestService()\n",
    "# Create a Chroma collection object of a given name. Metadata, embeddings, text are all added.\n",
    "our_collection = ingest_service.build_vector_index(nodes=text_nodes, collection_name='soil_test_knowledge', embed_model_name='multi-qa-mpnet-base-cos-v1')\n"
   ]
  },
  {
   "cell_type": "markdown",
   "metadata": {},
   "source": [
    "Now we can always get to our persisted index."
   ]
  },
  {
   "cell_type": "code",
   "execution_count": null,
   "metadata": {},
   "outputs": [],
   "source": [
    "import chromadb\n",
    "from chromadb.utils.embedding_functions import SentenceTransformerEmbeddingFunction\n",
    "client = chromadb.PersistentClient(path=\"vectorstore\")\n",
    "collection_name = \"soil_test_knowledge\"\n",
    "embedding_function = SentenceTransformerEmbeddingFunction(model_name='multi-qa-mpnet-base-cos-v1')\n",
    "our_collection = client.get_collection(collection_name, embedding_function=embedding_function)\n"
   ]
  },
  {
   "cell_type": "markdown",
   "metadata": {},
   "source": [
    "Let's retrieve some nodes and see how they look."
   ]
  },
  {
   "cell_type": "code",
   "execution_count": null,
   "metadata": {},
   "outputs": [],
   "source": [
    "query = 'what is the ideal pH for cannabis?'\n",
    "results_dict = our_collection.query(\n",
    "    query_texts=[query],\n",
    "    n_results=3,\n",
    "\n",
    ")\n",
    "print(f\"Text of first result: {results_dict[\"documents\"][0][0]}\")\n",
    "print(f\"Similarity of first result: {results_dict[\"distances\"][0][0]}\")"
   ]
  },
  {
   "cell_type": "markdown",
   "metadata": {},
   "source": [
    "I do not understand the results. I expected them to be close to 1 since the query sentences is very similar to the text of the node."
   ]
  },
  {
   "cell_type": "code",
   "execution_count": null,
   "metadata": {},
   "outputs": [],
   "source": [
    "from src.visualize import Visualize\n",
    "visualize = Visualize()\n",
    "iface = visualize.plot_3d_plotly()\n",
    "iface.launch()"
   ]
  }
 ],
 "metadata": {
  "kernelspec": {
   "display_name": ".venv",
   "language": "python",
   "name": "python3"
  },
  "language_info": {
   "codemirror_mode": {
    "name": "ipython",
    "version": 3
   },
   "file_extension": ".py",
   "mimetype": "text/x-python",
   "name": "python",
   "nbconvert_exporter": "python",
   "pygments_lexer": "ipython3",
   "version": "3.12.0"
  }
 },
 "nbformat": 4,
 "nbformat_minor": 2
}
