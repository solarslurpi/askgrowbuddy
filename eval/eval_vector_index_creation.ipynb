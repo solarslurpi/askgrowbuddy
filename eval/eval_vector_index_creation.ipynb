{
 "cells": [
  {
   "cell_type": "markdown",
   "metadata": {},
   "source": [
    "# The Start\n",
    "Let's walk through the process of creating a vector index."
   ]
  },
  {
   "cell_type": "markdown",
   "metadata": {},
   "source": [
    "# Step 1: Load the Documents\n",
    "The `IngestService` has a method `load_obsidian_notes` that loads the notes from an Obsidian vault.  The input can be either a list of Document objects or a directory containing Obsidian notes.\n",
    "\n",
    "Using Obsidian notes provides several advantages:\n",
    "- Notes are easy to write and edit.\n",
    "- Frontmatter/tags transfer into the metadata of the nodes.\n",
    "- The Headers provide natural splitting points for the text.\n",
    "\n",
    "The `IngestService` class relies on Langchain's `ObsidianLoader` class to load the notes.  The `ObsidianLoader` class uses the frontmatter, tags, dataview fields, and file metadata to populate the metadata of the nodes.  The additional metadata will benefit retrieval of the best nodes to answer a given query.\n",
    "\n",
    "The `load_obsidian_notes` method takes in either:\n",
    "- a list of strings where each string is considered a markdown file.\n",
    "- a directory path to an Obsidian vault.\n",
    "The list of strings options is useful for testing.\n",
    "\n",
    "It returns a list of `LlamaIndex` `Document` objects.  There will be one `LlamaIndex` `Document` for each node. The node will contain an id, text, and metadata."
   ]
  },
  {
   "cell_type": "code",
   "execution_count": null,
   "metadata": {},
   "outputs": [],
   "source": [
    "# E.g. to show using the ability to read in a list of Documents to test out loading Documents.\n",
    "\n",
    "doc = \"\"\"#Calcium_additive #raise_ph #Wollastonite #Silicon_additive #buffer_pH #Calcium\n",
    "Growers  turn to Wollastonite for:\n",
    "- Its **liming** capability.  Wollastonite's dissolution rate is slower than agricultural lime, offering a buffering effect against rapid pH changes. This makes Wollastonite beneficial in areas with fluctuating acidity levels.\n",
    "- Adding **Silicon**.\n",
    "- Adding **Calcium**.\n",
    "Wollastonite's pH buffering effect and Silicon content contribute to pest control and powdery mildew suppression, although the exact mechanisms are not fully understood.\n",
    "\n",
    "# What is Wollastonite?\n",
    "\n",
    "## Formation\n",
    "Wollastonite is formed when Limestone is subjected to heat and pressure during metamorphism if surrounding silicate minerals are present.\n",
    "### Basic Reaction:\n",
    "Given high pressure and high temperature:\n",
    "- CaCO3 (Limestone) + SiO2 (silica) → CaSiO3 (Wollastonite) + CO2 (carbon Dioxide)\n",
    "## Sources\n",
    "China is the largest producer of Wollastonite. Other areas where Wollastonite is mined include the United States (although it was originally mined in California, the only active mining in the U.S. is now in New York State), India, Mexico, Canada, and Finland.\n",
    "\n",
    "## Industrial Applications of Wollastonite\n",
    "\n",
    "|Industry|Application|\n",
    "|---|---|\n",
    "|Ceramics|Smoother and more durable ceramics, reinforcement agent|\n",
    "|Plastics and Rubber|Cost-effective strengthening agent|\n",
    "|Paints and Coatings|Reinforcement, improved durability and impact resistance|\n",
    "|Construction|Improved strength and durability of building materials, safe alternative to asbestos|\n",
    "##  How Wollastonite Provides Plants with Ca and Si\n",
    "\n",
    "Wollastonite reacts with Water and Carbon Dioxide in the soil to form Calcium Bicarbonate and Silicon Dioxide.\n",
    "- CaSiO₃ (Wollastonite)+2CO₂ (carbon Dioxide,)+H₂O (Water)→Ca(HCO₃)₂ (Calcium bicarbonate)+SiO₂ (silica)\n",
    "\n",
    "### Calcium\n",
    "- Calcium bicarbonate  (Ca(HCO₃)₂) is unstable and fairly easily decomposes to Limestone (CaCO₃):\n",
    "\t\t- Ca(HCO₃)₂ (Calcium bicarbonate)→CaCO₃ (Limestone)+  CO₂ (carbon Dioxide) + H₂O (Water)\n",
    "\n",
    "- Soils with a pH below 7 (acidic soils) contain hydrogen ions (H+). These hydrogen ions react with the Limestone (CaCO3) to form Calcium ions (Ca2+), Water (H2O), and Carbon Dioxide (CO2).\n",
    "\t- CaCO3 (Limestone) + 2H+ (hydrogen ions) → Ca2+ (Calcium ions) + H2O (Water) + CO2 (carbon Dioxide)\n",
    "### Silicon\n",
    "- Silicon Dioxide slowly breaks down into Silicic Acid, which plants absorb. This process is influenced by soil pH, temperature, and microbial activity.\n",
    "\t- SiO2 (Silicon Dioxide) + 2H2O (Water) → H4SiO4 (Silicic Acid)\n",
    "\n",
    "- Plants absorb Silicic Acid from the soil solution through their roots.\n",
    "\n",
    "\n",
    "\"\"\""
   ]
  },
  {
   "cell_type": "code",
   "execution_count": null,
   "metadata": {},
   "outputs": [],
   "source": [
    "# This notebook is in the eval folder.  Change to the root folder.\n",
    "%cd ..\n",
    "%pwd  # To verify the current working directory"
   ]
  },
  {
   "cell_type": "code",
   "execution_count": null,
   "metadata": {},
   "outputs": [],
   "source": [
    "# --->: Read in the markdown files in the Obsidian vault directory\n",
    "from src.ingest_service import IngestService\n",
    "from src.doc_stats import DocStats\n",
    "# The Directory containing the knowledge documents used by the AI to do the analysis on the soil tests.\n",
    "soil_knowledge_directory = r\"G:\\My Drive\\Audios_To_Knowledge\\knowledge\\AskGrowBuddy\\AskGrowBuddy\\Knowledge\\soil_test_knowlege\"\n",
    "# Load the documents\n",
    "ingest_service = IngestService()\n",
    "loaded_documents = ingest_service.load_obsidian_notes(soil_knowledge_directory)\n",
    "# Show some summary stats about the documents\n",
    "\n",
    "DocStats.print_llama_index_docs_summary_stats(loaded_documents)"
   ]
  },
  {
   "cell_type": "code",
   "execution_count": 6,
   "metadata": {},
   "outputs": [
    {
     "data": {
      "text/html": [
       "<pre style=\"white-space:pre;overflow-x:auto;line-height:normal;font-family:Menlo,'DejaVu Sans Mono',consolas,'Courier New',monospace\">KIS_Patreon_book_club_03_19_2024_summary.md\n",
       "</pre>\n"
      ],
      "text/plain": [
       "KIS_Patreon_book_club_03_19_2024_summary.md\n"
      ]
     },
     "metadata": {},
     "output_type": "display_data"
    },
    {
     "data": {
      "text/html": [
       "<pre style=\"white-space:pre;overflow-x:auto;line-height:normal;font-family:Menlo,'DejaVu Sans Mono',consolas,'Courier New',monospace\">KIS Organics is live with Soil Doctor!_20240321_summary.md\n",
       "</pre>\n"
      ],
      "text/plain": [
       "KIS Organics is live with Soil Doctor!_20240321_summary.md\n"
      ]
     },
     "metadata": {},
     "output_type": "display_data"
    },
    {
     "data": {
      "text/html": [
       "<pre style=\"white-space:pre;overflow-x:auto;line-height:normal;font-family:Menlo,'DejaVu Sans Mono',consolas,'Courier New',monospace\">soil science notes.md\n",
       "</pre>\n"
      ],
      "text/plain": [
       "soil science notes.md\n"
      ]
     },
     "metadata": {},
     "output_type": "display_data"
    },
    {
     "data": {
      "text/html": [
       "<pre style=\"white-space:pre;overflow-x:auto;line-height:normal;font-family:Menlo,'DejaVu Sans Mono',consolas,'Courier New',monospace\">Why_run_a_higher_pH_target_in_living_soil <span style=\"color: #008080; text-decoration-color: #008080; font-weight: bold\">1.</span>md\n",
       "</pre>\n"
      ],
      "text/plain": [
       "Why_run_a_higher_pH_target_in_living_soil \u001b[1;36m1.\u001b[0mmd\n"
      ]
     },
     "metadata": {},
     "output_type": "display_data"
    },
    {
     "data": {
      "text/html": [
       "<pre style=\"white-space:pre;overflow-x:auto;line-height:normal;font-family:Menlo,'DejaVu Sans Mono',consolas,'Courier New',monospace\">Why_run_a_higher_pH_target_in_living_soil.md\n",
       "</pre>\n"
      ],
      "text/plain": [
       "Why_run_a_higher_pH_target_in_living_soil.md\n"
      ]
     },
     "metadata": {},
     "output_type": "display_data"
    },
    {
     "data": {
      "text/html": [
       "<pre style=\"white-space:pre;overflow-x:auto;line-height:normal;font-family:Menlo,'DejaVu Sans Mono',consolas,'Courier New',monospace\">Collecting soil samples.md\n",
       "</pre>\n"
      ],
      "text/plain": [
       "Collecting soil samples.md\n"
      ]
     },
     "metadata": {},
     "output_type": "display_data"
    },
    {
     "data": {
      "text/html": [
       "<pre style=\"white-space:pre;overflow-x:auto;line-height:normal;font-family:Menlo,'DejaVu Sans Mono',consolas,'Courier New',monospace\">Focus on Alkalinity and Substrate pH.md\n",
       "</pre>\n"
      ],
      "text/plain": [
       "Focus on Alkalinity and Substrate pH.md\n"
      ]
     },
     "metadata": {},
     "output_type": "display_data"
    },
    {
     "data": {
      "text/html": [
       "<pre style=\"white-space:pre;overflow-x:auto;line-height:normal;font-family:Menlo,'DejaVu Sans Mono',consolas,'Courier New',monospace\">knowledge - <span style=\"color: #008080; text-decoration-color: #008080; font-weight: bold\">6</span> years knowledge article.md\n",
       "</pre>\n"
      ],
      "text/plain": [
       "knowledge - \u001b[1;36m6\u001b[0m years knowledge article.md\n"
      ]
     },
     "metadata": {},
     "output_type": "display_data"
    },
    {
     "data": {
      "text/html": [
       "<pre style=\"white-space:pre;overflow-x:auto;line-height:normal;font-family:Menlo,'DejaVu Sans Mono',consolas,'Courier New',monospace\">knowledge - ClackamasCootFutureOfCannabis.md\n",
       "</pre>\n"
      ],
      "text/plain": [
       "knowledge - ClackamasCootFutureOfCannabis.md\n"
      ]
     },
     "metadata": {},
     "output_type": "display_data"
    },
    {
     "data": {
      "text/html": [
       "<pre style=\"white-space:pre;overflow-x:auto;line-height:normal;font-family:Menlo,'DejaVu Sans Mono',consolas,'Courier New',monospace\">How Calcium travels through a plant.md\n",
       "</pre>\n"
      ],
      "text/plain": [
       "How Calcium travels through a plant.md\n"
      ]
     },
     "metadata": {},
     "output_type": "display_data"
    },
    {
     "data": {
      "text/html": [
       "<pre style=\"white-space:pre;overflow-x:auto;line-height:normal;font-family:Menlo,'DejaVu Sans Mono',consolas,'Courier New',monospace\">Chemical Versus Organic.md\n",
       "</pre>\n"
      ],
      "text/plain": [
       "Chemical Versus Organic.md\n"
      ]
     },
     "metadata": {},
     "output_type": "display_data"
    },
    {
     "data": {
      "text/html": [
       "<pre style=\"white-space:pre;overflow-x:auto;line-height:normal;font-family:Menlo,'DejaVu Sans Mono',consolas,'Courier New',monospace\">Seed Starter Formulations-Considerations.md\n",
       "</pre>\n"
      ],
      "text/plain": [
       "Seed Starter Formulations-Considerations.md\n"
      ]
     },
     "metadata": {},
     "output_type": "display_data"
    },
    {
     "data": {
      "text/html": [
       "<pre style=\"white-space:pre;overflow-x:auto;line-height:normal;font-family:Menlo,'DejaVu Sans Mono',consolas,'Courier New',monospace\">Jeff Lowenfels - The Updated Soil Food Web.md\n",
       "</pre>\n"
      ],
      "text/plain": [
       "Jeff Lowenfels - The Updated Soil Food Web.md\n"
      ]
     },
     "metadata": {},
     "output_type": "display_data"
    },
    {
     "data": {
      "text/html": [
       "<pre style=\"white-space:pre;overflow-x:auto;line-height:normal;font-family:Menlo,'DejaVu Sans Mono',consolas,'Courier New',monospace\">Bryant <span style=\"color: #008080; text-decoration-color: #008080; font-weight: bold\">1.10</span>.<span style=\"color: #008080; text-decoration-color: #008080; font-weight: bold\">24</span> part2.md\n",
       "</pre>\n"
      ],
      "text/plain": [
       "Bryant \u001b[1;36m1.10\u001b[0m.\u001b[1;36m24\u001b[0m part2.md\n"
      ]
     },
     "metadata": {},
     "output_type": "display_data"
    },
    {
     "data": {
      "text/html": [
       "<pre style=\"white-space:pre;overflow-x:auto;line-height:normal;font-family:Menlo,'DejaVu Sans Mono',consolas,'Courier New',monospace\">Focusing on Calcium Nutrition.md\n",
       "</pre>\n"
      ],
      "text/plain": [
       "Focusing on Calcium Nutrition.md\n"
      ]
     },
     "metadata": {},
     "output_type": "display_data"
    },
    {
     "data": {
      "text/html": [
       "<pre style=\"white-space:pre;overflow-x:auto;line-height:normal;font-family:Menlo,'DejaVu Sans Mono',consolas,'Courier New',monospace\">Nitrogen Management.md\n",
       "</pre>\n"
      ],
      "text/plain": [
       "Nitrogen Management.md\n"
      ]
     },
     "metadata": {},
     "output_type": "display_data"
    },
    {
     "data": {
      "text/html": [
       "<pre style=\"white-space:pre;overflow-x:auto;line-height:normal;font-family:Menlo,'DejaVu Sans Mono',consolas,'Courier New',monospace\">Soil Testing <span style=\"color: #008080; text-decoration-color: #008080; font-weight: bold\">101</span>- How To Properly Take A Soil Sample.md\n",
       "</pre>\n"
      ],
      "text/plain": [
       "Soil Testing \u001b[1;36m101\u001b[0m- How To Properly Take A Soil Sample.md\n"
      ]
     },
     "metadata": {},
     "output_type": "display_data"
    },
    {
     "data": {
      "text/html": [
       "<pre style=\"white-space:pre;overflow-x:auto;line-height:normal;font-family:Menlo,'DejaVu Sans Mono',consolas,'Courier New',monospace\">Brandon_soil_report_review.md\n",
       "</pre>\n"
      ],
      "text/plain": [
       "Brandon_soil_report_review.md\n"
      ]
     },
     "metadata": {},
     "output_type": "display_data"
    },
    {
     "data": {
      "text/html": [
       "<pre style=\"white-space:pre;overflow-x:auto;line-height:normal;font-family:Menlo,'DejaVu Sans Mono',consolas,'Courier New',monospace\">Organic gardening Q&amp;A ep.<span style=\"color: #008080; text-decoration-color: #008080; font-weight: bold\">13</span> w Tad Hussey &amp; Chad Westport.md\n",
       "</pre>\n"
      ],
      "text/plain": [
       "Organic gardening Q&A ep.\u001b[1;36m13\u001b[0m w Tad Hussey & Chad Westport.md\n"
      ]
     },
     "metadata": {},
     "output_type": "display_data"
    },
    {
     "data": {
      "text/html": [
       "<pre style=\"white-space:pre;overflow-x:auto;line-height:normal;font-family:Menlo,'DejaVu Sans Mono',consolas,'Courier New',monospace\">What fertilizers are safe to use in your garden.md\n",
       "</pre>\n"
      ],
      "text/plain": [
       "What fertilizers are safe to use in your garden.md\n"
      ]
     },
     "metadata": {},
     "output_type": "display_data"
    },
    {
     "data": {
      "text/html": [
       "<pre style=\"white-space:pre;overflow-x:auto;line-height:normal;font-family:Menlo,'DejaVu Sans Mono',consolas,'Courier New',monospace\">A Gardeners Primer to Mycorrhizae.md\n",
       "</pre>\n"
      ],
      "text/plain": [
       "A Gardeners Primer to Mycorrhizae.md\n"
      ]
     },
     "metadata": {},
     "output_type": "display_data"
    },
    {
     "data": {
      "text/html": [
       "<pre style=\"white-space:pre;overflow-x:auto;line-height:normal;font-family:Menlo,'DejaVu Sans Mono',consolas,'Courier New',monospace\">ph.md\n",
       "</pre>\n"
      ],
      "text/plain": [
       "ph.md\n"
      ]
     },
     "metadata": {},
     "output_type": "display_data"
    },
    {
     "data": {
      "text/html": [
       "<pre style=\"white-space:pre;overflow-x:auto;line-height:normal;font-family:Menlo,'DejaVu Sans Mono',consolas,'Courier New',monospace\">The Importance of Calcium in Cannabis with Bryant Mason <span style=\"font-weight: bold\">(</span>Soil Doctor<span style=\"font-weight: bold\">)</span>.md\n",
       "</pre>\n"
      ],
      "text/plain": [
       "The Importance of Calcium in Cannabis with Bryant Mason \u001b[1m(\u001b[0mSoil Doctor\u001b[1m)\u001b[0m.md\n"
      ]
     },
     "metadata": {},
     "output_type": "display_data"
    },
    {
     "data": {
      "text/html": [
       "<pre style=\"white-space:pre;overflow-x:auto;line-height:normal;font-family:Menlo,'DejaVu Sans Mono',consolas,'Courier New',monospace\">Phosphorous.md\n",
       "</pre>\n"
      ],
      "text/plain": [
       "Phosphorous.md\n"
      ]
     },
     "metadata": {},
     "output_type": "display_data"
    },
    {
     "data": {
      "text/html": [
       "<pre style=\"white-space:pre;overflow-x:auto;line-height:normal;font-family:Menlo,'DejaVu Sans Mono',consolas,'Courier New',monospace\">Boron.md\n",
       "</pre>\n"
      ],
      "text/plain": [
       "Boron.md\n"
      ]
     },
     "metadata": {},
     "output_type": "display_data"
    },
    {
     "data": {
      "text/html": [
       "<pre style=\"white-space:pre;overflow-x:auto;line-height:normal;font-family:Menlo,'DejaVu Sans Mono',consolas,'Courier New',monospace\">Phosphorous <span style=\"color: #008080; text-decoration-color: #008080; font-weight: bold\">1.</span>md\n",
       "</pre>\n"
      ],
      "text/plain": [
       "Phosphorous \u001b[1;36m1.\u001b[0mmd\n"
      ]
     },
     "metadata": {},
     "output_type": "display_data"
    },
    {
     "data": {
      "text/html": [
       "<pre style=\"white-space:pre;overflow-x:auto;line-height:normal;font-family:Menlo,'DejaVu Sans Mono',consolas,'Courier New',monospace\">Sulfur.md\n",
       "</pre>\n"
      ],
      "text/plain": [
       "Sulfur.md\n"
      ]
     },
     "metadata": {},
     "output_type": "display_data"
    },
    {
     "data": {
      "text/html": [
       "<pre style=\"white-space:pre;overflow-x:auto;line-height:normal;font-family:Menlo,'DejaVu Sans Mono',consolas,'Courier New',monospace\">Episode <span style=\"color: #008080; text-decoration-color: #008080; font-weight: bold\">123</span> Cannabis Nutrition Part <span style=\"color: #008080; text-decoration-color: #008080; font-weight: bold\">1.</span>md\n",
       "</pre>\n"
      ],
      "text/plain": [
       "Episode \u001b[1;36m123\u001b[0m Cannabis Nutrition Part \u001b[1;36m1.\u001b[0mmd\n"
      ]
     },
     "metadata": {},
     "output_type": "display_data"
    },
    {
     "data": {
      "text/html": [
       "<pre style=\"white-space:pre;overflow-x:auto;line-height:normal;font-family:Menlo,'DejaVu Sans Mono',consolas,'Courier New',monospace\">Magnesium Deficiency.md\n",
       "</pre>\n"
      ],
      "text/plain": [
       "Magnesium Deficiency.md\n"
      ]
     },
     "metadata": {},
     "output_type": "display_data"
    },
    {
     "data": {
      "text/html": [
       "<pre style=\"white-space:pre;overflow-x:auto;line-height:normal;font-family:Menlo,'DejaVu Sans Mono',consolas,'Courier New',monospace\">Manganese Deficiency.md\n",
       "</pre>\n"
      ],
      "text/plain": [
       "Manganese Deficiency.md\n"
      ]
     },
     "metadata": {},
     "output_type": "display_data"
    },
    {
     "data": {
      "text/html": [
       "<pre style=\"white-space:pre;overflow-x:auto;line-height:normal;font-family:Menlo,'DejaVu Sans Mono',consolas,'Courier New',monospace\">Sulfur <span style=\"color: #008080; text-decoration-color: #008080; font-weight: bold\">1.</span>md\n",
       "</pre>\n"
      ],
      "text/plain": [
       "Sulfur \u001b[1;36m1.\u001b[0mmd\n"
      ]
     },
     "metadata": {},
     "output_type": "display_data"
    },
    {
     "data": {
      "text/html": [
       "<pre style=\"white-space:pre;overflow-x:auto;line-height:normal;font-family:Menlo,'DejaVu Sans Mono',consolas,'Courier New',monospace\">Wollastonite.md\n",
       "</pre>\n"
      ],
      "text/plain": [
       "Wollastonite.md\n"
      ]
     },
     "metadata": {},
     "output_type": "display_data"
    },
    {
     "data": {
      "text/html": [
       "<pre style=\"white-space:pre;overflow-x:auto;line-height:normal;font-family:Menlo,'DejaVu Sans Mono',consolas,'Courier New',monospace\">Wollastonite - how much to add.md\n",
       "</pre>\n"
      ],
      "text/plain": [
       "Wollastonite - how much to add.md\n"
      ]
     },
     "metadata": {},
     "output_type": "display_data"
    },
    {
     "data": {
      "text/html": [
       "<pre style=\"white-space:pre;overflow-x:auto;line-height:normal;font-family:Menlo,'DejaVu Sans Mono',consolas,'Courier New',monospace\">Base Cation Saturation ratio <span style=\"font-weight: bold\">(</span>BCSR<span style=\"font-weight: bold\">)</span>.md\n",
       "</pre>\n"
      ],
      "text/plain": [
       "Base Cation Saturation ratio \u001b[1m(\u001b[0mBCSR\u001b[1m)\u001b[0m.md\n"
      ]
     },
     "metadata": {},
     "output_type": "display_data"
    },
    {
     "data": {
      "text/html": [
       "<pre style=\"white-space:pre;overflow-x:auto;line-height:normal;font-family:Menlo,'DejaVu Sans Mono',consolas,'Courier New',monospace\">KIS Book Club Teaming with Microbes Chapter <span style=\"color: #008080; text-decoration-color: #008080; font-weight: bold\">3.</span>md\n",
       "</pre>\n"
      ],
      "text/plain": [
       "KIS Book Club Teaming with Microbes Chapter \u001b[1;36m3.\u001b[0mmd\n"
      ]
     },
     "metadata": {},
     "output_type": "display_data"
    },
    {
     "data": {
      "text/html": [
       "<pre style=\"white-space:pre;overflow-x:auto;line-height:normal;font-family:Menlo,'DejaVu Sans Mono',consolas,'Courier New',monospace\">KIS_Patreon_book_club_03_19_2024_summary.md <span style=\"font-weight: bold\">(</span><span style=\"color: #008080; text-decoration-color: #008080; font-weight: bold\">2</span><span style=\"font-weight: bold\">)</span>\n",
       "</pre>\n"
      ],
      "text/plain": [
       "KIS_Patreon_book_club_03_19_2024_summary.md \u001b[1m(\u001b[0m\u001b[1;36m2\u001b[0m\u001b[1m)\u001b[0m\n"
      ]
     },
     "metadata": {},
     "output_type": "display_data"
    },
    {
     "data": {
      "text/html": [
       "<pre style=\"white-space:pre;overflow-x:auto;line-height:normal;font-family:Menlo,'DejaVu Sans Mono',consolas,'Courier New',monospace\">book club <span style=\"color: #008080; text-decoration-color: #008080; font-weight: bold\">01</span>-<span style=\"color: #008080; text-decoration-color: #008080; font-weight: bold\">17</span>-<span style=\"color: #008080; text-decoration-color: #008080; font-weight: bold\">2024.</span>md\n",
       "</pre>\n"
      ],
      "text/plain": [
       "book club \u001b[1;36m01\u001b[0m-\u001b[1;36m17\u001b[0m-\u001b[1;36m2024.\u001b[0mmd\n"
      ]
     },
     "metadata": {},
     "output_type": "display_data"
    },
    {
     "data": {
      "text/html": [
       "<pre style=\"white-space:pre;overflow-x:auto;line-height:normal;font-family:Menlo,'DejaVu Sans Mono',consolas,'Courier New',monospace\">book club 12_20_2023.md\n",
       "</pre>\n"
      ],
      "text/plain": [
       "book club 12_20_2023.md\n"
      ]
     },
     "metadata": {},
     "output_type": "display_data"
    },
    {
     "data": {
      "text/html": [
       "<pre style=\"white-space:pre;overflow-x:auto;line-height:normal;font-family:Menlo,'DejaVu Sans Mono',consolas,'Courier New',monospace\">Book Club January <span style=\"color: #008080; text-decoration-color: #008080; font-weight: bold\">3</span>, <span style=\"color: #008080; text-decoration-color: #008080; font-weight: bold\">2024.</span>md\n",
       "</pre>\n"
      ],
      "text/plain": [
       "Book Club January \u001b[1;36m3\u001b[0m, \u001b[1;36m2024.\u001b[0mmd\n"
      ]
     },
     "metadata": {},
     "output_type": "display_data"
    },
    {
     "data": {
      "text/html": [
       "<pre style=\"white-space:pre;overflow-x:auto;line-height:normal;font-family:Menlo,'DejaVu Sans Mono',consolas,'Courier New',monospace\">Composting with Tads father.md\n",
       "</pre>\n"
      ],
      "text/plain": [
       "Composting with Tads father.md\n"
      ]
     },
     "metadata": {},
     "output_type": "display_data"
    },
    {
     "data": {
      "text/html": [
       "<pre style=\"white-space:pre;overflow-x:auto;line-height:normal;font-family:Menlo,'DejaVu Sans Mono',consolas,'Courier New',monospace\">Patreon_discussion_with_Steve_Solomon.md\n",
       "</pre>\n"
      ],
      "text/plain": [
       "Patreon_discussion_with_Steve_Solomon.md\n"
      ]
     },
     "metadata": {},
     "output_type": "display_data"
    },
    {
     "data": {
      "text/html": [
       "<pre style=\"white-space:pre;overflow-x:auto;line-height:normal;font-family:Menlo,'DejaVu Sans Mono',consolas,'Courier New',monospace\">Patreon_book_club_Leon_Hussey.md\n",
       "</pre>\n"
      ],
      "text/plain": [
       "Patreon_book_club_Leon_Hussey.md\n"
      ]
     },
     "metadata": {},
     "output_type": "display_data"
    },
    {
     "data": {
      "text/html": [
       "<pre style=\"white-space:pre;overflow-x:auto;line-height:normal;font-family:Menlo,'DejaVu Sans Mono',consolas,'Courier New',monospace\">KIS Book Club Teaming with Microbes Chapter <span style=\"color: #008080; text-decoration-color: #008080; font-weight: bold\">3.</span>md <span style=\"font-weight: bold\">(</span><span style=\"color: #008080; text-decoration-color: #008080; font-weight: bold\">2</span><span style=\"font-weight: bold\">)</span>\n",
       "</pre>\n"
      ],
      "text/plain": [
       "KIS Book Club Teaming with Microbes Chapter \u001b[1;36m3.\u001b[0mmd \u001b[1m(\u001b[0m\u001b[1;36m2\u001b[0m\u001b[1m)\u001b[0m\n"
      ]
     },
     "metadata": {},
     "output_type": "display_data"
    },
    {
     "data": {
      "text/html": [
       "<pre style=\"white-space:pre;overflow-x:auto;line-height:normal;font-family:Menlo,'DejaVu Sans Mono',consolas,'Courier New',monospace\">Chapter <span style=\"color: #008080; text-decoration-color: #008080; font-weight: bold\">13</span> notes.md\n",
       "</pre>\n"
      ],
      "text/plain": [
       "Chapter \u001b[1;36m13\u001b[0m notes.md\n"
      ]
     },
     "metadata": {},
     "output_type": "display_data"
    },
    {
     "data": {
      "text/html": [
       "<pre style=\"white-space:pre;overflow-x:auto;line-height:normal;font-family:Menlo,'DejaVu Sans Mono',consolas,'Courier New',monospace\">Chapter <span style=\"color: #008080; text-decoration-color: #008080; font-weight: bold\">14</span> Notes.md\n",
       "</pre>\n"
      ],
      "text/plain": [
       "Chapter \u001b[1;36m14\u001b[0m Notes.md\n"
      ]
     },
     "metadata": {},
     "output_type": "display_data"
    },
    {
     "data": {
      "text/html": [
       "<pre style=\"white-space:pre;overflow-x:auto;line-height:normal;font-family:Menlo,'DejaVu Sans Mono',consolas,'Courier New',monospace\">Chapter <span style=\"color: #008080; text-decoration-color: #008080; font-weight: bold\">15</span> Notes.md\n",
       "</pre>\n"
      ],
      "text/plain": [
       "Chapter \u001b[1;36m15\u001b[0m Notes.md\n"
      ]
     },
     "metadata": {},
     "output_type": "display_data"
    },
    {
     "data": {
      "text/html": [
       "<pre style=\"white-space:pre;overflow-x:auto;line-height:normal;font-family:Menlo,'DejaVu Sans Mono',consolas,'Courier New',monospace\">nitrogen lifecycle.md\n",
       "</pre>\n"
      ],
      "text/plain": [
       "nitrogen lifecycle.md\n"
      ]
     },
     "metadata": {},
     "output_type": "display_data"
    },
    {
     "data": {
      "text/html": [
       "<pre style=\"white-space:pre;overflow-x:auto;line-height:normal;font-family:Menlo,'DejaVu Sans Mono',consolas,'Courier New',monospace\">rootshield.md\n",
       "</pre>\n"
      ],
      "text/plain": [
       "rootshield.md\n"
      ]
     },
     "metadata": {},
     "output_type": "display_data"
    },
    {
     "data": {
      "text/html": [
       "<pre style=\"white-space:pre;overflow-x:auto;line-height:normal;font-family:Menlo,'DejaVu Sans Mono',consolas,'Courier New',monospace\">ndure.md\n",
       "</pre>\n"
      ],
      "text/plain": [
       "ndure.md\n"
      ]
     },
     "metadata": {},
     "output_type": "display_data"
    },
    {
     "data": {
      "text/html": [
       "<pre style=\"white-space:pre;overflow-x:auto;line-height:normal;font-family:Menlo,'DejaVu Sans Mono',consolas,'Courier New',monospace\">KD - Teaming with Microbes chapters <span style=\"color: #008080; text-decoration-color: #008080; font-weight: bold\">16</span> and <span style=\"color: #008080; text-decoration-color: #008080; font-weight: bold\">17.</span>md\n",
       "</pre>\n"
      ],
      "text/plain": [
       "KD - Teaming with Microbes chapters \u001b[1;36m16\u001b[0m and \u001b[1;36m17.\u001b[0mmd\n"
      ]
     },
     "metadata": {},
     "output_type": "display_data"
    },
    {
     "data": {
      "text/html": [
       "<pre style=\"white-space:pre;overflow-x:auto;line-height:normal;font-family:Menlo,'DejaVu Sans Mono',consolas,'Courier New',monospace\">Sulfur.md <span style=\"font-weight: bold\">(</span><span style=\"color: #008080; text-decoration-color: #008080; font-weight: bold\">2</span><span style=\"font-weight: bold\">)</span>\n",
       "</pre>\n"
      ],
      "text/plain": [
       "Sulfur.md \u001b[1m(\u001b[0m\u001b[1;36m2\u001b[0m\u001b[1m)\u001b[0m\n"
      ]
     },
     "metadata": {},
     "output_type": "display_data"
    },
    {
     "data": {
      "text/html": [
       "<pre style=\"white-space:pre;overflow-x:auto;line-height:normal;font-family:Menlo,'DejaVu Sans Mono',consolas,'Courier New',monospace\">soil test recommendations for <span style=\"color: #008080; text-decoration-color: #008080; font-weight: bold\">2024</span>-<span style=\"color: #008080; text-decoration-color: #008080; font-weight: bold\">05.</span>md\n",
       "</pre>\n"
      ],
      "text/plain": [
       "soil test recommendations for \u001b[1;36m2024\u001b[0m-\u001b[1;36m05.\u001b[0mmd\n"
      ]
     },
     "metadata": {},
     "output_type": "display_data"
    },
    {
     "data": {
      "text/html": [
       "<pre style=\"white-space:pre;overflow-x:auto;line-height:normal;font-family:Menlo,'DejaVu Sans Mono',consolas,'Courier New',monospace\">soil test recommendations for <span style=\"color: #008080; text-decoration-color: #008080; font-weight: bold\">2022</span>-<span style=\"color: #008080; text-decoration-color: #008080; font-weight: bold\">06.</span>md\n",
       "</pre>\n"
      ],
      "text/plain": [
       "soil test recommendations for \u001b[1;36m2022\u001b[0m-\u001b[1;36m06.\u001b[0mmd\n"
      ]
     },
     "metadata": {},
     "output_type": "display_data"
    },
    {
     "data": {
      "text/html": [
       "<pre style=\"white-space:pre;overflow-x:auto;line-height:normal;font-family:Menlo,'DejaVu Sans Mono',consolas,'Courier New',monospace\">soil test recommendations for <span style=\"color: #008080; text-decoration-color: #008080; font-weight: bold\">2023</span>-<span style=\"color: #008080; text-decoration-color: #008080; font-weight: bold\">09.</span>md\n",
       "</pre>\n"
      ],
      "text/plain": [
       "soil test recommendations for \u001b[1;36m2023\u001b[0m-\u001b[1;36m09.\u001b[0mmd\n"
      ]
     },
     "metadata": {},
     "output_type": "display_data"
    },
    {
     "data": {
      "text/html": [
       "<pre style=\"white-space:pre;overflow-x:auto;line-height:normal;font-family:Menlo,'DejaVu Sans Mono',consolas,'Courier New',monospace\">soil test recommendations for <span style=\"color: #008080; text-decoration-color: #008080; font-weight: bold\">2023</span>-<span style=\"color: #008080; text-decoration-color: #008080; font-weight: bold\">11.</span>md\n",
       "</pre>\n"
      ],
      "text/plain": [
       "soil test recommendations for \u001b[1;36m2023\u001b[0m-\u001b[1;36m11.\u001b[0mmd\n"
      ]
     },
     "metadata": {},
     "output_type": "display_data"
    },
    {
     "data": {
      "text/html": [
       "<pre style=\"white-space:pre;overflow-x:auto;line-height:normal;font-family:Menlo,'DejaVu Sans Mono',consolas,'Courier New',monospace\">soil test recommendations for <span style=\"color: #008080; text-decoration-color: #008080; font-weight: bold\">2023</span>-<span style=\"color: #008080; text-decoration-color: #008080; font-weight: bold\">12.</span>md\n",
       "</pre>\n"
      ],
      "text/plain": [
       "soil test recommendations for \u001b[1;36m2023\u001b[0m-\u001b[1;36m12.\u001b[0mmd\n"
      ]
     },
     "metadata": {},
     "output_type": "display_data"
    },
    {
     "data": {
      "text/html": [
       "<pre style=\"white-space:pre;overflow-x:auto;line-height:normal;font-family:Menlo,'DejaVu Sans Mono',consolas,'Courier New',monospace\">soil test recommendations for <span style=\"color: #008080; text-decoration-color: #008080; font-weight: bold\">2023</span>-<span style=\"color: #008080; text-decoration-color: #008080; font-weight: bold\">07.</span>md\n",
       "</pre>\n"
      ],
      "text/plain": [
       "soil test recommendations for \u001b[1;36m2023\u001b[0m-\u001b[1;36m07.\u001b[0mmd\n"
      ]
     },
     "metadata": {},
     "output_type": "display_data"
    },
    {
     "data": {
      "text/html": [
       "<pre style=\"white-space:pre;overflow-x:auto;line-height:normal;font-family:Menlo,'DejaVu Sans Mono',consolas,'Courier New',monospace\"><span style=\"color: #008080; text-decoration-color: #008080; font-weight: bold\">09</span>-<span style=\"color: #008080; text-decoration-color: #008080; font-weight: bold\">11</span>-<span style=\"color: #008080; text-decoration-color: #008080; font-weight: bold\">2024</span> Soil Test Analysis Attempt.md\n",
       "</pre>\n"
      ],
      "text/plain": [
       "\u001b[1;36m09\u001b[0m-\u001b[1;36m11\u001b[0m-\u001b[1;36m2024\u001b[0m Soil Test Analysis Attempt.md\n"
      ]
     },
     "metadata": {},
     "output_type": "display_data"
    },
    {
     "data": {
      "text/html": [
       "<pre style=\"white-space:pre;overflow-x:auto;line-height:normal;font-family:Menlo,'DejaVu Sans Mono',consolas,'Courier New',monospace\">soil test recommendations for <span style=\"color: #008080; text-decoration-color: #008080; font-weight: bold\">2024</span>-<span style=\"color: #008080; text-decoration-color: #008080; font-weight: bold\">05.</span>md <span style=\"font-weight: bold\">(</span><span style=\"color: #008080; text-decoration-color: #008080; font-weight: bold\">2</span><span style=\"font-weight: bold\">)</span>\n",
       "</pre>\n"
      ],
      "text/plain": [
       "soil test recommendations for \u001b[1;36m2024\u001b[0m-\u001b[1;36m05.\u001b[0mmd \u001b[1m(\u001b[0m\u001b[1;36m2\u001b[0m\u001b[1m)\u001b[0m\n"
      ]
     },
     "metadata": {},
     "output_type": "display_data"
    },
    {
     "data": {
      "text/html": [
       "<pre style=\"white-space:pre;overflow-x:auto;line-height:normal;font-family:Menlo,'DejaVu Sans Mono',consolas,'Courier New',monospace\">soil test recommendations for <span style=\"color: #008080; text-decoration-color: #008080; font-weight: bold\">2022</span>-<span style=\"color: #008080; text-decoration-color: #008080; font-weight: bold\">06.</span>md <span style=\"font-weight: bold\">(</span><span style=\"color: #008080; text-decoration-color: #008080; font-weight: bold\">2</span><span style=\"font-weight: bold\">)</span>\n",
       "</pre>\n"
      ],
      "text/plain": [
       "soil test recommendations for \u001b[1;36m2022\u001b[0m-\u001b[1;36m06.\u001b[0mmd \u001b[1m(\u001b[0m\u001b[1;36m2\u001b[0m\u001b[1m)\u001b[0m\n"
      ]
     },
     "metadata": {},
     "output_type": "display_data"
    },
    {
     "data": {
      "text/html": [
       "<pre style=\"white-space:pre;overflow-x:auto;line-height:normal;font-family:Menlo,'DejaVu Sans Mono',consolas,'Courier New',monospace\">soil test recommendations for <span style=\"color: #008080; text-decoration-color: #008080; font-weight: bold\">2023</span>-<span style=\"color: #008080; text-decoration-color: #008080; font-weight: bold\">09.</span>md <span style=\"font-weight: bold\">(</span><span style=\"color: #008080; text-decoration-color: #008080; font-weight: bold\">2</span><span style=\"font-weight: bold\">)</span>\n",
       "</pre>\n"
      ],
      "text/plain": [
       "soil test recommendations for \u001b[1;36m2023\u001b[0m-\u001b[1;36m09.\u001b[0mmd \u001b[1m(\u001b[0m\u001b[1;36m2\u001b[0m\u001b[1m)\u001b[0m\n"
      ]
     },
     "metadata": {},
     "output_type": "display_data"
    },
    {
     "data": {
      "text/html": [
       "<pre style=\"white-space:pre;overflow-x:auto;line-height:normal;font-family:Menlo,'DejaVu Sans Mono',consolas,'Courier New',monospace\">soil test recommendations for <span style=\"color: #008080; text-decoration-color: #008080; font-weight: bold\">2023</span>-<span style=\"color: #008080; text-decoration-color: #008080; font-weight: bold\">11.</span>md <span style=\"font-weight: bold\">(</span><span style=\"color: #008080; text-decoration-color: #008080; font-weight: bold\">2</span><span style=\"font-weight: bold\">)</span>\n",
       "</pre>\n"
      ],
      "text/plain": [
       "soil test recommendations for \u001b[1;36m2023\u001b[0m-\u001b[1;36m11.\u001b[0mmd \u001b[1m(\u001b[0m\u001b[1;36m2\u001b[0m\u001b[1m)\u001b[0m\n"
      ]
     },
     "metadata": {},
     "output_type": "display_data"
    },
    {
     "data": {
      "text/html": [
       "<pre style=\"white-space:pre;overflow-x:auto;line-height:normal;font-family:Menlo,'DejaVu Sans Mono',consolas,'Courier New',monospace\">soil test recommendations for <span style=\"color: #008080; text-decoration-color: #008080; font-weight: bold\">2023</span>-<span style=\"color: #008080; text-decoration-color: #008080; font-weight: bold\">12.</span>md <span style=\"font-weight: bold\">(</span><span style=\"color: #008080; text-decoration-color: #008080; font-weight: bold\">2</span><span style=\"font-weight: bold\">)</span>\n",
       "</pre>\n"
      ],
      "text/plain": [
       "soil test recommendations for \u001b[1;36m2023\u001b[0m-\u001b[1;36m12.\u001b[0mmd \u001b[1m(\u001b[0m\u001b[1;36m2\u001b[0m\u001b[1m)\u001b[0m\n"
      ]
     },
     "metadata": {},
     "output_type": "display_data"
    },
    {
     "data": {
      "text/html": [
       "<pre style=\"white-space:pre;overflow-x:auto;line-height:normal;font-family:Menlo,'DejaVu Sans Mono',consolas,'Courier New',monospace\">soil test recommendations for <span style=\"color: #008080; text-decoration-color: #008080; font-weight: bold\">2023</span>-<span style=\"color: #008080; text-decoration-color: #008080; font-weight: bold\">07.</span>md <span style=\"font-weight: bold\">(</span><span style=\"color: #008080; text-decoration-color: #008080; font-weight: bold\">2</span><span style=\"font-weight: bold\">)</span>\n",
       "</pre>\n"
      ],
      "text/plain": [
       "soil test recommendations for \u001b[1;36m2023\u001b[0m-\u001b[1;36m07.\u001b[0mmd \u001b[1m(\u001b[0m\u001b[1;36m2\u001b[0m\u001b[1m)\u001b[0m\n"
      ]
     },
     "metadata": {},
     "output_type": "display_data"
    },
    {
     "data": {
      "text/html": [
       "<pre style=\"white-space:pre;overflow-x:auto;line-height:normal;font-family:Menlo,'DejaVu Sans Mono',consolas,'Courier New',monospace\"><span style=\"color: #008080; text-decoration-color: #008080; font-weight: bold\">2024</span>-<span style=\"color: #008080; text-decoration-color: #008080; font-weight: bold\">09</span>-<span style=\"color: #008080; text-decoration-color: #008080; font-weight: bold\">11</span> Preparation Document for Mehlic-<span style=\"color: #008080; text-decoration-color: #008080; font-weight: bold\">3</span> Analysis.md\n",
       "</pre>\n"
      ],
      "text/plain": [
       "\u001b[1;36m2024\u001b[0m-\u001b[1;36m09\u001b[0m-\u001b[1;36m11\u001b[0m Preparation Document for Mehlic-\u001b[1;36m3\u001b[0m Analysis.md\n"
      ]
     },
     "metadata": {},
     "output_type": "display_data"
    },
    {
     "data": {
      "text/html": [
       "<pre style=\"white-space:pre;overflow-x:auto;line-height:normal;font-family:Menlo,'DejaVu Sans Mono',consolas,'Courier New',monospace\"><span style=\"color: #008080; text-decoration-color: #008080; font-weight: bold\">2024</span>-<span style=\"color: #008080; text-decoration-color: #008080; font-weight: bold\">09</span>-<span style=\"color: #008080; text-decoration-color: #008080; font-weight: bold\">11</span> Preparation for Saturated Paste Analysis.md\n",
       "</pre>\n"
      ],
      "text/plain": [
       "\u001b[1;36m2024\u001b[0m-\u001b[1;36m09\u001b[0m-\u001b[1;36m11\u001b[0m Preparation for Saturated Paste Analysis.md\n"
      ]
     },
     "metadata": {},
     "output_type": "display_data"
    },
    {
     "data": {
      "text/html": [
       "<pre style=\"white-space:pre;overflow-x:auto;line-height:normal;font-family:Menlo,'DejaVu Sans Mono',consolas,'Courier New',monospace\"><span style=\"color: #008080; text-decoration-color: #008080; font-weight: bold\">09</span>-<span style=\"color: #008080; text-decoration-color: #008080; font-weight: bold\">11</span>-<span style=\"color: #008080; text-decoration-color: #008080; font-weight: bold\">2024</span> Soil Test Analysis Attempt.md <span style=\"font-weight: bold\">(</span><span style=\"color: #008080; text-decoration-color: #008080; font-weight: bold\">2</span><span style=\"font-weight: bold\">)</span>\n",
       "</pre>\n"
      ],
      "text/plain": [
       "\u001b[1;36m09\u001b[0m-\u001b[1;36m11\u001b[0m-\u001b[1;36m2024\u001b[0m Soil Test Analysis Attempt.md \u001b[1m(\u001b[0m\u001b[1;36m2\u001b[0m\u001b[1m)\u001b[0m\n"
      ]
     },
     "metadata": {},
     "output_type": "display_data"
    },
    {
     "data": {
      "text/html": [
       "<pre style=\"white-space:pre;overflow-x:auto;line-height:normal;font-family:Menlo,'DejaVu Sans Mono',consolas,'Courier New',monospace\">Instructions.md\n",
       "</pre>\n"
      ],
      "text/plain": [
       "Instructions.md\n"
      ]
     },
     "metadata": {},
     "output_type": "display_data"
    },
    {
     "data": {
      "text/html": [
       "<pre style=\"white-space:pre;overflow-x:auto;line-height:normal;font-family:Menlo,'DejaVu Sans Mono',consolas,'Courier New',monospace\">Soil Test Analysis.md\n",
       "</pre>\n"
      ],
      "text/plain": [
       "Soil Test Analysis.md\n"
      ]
     },
     "metadata": {},
     "output_type": "display_data"
    }
   ],
   "source": [
    "from rich import print\n",
    "from collections import defaultdict\n",
    "\n",
    "# Dictionary to keep track of how many times each document name has appeared\n",
    "doc_count = defaultdict(int)\n",
    "\n",
    "for doc in loaded_documents:\n",
    "    source = doc.metadata['source']\n",
    "    doc_count[source] += 1\n",
    "\n",
    "    if doc_count[source] > 1:\n",
    "        print(f\"{source} (Duplicate document. Document count: {doc_count[source]})\")\n",
    "    else:\n",
    "        print(source)"
   ]
  },
  {
   "cell_type": "code",
   "execution_count": null,
   "metadata": {},
   "outputs": [],
   "source": [
    "# View the contents of all the fields in each node.\n",
    "from node_view import launch_node_viewer\n",
    "# Create and launch the interface\n",
    "launch_node_viewer(loaded_documents)"
   ]
  },
  {
   "cell_type": "markdown",
   "metadata": {},
   "source": [
    "# Step 2: Split the Documents using Markdown Splitting"
   ]
  },
  {
   "cell_type": "code",
   "execution_count": null,
   "metadata": {},
   "outputs": [],
   "source": [
    "\n",
    "text_nodes = ingest_service.chunk_text(loaded_documents)\n",
    "DocStats.print_llama_index_docs_summary_stats(text_nodes)"
   ]
  },
  {
   "cell_type": "markdown",
   "metadata": {},
   "source": [
    "# Step 3: Delete Unuseful Nodes\n",
    "Some nodes will not contain any useful content. I delete them to provide cleaner data to the retriver.  I also check to see what other challenges might be occuring. In one case, I noted Excalidraw drawings were included.  I filtered these out."
   ]
  },
  {
   "cell_type": "code",
   "execution_count": null,
   "metadata": {},
   "outputs": [],
   "source": [
    "from node_view import launch_node_viewer\n",
    "# Create and launch the interface\n",
    "launch_node_viewer(text_nodes)\n"
   ]
  },
  {
   "cell_type": "code",
   "execution_count": 4,
   "metadata": {},
   "outputs": [],
   "source": [
    "# Saving the nodes in case we want to start before indexing.\n",
    "import pickle\n",
    "with open('eval/text_nodes.pkl', 'wb') as f:\n",
    "    pickle.dump(text_nodes, f)"
   ]
  },
  {
   "cell_type": "code",
   "execution_count": null,
   "metadata": {},
   "outputs": [],
   "source": [
    "# This notebook is in the eval folder.  Change to the root folder.\n",
    "%cd ..\n",
    "%pwd  # To verify the current working directory"
   ]
  },
  {
   "cell_type": "code",
   "execution_count": 7,
   "metadata": {},
   "outputs": [],
   "source": [
    "# Now unpickle\n",
    "import pickle\n",
    "\n",
    "with open('eval/text_nodes.pkl', 'rb') as f:\n",
    "    text_nodes = pickle.load(f)"
   ]
  },
  {
   "cell_type": "markdown",
   "metadata": {},
   "source": [
    "I deleted several nodes that were not useful. Several had Excalidraw content that should be filtered out.  "
   ]
  },
  {
   "cell_type": "markdown",
   "metadata": {},
   "source": [
    "# Step 4: Build the Index\n",
    "Now onto building the vector index.  I was originally going to use LlamaIndex APIs to simplify the code, but I was getting frustrated with dumb bugs like the files weren't updated for Pydantic 2.  We will use the chromadb api to build the index."
   ]
  },
  {
   "cell_type": "markdown",
   "metadata": {},
   "source": [
    "`chromadb` is used as the persistent store for the vector index."
   ]
  },
  {
   "cell_type": "code",
   "execution_count": null,
   "metadata": {},
   "outputs": [],
   "source": [
    "# The build_vector_index method does what is shown in the three cells after this one.\n",
    "from src.ingest_service import IngestService\n",
    "ingest_service = IngestService()\n",
    "collection = ingest_service.build_vector_index(nodes=text_nodes, collection_name='soil_test_knowledge')\n"
   ]
  },
  {
   "cell_type": "markdown",
   "metadata": {},
   "source": [
    "The `build_vector_index` method using the chromadb apis.  Similar to below."
   ]
  },
  {
   "cell_type": "code",
   "execution_count": null,
   "metadata": {},
   "outputs": [],
   "source": [
    "# 1. Setup - load up the db and set up the embedding model that will be used during collection creation.\n",
    "import chromadb\n",
    "from chromadb.utils.embedding_functions import SentenceTransformerEmbeddingFunction\n",
    "# The path to where the db is stored is fixed. The thought process is it simplifies the interface.\n",
    "chroma_client = chromadb.PersistentClient(path='vectorstore')\n",
    "collection_name = 'test'\n",
    "embed_model_name = 'multi-qa-mpnet-base-cos-v1'\n",
    "embedding_function = SentenceTransformerEmbeddingFunction(model_name=embed_model_name)"
   ]
  },
  {
   "cell_type": "code",
   "execution_count": null,
   "metadata": {},
   "outputs": [],
   "source": [
    "# 1.a Show the collections in the database.\n",
    "from rich import print\n",
    "db = 'vectorstore'\n",
    "collection_list = chroma_client.list_collections()\n",
    "\n",
    "print(collection_list)"
   ]
  },
  {
   "cell_type": "code",
   "execution_count": null,
   "metadata": {},
   "outputs": [],
   "source": [
    "\n",
    "# 1.b Check embedding dimension\n",
    "sample_text = \"This is a sample text to check the embedding dimension.\"\n",
    "sample_embedding = embedding_function([sample_text])\n",
    "embedding_dim = len(sample_embedding[0])\n",
    "print(f\"Embedding dimension: {embedding_dim}\")"
   ]
  },
  {
   "cell_type": "code",
   "execution_count": null,
   "metadata": {},
   "outputs": [],
   "source": [
    "# 2. Create the collection.  The documents will be embedded with the embedding function.  The metadata is added to the document as is an id.\n",
    "existing_collections = chroma_client.list_collections()\n",
    "if any(collection.name == collection_name for collection in existing_collections):\n",
    "    chroma_client.delete_collection(collection_name)\n",
    "    print(f\"Collection {collection_name} has been deleted.\")\n",
    "# The metadata field sets the distance field to cosine similarity.\n",
    "our_collection = chroma_client.create_collection( collection_name,embedding_function=embedding_function, metadata={\"hnsw:space\": \"cosine\"})\n",
    "ids = [str(i) for i in range(len(text_nodes))]\n",
    "documents = [node.text for node in text_nodes]\n",
    "metadata_list = [node.metadata for node in text_nodes]\n",
    "our_collection.add(ids=ids, documents=documents, metadatas = metadata_list)\n",
    "print(f\"Created collection '{collection_name}' with {our_collection.count()} document nodes\")"
   ]
  },
  {
   "cell_type": "markdown",
   "metadata": {},
   "source": [
    "With the vector index created, we can retrieve the results."
   ]
  },
  {
   "cell_type": "code",
   "execution_count": null,
   "metadata": {},
   "outputs": [],
   "source": [
    "query = \"What is the ideal ph for Cannabis?\"\n",
    "\n",
    "results = our_collection.query(query_texts=[query], n_results=5)\n",
    "retrieved_documents = results['documents'][0]\n",
    "\n",
    "for document in retrieved_documents:\n",
    "    print(document)\n",
    "    print('\\n')"
   ]
  },
  {
   "cell_type": "code",
   "execution_count": null,
   "metadata": {},
   "outputs": [],
   "source": [
    "print(results)"
   ]
  },
  {
   "cell_type": "code",
   "execution_count": null,
   "metadata": {},
   "outputs": [],
   "source": [
    "chroma_client = chromadb.Client()\n",
    "collection_name = \"microsoft_annual_report_2022\"\n",
    "try:\n",
    "    chroma_collection = chroma_client.create_collection( collection_name,embedding_function=embedding_function, metadata={\"hnsw:space\": \"cosine\"})\n",
    "    logger.debug(f'Chroma collection {collection_name} was created.')\n",
    "except:\n",
    "    chroma_client.delete_collection(collection_name)\n",
    "\n",
    "ids = [str(i) for i in range(len(text_nodes))]\n",
    "\n",
    "chroma_collection.add(ids=ids, documents=text_nodes, metadatas = text_nodes.metadata)\n",
    "chroma_collection.count()"
   ]
  },
  {
   "cell_type": "code",
   "execution_count": null,
   "metadata": {},
   "outputs": [],
   "source": [
    "# Create the collection\n",
    "\n",
    "from src.ingest_service import IngestService\n",
    "ingest_service = IngestService()\n",
    "# Create a Chroma collection object of a given name. Metadata, embeddings, text are all added.\n",
    "our_collection = ingest_service.create_collection(docs=text_nodes, collection='soil_test_knowledge', embedding_model_name='snowflake-arctic-embed')\n",
    "# This will print the embedding dimension\n"
   ]
  },
  {
   "cell_type": "code",
   "execution_count": null,
   "metadata": {},
   "outputs": [],
   "source": [
    "# Check embedding dimension\n",
    "sample_text = \"This is a sample text to check the embedding dimension.\"\n",
    "sample_embedding = Settings.embed_model.get_text_embedding(sample_text)\n",
    "embedding_dim = len(sample_embedding)\n",
    "print(f\"Embedding dimension: {embedding_dim}\")"
   ]
  },
  {
   "cell_type": "markdown",
   "metadata": {},
   "source": [
    "Now that we have our collection, we can create the index."
   ]
  },
  {
   "cell_type": "code",
   "execution_count": 12,
   "metadata": {},
   "outputs": [],
   "source": [
    "from llama_index.core import VectorStoreIndex\n",
    "from llama_index.vector_stores.chroma import ChromaVectorStore\n",
    "from src.ingest_service import IngestService\n",
    "# Grab the vector index\n",
    "ingest_service = IngestService()\n",
    "our_collection = ingest_service.get_collection('soil_test_knowledge')\n",
    "chroma_vector_store = ChromaVectorStore(chroma_collection=our_collection)\n",
    "# Create a VectorStoreIndex using the ChromaVectorStore\n",
    "vector_index = VectorStoreIndex.from_vector_store(chroma_vector_store, embed_model=Settings.embed_model)"
   ]
  },
  {
   "cell_type": "markdown",
   "metadata": {},
   "source": [
    "Let's retrieve some documents."
   ]
  },
  {
   "cell_type": "code",
   "execution_count": null,
   "metadata": {},
   "outputs": [],
   "source": [
    "retriever = vector_index.as_retriever(similarity_top_k=5,embed_model=Settings.embed_model)\n",
    "q = \"retrieve records that provide knowledge on the correct pH value for growing Cannabis as well as records that provide knowledge on what to do when the pH is too high or too low.\"\n",
    "\n",
    "nodes = retriever.retrieve(q)"
   ]
  },
  {
   "cell_type": "code",
   "execution_count": null,
   "metadata": {},
   "outputs": [],
   "source": [
    "from node_view import print_node_scores\n",
    "print_node_scores(nodes)"
   ]
  },
  {
   "cell_type": "code",
   "execution_count": null,
   "metadata": {},
   "outputs": [],
   "source": [
    "from node_view import launch_node_viewer\n",
    "# Create and launch the interface\n",
    "launch_node_viewer(nodes)"
   ]
  }
 ],
 "metadata": {
  "kernelspec": {
   "display_name": ".venv",
   "language": "python",
   "name": "python3"
  },
  "language_info": {
   "codemirror_mode": {
    "name": "ipython",
    "version": 3
   },
   "file_extension": ".py",
   "mimetype": "text/x-python",
   "name": "python",
   "nbconvert_exporter": "python",
   "pygments_lexer": "ipython3",
   "version": "3.12.0"
  }
 },
 "nbformat": 4,
 "nbformat_minor": 2
}
