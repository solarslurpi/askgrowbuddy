{
 "cells": [
  {
   "cell_type": "markdown",
   "metadata": {},
   "source": [
    "# Overview\n",
    "This notebook walks through the current RAG retrieval method used on an Obsidian notes directory containing knowledge on growing Cannabis in Living Soil.\n",
    "\n"
   ]
  },
  {
   "cell_type": "markdown",
   "metadata": {},
   "source": [
    "# Load Obsidian Notes\n",
    "The `load_obsidian_notes` method of the `IngestService` class takes in a directory path to a folder within an Obsidian vault. A note within an Obsidian vault can have a lot of metadata that adds additional context to the text of the note.  Langchain's `ObsidianLoader` class will populate the metadata of nodes with the Obsidian note's frontmatter, tags, dataview fields, and file metadata.\n",
    "- Frontmatter/tags transfer into the metadata of the nodes.\n",
    "- The Headers provide natural splitting points for the text.\n",
    "\n",
    "While testing, the`load_obsidian_notes` method can take in a list of strings where each string is considered a markdown file. This way, documents and nodes can be easily created as needed.\n"
   ]
  },
  {
   "cell_type": "code",
   "execution_count": null,
   "metadata": {},
   "outputs": [],
   "source": [
    "# Example of an obsidian note:\n",
    "doc = \"\"\"#Calcium_additive #raise_ph #Wollastonite #Silicon_additive #buffer_pH #Calcium\n",
    "Growers  turn to Wollastonite for:\n",
    "- Its **liming** capability.  Wollastonite's dissolution rate is slower than agricultural lime, offering a buffering effect against rapid pH changes. This makes Wollastonite beneficial in areas with fluctuating acidity levels.\n",
    "- Adding **Silicon**.\n",
    "- Adding **Calcium**.\n",
    "Wollastonite's pH buffering effect and Silicon content contribute to pest control and powdery mildew suppression, although the exact mechanisms are not fully understood.\n",
    "\n",
    "# What is Wollastonite?\n",
    "\n",
    "## Formation\n",
    "Wollastonite is formed when Limestone is subjected to heat and pressure during metamorphism if surrounding silicate minerals are present. It's chemical formula is CaSiO₃.\n",
    "### Basic Reaction:\n",
    "Given high pressure and high temperature:\n",
    "- CaCO3 (Limestone) + SiO2 (silica) → CaSiO3 (Wollastonite) + CO2 (carbon Dioxide)\n",
    "## Sources\n",
    "China is the largest producer of Wollastonite. Other areas where Wollastonite is mined include the United States (although it was originally mined in California, the only active mining in the U.S. is now in New York State), India, Mexico, Canada, and Finland.\n",
    "\n",
    "## Industrial Applications of Wollastonite\n",
    "\n",
    "|Industry|Application|\n",
    "|---|---|\n",
    "|Ceramics|Smoother and more durable ceramics, reinforcement agent|\n",
    "|Plastics and Rubber|Cost-effective strengthening agent|\n",
    "|Paints and Coatings|Reinforcement, improved durability and impact resistance|\n",
    "|Construction|Improved strength and durability of building materials, safe alternative to asbestos|\n",
    "##  How Wollastonite Provides Plants with Ca and Si\n",
    "\n",
    "Wollastonite reacts with Water and Carbon Dioxide in the soil to form Calcium Bicarbonate and Silicon Dioxide.\n",
    "- CaSiO₃ (Wollastonite)+2CO₂ (carbon Dioxide,)+H₂O (Water)→Ca(HCO₃)₂ (Calcium bicarbonate)+SiO₂ (silica)\n",
    "\n",
    "### Calcium\n",
    "- Calcium bicarbonate  (Ca(HCO₃)₂) is unstable and fairly easily decomposes to Limestone (CaCO₃):\n",
    "\t\t- Ca(HCO₃)₂ (Calcium bicarbonate)→CaCO₃ (Limestone)+  CO₂ (carbon Dioxide) + H₂O (Water)\n",
    "\n",
    "- Soils with a pH below 7 (acidic soils) contain hydrogen ions (H+). These hydrogen ions react with the Limestone (CaCO3) to form Calcium ions (Ca2+), Water (H2O), and Carbon Dioxide (CO2).\n",
    "\t- CaCO3 (Limestone) + 2H+ (hydrogen ions) → Ca2+ (Calcium ions) + H2O (Water) + CO2 (carbon Dioxide)\n",
    "### Silicon\n",
    "- Silicon Dioxide slowly breaks down into Silicic Acid, which plants absorb. This process is influenced by soil pH, temperature, and microbial activity.\n",
    "\t- SiO2 (Silicon Dioxide) + 2H2O (Water) → H4SiO4 (Silicic Acid)\n",
    "\n",
    "- Plants absorb Silicic Acid from the soil solution through their roots.\n",
    "\n",
    "\n",
    "\"\"\""
   ]
  },
  {
   "cell_type": "code",
   "execution_count": null,
   "metadata": {},
   "outputs": [],
   "source": [
    "# --->: Read in the markdown files in the Obsidian vault directory\n",
    "\n",
    "from src.doc_stats import DocStats\n",
    "from src.ingest_service import IngestService\n",
    "# The Directory containing the knowledge documents used by the AI to do the analysis on the soil tests.\n",
    "# soil_knowledge_directory = r\"G:\\My Drive\\Audios_To_Knowledge\\knowledge\\AskGrowBuddy\\AskGrowBuddy\\Knowledge\\soil_test_knowlege\"\n",
    "# Load the documents\n",
    "ingest_service = IngestService()\n",
    "# loaded_documents = ingest_service.load_obsidian_notes(soil_knowledge_directory)\n",
    "loaded_documents = ingest_service.load_obsidian_notes([doc])\n",
    "\n",
    "DocStats.print_llama_index_docs_summary_stats(loaded_documents)"
   ]
  },
  {
   "cell_type": "markdown",
   "metadata": {},
   "source": [
    "# Split the Obsidian notes into nodes\n",
    "LlamaIndex's `MarkdownNodeParser` class is used to split the documents into smaller nodes.  This allows for natural splitting of the text using the headers in the markdown files.     \n"
   ]
  },
  {
   "cell_type": "code",
   "execution_count": null,
   "metadata": {},
   "outputs": [],
   "source": [
    "# --->: Chunk the documents\n",
    "# LlamaIndex likes to call these nodes.\n",
    "# limited_docs = loaded_documents[:2]\n",
    "limited_docs = loaded_documents\n",
    "nodes = ingest_service.chunk_text(limited_docs)\n",
    "print(f\"Number of documents used for chunking: {len(limited_docs)}\")\n",
    "print(f\"Number of nodes created: {len(nodes)}\")"
   ]
  },
  {
   "cell_type": "markdown",
   "metadata": {},
   "source": [
    "# Set up Ollama\n",
    "We are using Ollama to provide both the embedding model and the LLM."
   ]
  },
  {
   "cell_type": "code",
   "execution_count": null,
   "metadata": {},
   "outputs": [],
   "source": [
    "# --->: Set up the local embedding model and LLM\n",
    "# Set embedding model\n",
    "# from llama_index.core import Settings\n",
    "# from llama_index.llms.ollama import Ollama\n",
    "# from llama_index.embeddings.ollama import OllamaEmbedding\n",
    "\n",
    "# Settings.embed_model = OllamaEmbedding(\n",
    "#     model_name='nomic-embed-text',\n",
    "#     base_url=\"http://localhost:11434\",\n",
    "#     ollama_additional_kwargs={\"mirostat\": 0},\n",
    "# )\n",
    "# # Choose your LLM...\n",
    "# Settings.llm = Ollama(model='mistral', request_timeout=1000.0)\n"
   ]
  },
  {
   "cell_type": "markdown",
   "metadata": {},
   "source": [
    "# Set Up Multi-Index Fusion Retrieval\n",
    "RAG will use three index/retrieval methods:\n",
    "1. Vector Store Index. This provides a similarity search on vector embeddings of the nodes.\n",
    "2. BM25 Index. This offers keyword-based retrieval, ranking documents based on term frequency and inverse document frequency.\n",
    "3. Knowledge Graph Index. This captures relationships between entities and concepts, enabling context-aware and relationship-based retrieval.\n",
    "\n",
    "The retrieved nodes are then passed through a Cohere's Reranker to rerank the nodes.  \n",
    "\n",
    "By using a combination of these methods, we create a retrieval system that integrates semantic similarity, keyword relevance, and relational context. This approach aims to improve the likelihood of retrieving relevant information compared to using vector similarity search alone.\n"
   ]
  },
  {
   "cell_type": "markdown",
   "metadata": {},
   "source": [
    "# Create and Persist the Vector Store Index\n",
    "Vector indexes convert text into dense vector embeddings, which are numerical representations that capture the semantic meaning of the text. These vector embeddings are then used to compute similarity scores between the text and a query, enabling the identification of semantically similar documents.\n",
    "\n",
    "Chroma is used to store and query the vector embeddings of the nodes.  Ollama embeddings are used to vectorize the text.\n",
    "## Simple Testing       \n",
    "For simple testing, the overhead of using a Chroma db can be avoided.  This code proved useful:\n",
    "```\n",
    "from llama_index.core import VectorStoreIndex\n",
    "vector_index = VectorStoreIndex(nodes)\n",
    "cache_dir = \"./vector_index_cache\"\n",
    "vector_index.storage_context.persist(persist_dir=cache_dir)\n",
    "```"
   ]
  },
  {
   "cell_type": "code",
   "execution_count": null,
   "metadata": {},
   "outputs": [],
   "source": [
    "# Create a vector_index.\n",
    "from src.ingest_service import IngestService\n",
    "ingest_service = IngestService()\n",
    "vector_index = ingest_service.build_vector_index(nodes,embed_model_name='nomic-embed-text', collection_name='soil_test_knowledge', persist_dir=\"soil_test_knowledge\")"
   ]
  },
  {
   "cell_type": "code",
   "execution_count": 8,
   "metadata": {},
   "outputs": [
    {
     "name": "stderr",
     "output_type": "stream",
     "text": [
      "2024-10-09 15:20:47,570 - src.ingest_service - INFO - Attempting to get vector index for collection 'soil_test_knowledge' - c:\\Users\\happy\\Documents\\Projects\\askgrowbuddy\\src\\ingest_service.py:123\n",
      "2024-10-09 15:20:47,935 - src.ingest_service - INFO - Successfully loaded vector index for collection 'soil_test_knowledge' - c:\\Users\\happy\\Documents\\Projects\\askgrowbuddy\\src\\ingest_service.py:133\n"
     ]
    }
   ],
   "source": [
    "# Get an existing vector_index.\n",
    "from src.ingest_service import IngestService\n",
    "ingest_service = IngestService()\n",
    "vector_index = ingest_service.get_vector_index('soil_test_knowledge')\n"
   ]
  },
  {
   "cell_type": "code",
   "execution_count": null,
   "metadata": {},
   "outputs": [],
   "source": [
    "# Query test\n",
    "query_engine = vector_index.as_query_engine(include_text=True)\n",
    "response = query_engine.query(\"What is the chemical formula for Wollastonite?\")\n",
    "print(response)"
   ]
  },
  {
   "cell_type": "markdown",
   "metadata": {},
   "source": [
    "# Create and Persist a Knowledge Graph Index\n",
    "Another view into documents is through a knowledge graph. Incorporating knowledge graphs into the retrieval process can help retrieve nodes or documents that might be overlooked by similarity searches.\n",
    "\n",
    "Knowledge graphs represent entities and the intricate relationships between them, providing a structured and interconnected view of information. For example, the triplet \"Wollastonite -> is made of -> Limestone and Silica\" illustrates the composition of Wollastonite and its formation through metamorphism\n"
   ]
  },
  {
   "cell_type": "code",
   "execution_count": 9,
   "metadata": {},
   "outputs": [],
   "source": [
    "import nest_asyncio\n",
    "nest_asyncio.apply()"
   ]
  },
  {
   "cell_type": "code",
   "execution_count": null,
   "metadata": {},
   "outputs": [],
   "source": [
    "# Create a knowledge graph index.\n",
    "from src.ingest_service import IngestService\n",
    "ingest_service = IngestService()\n",
    "kg_index = ingest_service.build_knowledge_graph(loaded_documents)"
   ]
  },
  {
   "cell_type": "code",
   "execution_count": 10,
   "metadata": {},
   "outputs": [
    {
     "name": "stderr",
     "output_type": "stream",
     "text": [
      "2024-10-09 15:20:57,989 - src.ingest_service - INFO - Attempting to retrieve existing knowledge graph - c:\\Users\\happy\\Documents\\Projects\\askgrowbuddy\\src\\ingest_service.py:180\n",
      "2024-10-09 15:21:00,082 - neo4j.notifications - WARNING - Received notification from DBMS server: {severity: WARNING} {code: Neo.ClientNotification.Statement.FeatureDeprecationWarning} {category: DEPRECATION} {title: This feature is deprecated and will be removed in future versions.} {description: The procedure has a deprecated field. ('config' used by 'apoc.meta.graphSample' is deprecated.)} {position: line: 1, column: 1, offset: 0} for query: \"CALL apoc.meta.graphSample() YIELD nodes, relationships RETURN nodes, [rel in relationships | {name:apoc.any.property(rel, 'type'), count: apoc.any.property(rel, 'count')}] AS relationships\" - c:\\Users\\happy\\Documents\\Projects\\askgrowbuddy\\.venv\\Lib\\site-packages\\neo4j\\_sync\\work\\result.py:332\n",
      "2024-10-09 15:21:00,094 - neo4j.notifications - WARNING - Received notification from DBMS server: {severity: WARNING} {code: Neo.ClientNotification.Statement.AggregationSkippedNull} {category: UNRECOGNIZED} {title: The query contains an aggregation function that skips null values.} {description: null value eliminated in set function.} {position: None} for query: 'MATCH (n:`Chunk`)\\nWITH collect(distinct substring(toString(n.`id`), 0, 50)) AS `id_values`,\\n     min(size(n.`embedding`)) AS `embedding_size_min`, max(size(n.`embedding`)) AS `embedding_size_max`,\\n     collect(distinct substring(toString(n.`text`), 0, 50)) AS `text_values`,\\n     collect(distinct substring(toString(n.`document_id`), 0, 50)) AS `document_id_values`,\\n     collect(distinct substring(toString(n.`ref_doc_id`), 0, 50)) AS `ref_doc_id_values`,\\n     collect(distinct substring(toString(n.`_node_type`), 0, 50)) AS `_node_type_values`,\\n     collect(distinct substring(toString(n.`doc_id`), 0, 50)) AS `doc_id_values`,\\n     collect(distinct substring(toString(n.`_node_content`), 0, 50)) AS `_node_content_values`\\nRETURN {`id`: {values:`id_values`[..10], distinct_count: size(`id_values`)}, `embedding`: {min_size: `embedding_size_min`, max_size: `embedding_size_max`}, `text`: {values:`text_values`[..10], distinct_count: size(`text_values`)}, `document_id`: {values:`document_id_values`[..10], distinct_count: size(`document_id_values`)}, `ref_doc_id`: {values:`ref_doc_id_values`[..10], distinct_count: size(`ref_doc_id_values`)}, `_node_type`: {values:`_node_type_values`[..10], distinct_count: size(`_node_type_values`)}, `doc_id`: {values:`doc_id_values`[..10], distinct_count: size(`doc_id_values`)}, `_node_content`: {values:`_node_content_values`[..10], distinct_count: size(`_node_content_values`)}} AS output' - c:\\Users\\happy\\Documents\\Projects\\askgrowbuddy\\.venv\\Lib\\site-packages\\neo4j\\_sync\\work\\result.py:332\n",
      "2024-10-09 15:21:00,111 - neo4j.notifications - INFO - Received notification from DBMS server: {severity: INFORMATION} {code: Neo.ClientNotification.Schema.IndexOrConstraintAlreadyExists} {category: SCHEMA} {title: `CREATE CONSTRAINT IF NOT EXISTS FOR (e:__Node__) REQUIRE (e.id) IS UNIQUE` has no effect.} {description: `CONSTRAINT constraint_ec67c859 FOR (e:__Node__) REQUIRE (e.id) IS UNIQUE` already exists.} {position: None} for query: 'CREATE CONSTRAINT IF NOT EXISTS FOR (n:`__Node__`)\\n            REQUIRE n.id IS UNIQUE;' - c:\\Users\\happy\\Documents\\Projects\\askgrowbuddy\\.venv\\Lib\\site-packages\\neo4j\\_sync\\work\\result.py:332\n",
      "2024-10-09 15:21:00,120 - neo4j.notifications - INFO - Received notification from DBMS server: {severity: INFORMATION} {code: Neo.ClientNotification.Schema.IndexOrConstraintAlreadyExists} {category: SCHEMA} {title: `CREATE CONSTRAINT IF NOT EXISTS FOR (e:__Entity__) REQUIRE (e.id) IS UNIQUE` has no effect.} {description: `CONSTRAINT constraint_907a464e FOR (e:__Entity__) REQUIRE (e.id) IS UNIQUE` already exists.} {position: None} for query: 'CREATE CONSTRAINT IF NOT EXISTS FOR (n:`__Entity__`)\\n            REQUIRE n.id IS UNIQUE;' - c:\\Users\\happy\\Documents\\Projects\\askgrowbuddy\\.venv\\Lib\\site-packages\\neo4j\\_sync\\work\\result.py:332\n",
      "2024-10-09 15:21:00,131 - neo4j.notifications - INFO - Received notification from DBMS server: {severity: INFORMATION} {code: Neo.ClientNotification.Schema.IndexOrConstraintAlreadyExists} {category: SCHEMA} {title: `CREATE VECTOR INDEX entity IF NOT EXISTS FOR (e:__Entity__) ON (e.embedding)` has no effect.} {description: `VECTOR INDEX entity FOR (e:__Entity__) ON (e.embedding)` already exists.} {position: None} for query: 'CREATE VECTOR INDEX entity IF NOT EXISTS FOR (m:__Entity__) ON m.embedding' - c:\\Users\\happy\\Documents\\Projects\\askgrowbuddy\\.venv\\Lib\\site-packages\\neo4j\\_sync\\work\\result.py:332\n",
      "2024-10-09 15:21:00,762 - src.ingest_service - INFO - Existing knowledge graph successfully retrieved - c:\\Users\\happy\\Documents\\Projects\\askgrowbuddy\\src\\ingest_service.py:197\n"
     ]
    }
   ],
   "source": [
    "# Get a knowledge graph index.\n",
    "from src.ingest_service import IngestService\n",
    "ingest_service = IngestService()\n",
    "kg_index = ingest_service.get_knowledge_graph()"
   ]
  },
  {
   "cell_type": "code",
   "execution_count": null,
   "metadata": {},
   "outputs": [],
   "source": [
    "# Test...\n",
    "retriever = kg_index.as_retriever(\n",
    "    include_text=False,  # include source text in returned nodes, default True\n",
    ")\n",
    "\n",
    "nodes = retriever.retrieve(\"What is the chemical formula for Wollastonite?\")\n",
    "\n",
    "for node in nodes:\n",
    "    print(node.text)"
   ]
  },
  {
   "cell_type": "code",
   "execution_count": null,
   "metadata": {},
   "outputs": [],
   "source": [
    "# Test...\n",
    "query_engine = kg_index.as_query_engine(include_text=True)\n",
    "\n",
    "response = query_engine.query(\"What is the chemical formula for Wolastonite?\")\n",
    "\n",
    "print(str(response))"
   ]
  },
  {
   "cell_type": "markdown",
   "metadata": {},
   "source": [
    "# Create and Persist a bm25_retriever\n",
    "\n",
    "BM, which stands for \"Best Match,\" is a ranking algorithm that analyzes each document to determine the frequency of a given term, known as the term frequency (TF). Additionally, it considers the number of documents in the collection that contain the term, which is referred to as the inverse document frequency (IDF). The algorithm combines these two metrics to retrieve the most relevant documents.\n",
    "\n",
    "Let's consider two example documents:\n",
    "Document 1: \"Wollastonite is a mineral used in agriculture for its liming capability.\"\n",
    "Document 2: \"Wollastonite is formed when Limestone is subjected to heat and pressure during metamorphism. It is used in ceramics, plastics, and construction.\"\n",
    "\n",
    "BM25 would analyze the term frequency of \"Wollastonite\" in both documents, as well as the IDF of the term across the entire collection.\n",
    "\n",
    "## Term Frequency (TF)\n",
    "The term frequency (TF) of 'Wollastonite' in each document is calculated as follows:\n",
    "Document 1: The TF for \"Wollastonite\" is 1/11. There are 11 words in the document, and one of them is \"Wollastonite\".\n",
    "Document 2: The TF for \"Wollastonite\" is 1/21. There are 21 words in the document, and \"Wollastonite\" occurs once.\n",
    "\n",
    "## Inverse Document Frequency (IDF)\n",
    "IDF measures the rarity of a term, in this case 'Wollastonite'. The IDF is calculated as follows:\n",
    "IDF = log(number of documents/number of documents containing term)\n",
    "IDF = log(2/2) = 0\n",
    "As a result, the IDF of 'Wollastonite' is 0, indicating that it is a common term.\n",
    "\n",
    "Based on the BM25 ranking algorithm, Document 1 will be picked first because it has a higher term frequency (TF) for the term \"Wollastonite\" compared to Document 2. "
   ]
  },
  {
   "cell_type": "code",
   "execution_count": null,
   "metadata": {},
   "outputs": [],
   "source": [
    "from src.ingest_service import IngestService\n",
    "\n",
    "ingest_service = IngestService()\n",
    "bm25_retriever = ingest_service.build_bm25_retriever(nodes, similarity_top_k=5)"
   ]
  },
  {
   "cell_type": "code",
   "execution_count": 11,
   "metadata": {},
   "outputs": [],
   "source": [
    "# Retrieve from storage.\n",
    "from llama_index.retrievers.bm25 import BM25Retriever\n",
    "bm25_retriever = BM25Retriever.from_persist_dir(\"bm25_index\")"
   ]
  },
  {
   "cell_type": "code",
   "execution_count": null,
   "metadata": {},
   "outputs": [],
   "source": [
    "# Test...\n",
    "# retriever = bm25_retriever.as_retriever(\n",
    "#     include_text=False,  # include source text in returned nodes, default True\n",
    "# )\n",
    "\n",
    "nodes = bm25_retriever.retrieve(\"What is the chemical formula for Wollastonite?\")\n",
    "\n",
    "for node in nodes:\n",
    "    print(node.text)"
   ]
  },
  {
   "cell_type": "markdown",
   "metadata": {},
   "source": [
    "# Set up the Retriever\n",
    "Nodes of text will be retrieved from three different spaces:\n",
    "- a vector index based on semantic similarity.\n",
    "- a bm25 index based on keyword matching.\n",
    "- a knowledge graph index based on entities and their relationships.\n",
    "Duplicates are removed and then a Cohere rerank is applied."
   ]
  },
  {
   "cell_type": "code",
   "execution_count": 12,
   "metadata": {},
   "outputs": [],
   "source": [
    "# Build Retriever\n",
    "from src.hybrid_graph_retriever import HybridGraphRetriever\n",
    "retriever = HybridGraphRetriever(\n",
    "    vector_index=vector_index,\n",
    "    kg_index=kg_index,\n",
    "    bm25_retriever=bm25_retriever,\n",
    ")"
   ]
  },
  {
   "cell_type": "markdown",
   "metadata": {},
   "source": [
    "# Run the Query and Count Tokens\n",
    "We can finally ask our question! \n",
    "\n",
    "I used the Ollama class to query instead of a QueryEngine class.  The Chat interface of the Ollama class returns more useful information than just the answer.  The response also includes token count information.  It is far easier to get the token information this way than through the callback pattern used by LlamaIndex.  The callback pattern makes it difficult (impossible?) to use Ollama as an LLM provider for token counting.\n",
    "\n",
    "A prompt template is used to provide a targeted prompt that includes context details, the context nodes, as well as the question."
   ]
  },
  {
   "cell_type": "code",
   "execution_count": 19,
   "metadata": {},
   "outputs": [
    {
     "name": "stdout",
     "output_type": "stream",
     "text": [
      "Vector results: 5\n",
      "BM25 results: 5\n",
      "KG results: 2\n",
      "All results: 12\n",
      "Unique results: 8\n",
      "Reranked results: 5\n"
     ]
    }
   ],
   "source": [
    "\n",
    "from llama_index.core.schema import QueryBundle\n",
    "question = \"What is the chemical formula of Wollastonite?\"\n",
    "# Retrieve the nodes\n",
    "query_bundle = QueryBundle(query_str=question)\n",
    "retrieved_nodes = retriever.retrieve(query_bundle)\n",
    "context = \"\\n\".join([node.node.text for node in retrieved_nodes])\n",
    "prompt = f\"\"\"\n",
    "    Question: {question}\n",
    "    Context: {context}\n",
    "\n",
    "    You are an expert soil analyst that specializes in growing Cannabis. Your methods most closely align with the William Albrecht \"school\" of soil science.  A Cannabis grower has come to your with a Question.  Given the Context provided, your goal is to provide a 100% factual answer based solely on the Context.  Do not elaborate on the answer. Growers appreciate concise, short answers. Make sure to review your answer and think carefully on the response. You are known for your thoughtful and factual answers.\n",
    "    \"\"\""
   ]
  },
  {
   "cell_type": "code",
   "execution_count": 14,
   "metadata": {},
   "outputs": [],
   "source": [
    "from llama_index.llms.ollama import Ollama\n",
    "\n",
    "\n",
    "# Function to run a query with the retriever and custom prompt\n",
    "def ask_question(query: str, model_name='mistral'):\n",
    "    # Initialize the Ollama LLM\n",
    "    # We are directly using the Ollama class in order to get to the tokens.\n",
    "    ollama_llm = Ollama(model=model_name)\n",
    "    # Use Ollama's chat method with the formatted prompt\n",
    "    from llama_index.core.base.llms.types import ChatMessage, MessageRole\n",
    "\n",
    "    messages = [ChatMessage(role=MessageRole.USER, content=query)]\n",
    "    ollama_response = ollama_llm.chat(messages)\n",
    "\n",
    "    return {\n",
    "        \"query\": query,\n",
    "        \"answer\": ollama_response.message.content,\n",
    "        \"contexts\": [node.node.text for node in retrieved_nodes],\n",
    "        \"token_info\": {\n",
    "            \"prompt_tokens\": ollama_response.raw.get('prompt_eval_count', 0),\n",
    "            \"completion_tokens\": ollama_response.raw.get('eval_count', 0),\n",
    "            \"total_tokens\": ollama_response.raw.get('prompt_eval_count', 0) + ollama_response.raw.get('eval_count', 0)\n",
    "        },\n",
    "        \"other_info\": {\n",
    "            \"model\": ollama_response.raw.get('model'),\n",
    "            \"total_duration\": ollama_response.raw.get('total_duration'),\n",
    "            \"load_duration\": ollama_response.raw.get('load_duration'),\n",
    "            \"eval_duration\": ollama_response.raw.get('eval_duration')\n",
    "        }\n",
    "    }"
   ]
  },
  {
   "cell_type": "code",
   "execution_count": 20,
   "metadata": {},
   "outputs": [
    {
     "data": {
      "text/plain": [
       "{'query': '\\n    Question: What is the chemical formula of Wollastonite?\\n    Context: Formation\\nWollastonite is formed when Limestone is subjected to heat and pressure during metamorphism if surrounding silicate minerals are present. It\\'s chemical formula is CaSiO₃.\\n#Calcium_additive #raise_ph #Wollastonite #Silicon_additive #buffer_pH #Calcium\\nGrowers  turn to Wollastonite for:\\n- Its **liming** capability.  Wollastonite\\'s dissolution rate is slower than agricultural lime, offering a buffering effect against rapid pH changes. This makes Wollastonite beneficial in areas with fluctuating acidity levels.\\n- Adding **Silicon**.\\n- Adding **Calcium**.\\nWollastonite\\'s pH buffering effect and Silicon content contribute to pest control and powdery mildew suppression, although the exact mechanisms are not fully understood.\\n\\n# What is Wollastonite?\\n\\n## Formation\\nWollastonite is formed when Limestone is subjected to heat and pressure during metamorphism if surrounding silicate minerals are present. It\\'s chemical formula is CaSiO₃.\\n### Basic Reaction:\\nGiven high pressure and high temperature:\\n- CaCO3 (Limestone) + SiO2 (silica) → CaSiO3 (Wollastonite) + CO2 (carbon Dioxide)\\n## Sources\\nChina is the largest producer of Wollastonite. Other areas where Wollastonite is mined include the United States (although it was originally mined in California, the only active mining in the U.S. is now in New York State), India, Mexico, Canada, and Finland.\\n\\n## Industrial Applications of Wollastonite\\n\\n|Industry|Application|\\n|---|---|\\n|Ceramics|Smoother and more durable ceramics, reinforcement agent|\\n|Plastics and Rubber|Cost-effective strengthening agent|\\n|Paints and Coatings|Reinforcement, improved durability and impact resistance|\\n|Construction|Improved strength and durability of building materials, safe alternative to asbestos|\\n##  How Wollastonite Provides Plants with Ca and Si\\n\\nWollastonite reacts with Water and Carbon Dioxide in the soil to form Calcium Bicarbonate and Silicon Dioxide.\\n- CaSiO₃\\xa0(Wollastonite)+2CO₂\\xa0(carbon Dioxide,)+H₂O\\xa0(Water)→Ca(HCO₃)₂\\xa0(Calcium bicarbonate)+SiO₂\\xa0(silica)\\n\\n### Calcium\\n- Calcium bicarbonate  (Ca(HCO₃)₂)\\xa0is unstable and fairly easily decomposes to Limestone (CaCO₃):\\n\\t\\t- Ca(HCO₃)₂\\xa0(Calcium bicarbonate)→CaCO₃\\xa0(Limestone)+ \\xa0CO₂ (carbon Dioxide) + H₂O (Water)\\n\\n- Soils with a pH below 7 (acidic soils) contain hydrogen ions (H+). These hydrogen ions react with the Limestone (CaCO3) to form Calcium ions (Ca2+), Water (H2O), and Carbon Dioxide (CO2).\\n\\t- CaCO3 (Limestone) + 2H+ (hydrogen ions) → Ca2+ (Calcium ions) + H2O (Water) + CO2 (carbon Dioxide)\\n### Silicon\\n- Silicon Dioxide slowly breaks down into Silicic Acid, which plants absorb. This process is influenced by soil pH, temperature, and microbial activity.\\n\\t- SiO2 (Silicon Dioxide) + 2H2O (Water) → H4SiO4 (Silicic Acid)\\n\\n- Plants absorb\\xa0Silicic Acid\\xa0from the soil solution\\xa0through their\\xa0roots.\\nHow Wollastonite Provides Plants with Ca and Si\\n\\nWollastonite reacts with Water and Carbon Dioxide in the soil to form Calcium Bicarbonate and Silicon Dioxide.\\n- CaSiO₃\\xa0(Wollastonite)+2CO₂\\xa0(carbon Dioxide,)+H₂O\\xa0(Water)→Ca(HCO₃)₂\\xa0(Calcium bicarbonate)+SiO₂\\xa0(silica)\\n#Calcium_additive #raise_ph #Wollastonite #Silicon_additive #buffer_pH #Calcium\\nGrowers  turn to Wollastonite for:\\n- Its **liming** capability.  Wollastonite\\'s dissolution rate is slower than agricultural lime, offering a buffering effect against rapid pH changes. This makes Wollastonite beneficial in areas with fluctuating acidity levels.\\n- Adding **Silicon**.\\n- Adding **Calcium**.\\nWollastonite\\'s pH buffering effect and Silicon content contribute to pest control and powdery mildew suppression, although the exact mechanisms are not fully understood.\\n\\n# What is Wollastonite?\\n\\n## Formation\\nWollastonite is formed when Limestone is subjected to heat and pressure during metamorphism if surrounding silicate minerals are present.\\n### Basic Reaction:\\nGiven high pressure and high temperature:\\n- CaCO3 (Limestone) + SiO2 (silica) → CaSiO3 (Wollastonite) + CO2 (carbon Dioxide)\\n## Sources\\nChina is the largest producer of Wollastonite. Other areas where Wollastonite is mined include the United States (although it was originally mined in California, the only active mining in the U.S. is now in New York State), India, Mexico, Canada, and Finland.\\n\\n## Industrial Applications of Wollastonite\\n\\n|Industry|Application|\\n|---|---|\\n|Ceramics|Smoother and more durable ceramics, reinforcement agent|\\n|Plastics and Rubber|Cost-effective strengthening agent|\\n|Paints and Coatings|Reinforcement, improved durability and impact resistance|\\n|Construction|Improved strength and durability of building materials, safe alternative to asbestos|\\n##  How Wollastonite Provides Plants with Ca and Si\\n\\nWollastonite reacts with Water and Carbon Dioxide in the soil to form Calcium Bicarbonate and Silicon Dioxide.\\n- CaSiO₃\\xa0(Wollastonite)+2CO₂\\xa0(carbon Dioxide,)+H₂O\\xa0(Water)→Ca(HCO₃)₂\\xa0(Calcium bicarbonate)+SiO₂\\xa0(silica)\\n\\n### Calcium\\n- Calcium bicarbonate  (Ca(HCO₃)₂)\\xa0is unstable and fairly easily decomposes to Limestone (CaCO₃):\\n\\t\\t- Ca(HCO₃)₂\\xa0(Calcium bicarbonate)→CaCO₃\\xa0(Limestone)+ \\xa0CO₂ (carbon Dioxide) + H₂O (Water)\\n\\n- Soils with a pH below 7 (acidic soils) contain hydrogen ions (H+). These hydrogen ions react with the Limestone (CaCO3) to form Calcium ions (Ca2+), Water (H2O), and Carbon Dioxide (CO2).\\n\\t- CaCO3 (Limestone) + 2H+ (hydrogen ions) → Ca2+ (Calcium ions) + H2O (Water) + CO2 (carbon Dioxide)\\n### Silicon\\n- Silicon Dioxide slowly breaks down into Silicic Acid, which plants absorb. This process is influenced by soil pH, temperature, and microbial activity.\\n\\t- SiO2 (Silicon Dioxide) + 2H2O (Water) → H4SiO4 (Silicic Acid)\\n\\n- Plants absorb\\xa0Silicic Acid\\xa0from the soil solution\\xa0through their\\xa0roots.\\n#Calcium_additive #raise_ph #Wollastonite #Silicon_additive #buffer_pH #Calcium\\nGrowers  turn to Wollastonite for:\\n- Its **liming** capability.  Wollastonite\\'s dissolution rate is slower than agricultural lime, offering a buffering effect against rapid pH changes. This makes Wollastonite beneficial in areas with fluctuating acidity levels.\\n- Adding **Silicon**.\\n- Adding **Calcium**.\\nWollastonite\\'s pH buffering effect and Silicon content contribute to pest control and powdery mildew suppression, although the exact mechanisms are not fully understood.\\n\\n    You are an expert soil analyst that specializes in growing Cannabis. Your methods most closely align with the William Albrecht \"school\" of soil science.  A Cannabis grower has come to your with a Question.  Given the Context provided, your goal is to provide a 100% factual answer based solely on the Context.  Growers appreciate concise, short answers. Make sure to review your answer and think carefully on the response. You are known for your thoughtful and factual answers.\\n    ',\n",
       " 'answer': ' Wollastonite is a mineral formed from heat and pressure during limestone metamorphism in the presence of silicate minerals. Its chemical formula is CaSiO₃. Growers use it for its liming capability, adding silicon, and increasing calcium levels in soil. It provides plants with these essential nutrients by reacting with water and carbon dioxide to form calcium bicarbonate and silicon dioxide. The calcium bicarbonate breaks down into lime, which raises the pH of acidic soils, while the silicon dioxide slowly converts into silicic acid that plants can absorb.',\n",
       " 'contexts': [\"Formation\\nWollastonite is formed when Limestone is subjected to heat and pressure during metamorphism if surrounding silicate minerals are present. It's chemical formula is CaSiO₃.\",\n",
       "  \"#Calcium_additive #raise_ph #Wollastonite #Silicon_additive #buffer_pH #Calcium\\nGrowers  turn to Wollastonite for:\\n- Its **liming** capability.  Wollastonite's dissolution rate is slower than agricultural lime, offering a buffering effect against rapid pH changes. This makes Wollastonite beneficial in areas with fluctuating acidity levels.\\n- Adding **Silicon**.\\n- Adding **Calcium**.\\nWollastonite's pH buffering effect and Silicon content contribute to pest control and powdery mildew suppression, although the exact mechanisms are not fully understood.\\n\\n# What is Wollastonite?\\n\\n## Formation\\nWollastonite is formed when Limestone is subjected to heat and pressure during metamorphism if surrounding silicate minerals are present. It's chemical formula is CaSiO₃.\\n### Basic Reaction:\\nGiven high pressure and high temperature:\\n- CaCO3 (Limestone) + SiO2 (silica) → CaSiO3 (Wollastonite) + CO2 (carbon Dioxide)\\n## Sources\\nChina is the largest producer of Wollastonite. Other areas where Wollastonite is mined include the United States (although it was originally mined in California, the only active mining in the U.S. is now in New York State), India, Mexico, Canada, and Finland.\\n\\n## Industrial Applications of Wollastonite\\n\\n|Industry|Application|\\n|---|---|\\n|Ceramics|Smoother and more durable ceramics, reinforcement agent|\\n|Plastics and Rubber|Cost-effective strengthening agent|\\n|Paints and Coatings|Reinforcement, improved durability and impact resistance|\\n|Construction|Improved strength and durability of building materials, safe alternative to asbestos|\\n##  How Wollastonite Provides Plants with Ca and Si\\n\\nWollastonite reacts with Water and Carbon Dioxide in the soil to form Calcium Bicarbonate and Silicon Dioxide.\\n- CaSiO₃\\xa0(Wollastonite)+2CO₂\\xa0(carbon Dioxide,)+H₂O\\xa0(Water)→Ca(HCO₃)₂\\xa0(Calcium bicarbonate)+SiO₂\\xa0(silica)\\n\\n### Calcium\\n- Calcium bicarbonate  (Ca(HCO₃)₂)\\xa0is unstable and fairly easily decomposes to Limestone (CaCO₃):\\n\\t\\t- Ca(HCO₃)₂\\xa0(Calcium bicarbonate)→CaCO₃\\xa0(Limestone)+ \\xa0CO₂ (carbon Dioxide) + H₂O (Water)\\n\\n- Soils with a pH below 7 (acidic soils) contain hydrogen ions (H+). These hydrogen ions react with the Limestone (CaCO3) to form Calcium ions (Ca2+), Water (H2O), and Carbon Dioxide (CO2).\\n\\t- CaCO3 (Limestone) + 2H+ (hydrogen ions) → Ca2+ (Calcium ions) + H2O (Water) + CO2 (carbon Dioxide)\\n### Silicon\\n- Silicon Dioxide slowly breaks down into Silicic Acid, which plants absorb. This process is influenced by soil pH, temperature, and microbial activity.\\n\\t- SiO2 (Silicon Dioxide) + 2H2O (Water) → H4SiO4 (Silicic Acid)\\n\\n- Plants absorb\\xa0Silicic Acid\\xa0from the soil solution\\xa0through their\\xa0roots.\",\n",
       "  'How Wollastonite Provides Plants with Ca and Si\\n\\nWollastonite reacts with Water and Carbon Dioxide in the soil to form Calcium Bicarbonate and Silicon Dioxide.\\n- CaSiO₃\\xa0(Wollastonite)+2CO₂\\xa0(carbon Dioxide,)+H₂O\\xa0(Water)→Ca(HCO₃)₂\\xa0(Calcium bicarbonate)+SiO₂\\xa0(silica)',\n",
       "  \"#Calcium_additive #raise_ph #Wollastonite #Silicon_additive #buffer_pH #Calcium\\nGrowers  turn to Wollastonite for:\\n- Its **liming** capability.  Wollastonite's dissolution rate is slower than agricultural lime, offering a buffering effect against rapid pH changes. This makes Wollastonite beneficial in areas with fluctuating acidity levels.\\n- Adding **Silicon**.\\n- Adding **Calcium**.\\nWollastonite's pH buffering effect and Silicon content contribute to pest control and powdery mildew suppression, although the exact mechanisms are not fully understood.\\n\\n# What is Wollastonite?\\n\\n## Formation\\nWollastonite is formed when Limestone is subjected to heat and pressure during metamorphism if surrounding silicate minerals are present.\\n### Basic Reaction:\\nGiven high pressure and high temperature:\\n- CaCO3 (Limestone) + SiO2 (silica) → CaSiO3 (Wollastonite) + CO2 (carbon Dioxide)\\n## Sources\\nChina is the largest producer of Wollastonite. Other areas where Wollastonite is mined include the United States (although it was originally mined in California, the only active mining in the U.S. is now in New York State), India, Mexico, Canada, and Finland.\\n\\n## Industrial Applications of Wollastonite\\n\\n|Industry|Application|\\n|---|---|\\n|Ceramics|Smoother and more durable ceramics, reinforcement agent|\\n|Plastics and Rubber|Cost-effective strengthening agent|\\n|Paints and Coatings|Reinforcement, improved durability and impact resistance|\\n|Construction|Improved strength and durability of building materials, safe alternative to asbestos|\\n##  How Wollastonite Provides Plants with Ca and Si\\n\\nWollastonite reacts with Water and Carbon Dioxide in the soil to form Calcium Bicarbonate and Silicon Dioxide.\\n- CaSiO₃\\xa0(Wollastonite)+2CO₂\\xa0(carbon Dioxide,)+H₂O\\xa0(Water)→Ca(HCO₃)₂\\xa0(Calcium bicarbonate)+SiO₂\\xa0(silica)\\n\\n### Calcium\\n- Calcium bicarbonate  (Ca(HCO₃)₂)\\xa0is unstable and fairly easily decomposes to Limestone (CaCO₃):\\n\\t\\t- Ca(HCO₃)₂\\xa0(Calcium bicarbonate)→CaCO₃\\xa0(Limestone)+ \\xa0CO₂ (carbon Dioxide) + H₂O (Water)\\n\\n- Soils with a pH below 7 (acidic soils) contain hydrogen ions (H+). These hydrogen ions react with the Limestone (CaCO3) to form Calcium ions (Ca2+), Water (H2O), and Carbon Dioxide (CO2).\\n\\t- CaCO3 (Limestone) + 2H+ (hydrogen ions) → Ca2+ (Calcium ions) + H2O (Water) + CO2 (carbon Dioxide)\\n### Silicon\\n- Silicon Dioxide slowly breaks down into Silicic Acid, which plants absorb. This process is influenced by soil pH, temperature, and microbial activity.\\n\\t- SiO2 (Silicon Dioxide) + 2H2O (Water) → H4SiO4 (Silicic Acid)\\n\\n- Plants absorb\\xa0Silicic Acid\\xa0from the soil solution\\xa0through their\\xa0roots.\",\n",
       "  \"#Calcium_additive #raise_ph #Wollastonite #Silicon_additive #buffer_pH #Calcium\\nGrowers  turn to Wollastonite for:\\n- Its **liming** capability.  Wollastonite's dissolution rate is slower than agricultural lime, offering a buffering effect against rapid pH changes. This makes Wollastonite beneficial in areas with fluctuating acidity levels.\\n- Adding **Silicon**.\\n- Adding **Calcium**.\\nWollastonite's pH buffering effect and Silicon content contribute to pest control and powdery mildew suppression, although the exact mechanisms are not fully understood.\"],\n",
       " 'token_info': {'prompt_tokens': 2231,\n",
       "  'completion_tokens': 141,\n",
       "  'total_tokens': 2372},\n",
       " 'other_info': {'model': 'mistral',\n",
       "  'total_duration': 10941510000,\n",
       "  'load_duration': 8527900,\n",
       "  'eval_duration': 6683682000}}"
      ]
     },
     "execution_count": 20,
     "metadata": {},
     "output_type": "execute_result"
    }
   ],
   "source": [
    "ask_question(prompt)"
   ]
  },
  {
   "cell_type": "markdown",
   "metadata": {},
   "source": [
    "# Evaluate Responses\n",
    "Now that we can ask a Large Language Model (LLM) questions based on our curated knowledge, it's time to evaluate the quality of the answers. The methods we will use to evaluate the responses include:\n",
    "- Faithfulness: The answer is analyzed against the context text from the curated knowledge to assess its accuracy. If the answer deviates from the context text, it is considered partially or completely a hallucination, indicating that the model has generated information not grounded in the original text.\n",
    "- Contextual relevance: how relevant the retrieved context is to the original query\n",
    "- Answer relevance: how relevant the LLM's response is to a given user's query\n"
   ]
  },
  {
   "cell_type": "code",
   "execution_count": null,
   "metadata": {},
   "outputs": [],
   "source": [
    "\n",
    "import re\n",
    "\n",
    "class SimpleFaithfulness:\n",
    "    def __init__(self):\n",
    "        pass\n",
    "\n",
    "    def evaluate(self, question, answer, context):\n",
    "        prompt = f\"\"\"\n",
    "        Question: {question}\n",
    "        Answer: {answer}\n",
    "        Context: {context}\n",
    "\n",
    "        Evaluate the faithfulness of the answer based on the given context. Consider the following:\n",
    "        1. Does the answer contain information not present in the context?\n",
    "        2. Does the answer contradict any information in the context?\n",
    "        3. Is the answer a fair representation of the information in the context?\n",
    "\n",
    "        Respond with:\n",
    "        1. A score from 0 to 1, where 0 is completely unfaithful and 1 is completely faithful.\n",
    "        2. A brief explanation of your scoring.\n",
    "        3. Any hallucinations or discrepancies found, if any.\n",
    "\n",
    "        Format your response exactly as follows:\n",
    "        Score: [Your score here]\n",
    "        Explanation: [Your explanation here]\n",
    "        Hallucinations: [List any hallucinations or discrepancies, or 'None' if none found]\n",
    "        \"\"\"\n",
    "\n",
    "        try:\n",
    "            response = ask_question(prompt)\n",
    "            return self._parse_response(response)\n",
    "        except Exception as e:\n",
    "            print(f\"An error occurred during evaluation: {str(e)}\")\n",
    "            return {\"faithfulness\": 0, \"explanation\": \"Error occurred\", \"hallucinations\": \"Unable to evaluate\"}\n",
    "\n",
    "    def _parse_response(self, response):\n",
    "        score_match = re.search(r'Score:\\s*([\\d.]+)', response['answer'])\n",
    "        explanation_match = re.search(r'Explanation:\\s*(.+?)(?:\\n|$)', response['answer'], re.DOTALL)\n",
    "        hallucinations_match = re.search(r'Hallucinations:\\s*(.+?)(?:\\n|$)', response['answer'], re.DOTALL)\n",
    "\n",
    "        score = float(score_match.group(1)) if score_match else 0\n",
    "        explanation = explanation_match.group(1).strip() if explanation_match else \"No explanation provided\"\n",
    "        hallucinations = hallucinations_match.group(1).strip() if hallucinations_match else \"Unable to determine\"\n",
    "\n",
    "        return {\n",
    "            \"faithfulness\": score,\n",
    "            \"explanation\": explanation,\n",
    "            \"hallucinations\": hallucinations\n",
    "        }\n",
    "\n",
    "# Usage example\n",
    "simple_faithfulness = SimpleFaithfulness()\n",
    "# Example usage of simple_faithfulness.evaluate()\n",
    "question = \"What are the benefits of using wollastonite in agriculture?\"\n",
    "# answer = \"Wollastonite is beneficial in agriculture due to its liming capability, silicon content, and calcium content. It can help improve soil pH and provide essential nutrients to plants.\"\n",
    "answer = \"Wollastonite is a calcium silicate mineral used in industrial applications like ceramics as well as in agriculture for its calcium and silicon content.\"\n",
    "context = \"Wollastonite is a calcium silicate mineral. It is used in agriculture for its liming capability, silicon content, and calcium content. These properties can help improve soil structure and provide nutrients to plants.\"\n",
    "\n",
    "result = simple_faithfulness.evaluate(question, answer, context)\n",
    "print(f\"Faithfulness score: {result['faithfulness']}\")\n",
    "print(f\"Explanation: {result['explanation']}\")\n",
    "print(f\"Hallucinations: {result['hallucinations']}\")\n"
   ]
  },
  {
   "cell_type": "code",
   "execution_count": null,
   "metadata": {},
   "outputs": [],
   "source": [
    "\n",
    "def parse_response(response):\n",
    "    score_match = re.search(r'Score:\\s*([\\d.]+)', response['answer'])\n",
    "    explanation_match = re.search(r'Explanation:\\s*(.+?)(?:\\n|$)', response['answer'], re.DOTALL)\n",
    "\n",
    "    score = float(score_match.group(1)) if score_match else 0\n",
    "    explanation = explanation_match.group(1).strip() if explanation_match else \"No explanation provided\"\n",
    "\n",
    "    return {\n",
    "        \"score\": score,\n",
    "        \"explanation\": explanation\n",
    "    }"
   ]
  },
  {
   "cell_type": "code",
   "execution_count": null,
   "metadata": {},
   "outputs": [],
   "source": [
    "def evaluate_answer(question, ground_truth, generated_answer):\n",
    "        prompt = f\"\"\"\n",
    "        Question: {question}\n",
    "        Ground Truth: {ground_truth}\n",
    "        Generated Answer: {generated_answer}\n",
    "\n",
    "        Evaluate the relevancy and correctness of the generated answer compared to the ground truth.\n",
    "        Consider the following:\n",
    "        1. How well does the generated answer address the question?\n",
    "        2. How accurate is the generated answer compared to the ground truth?\n",
    "        3. Are there any missing or extra pieces of information in the generated answer?\n",
    "\n",
    "        Respond with:\n",
    "        1. A score from 0 to 1, where 0 is completely irrelevant/incorrect and 1 is perfectly relevant/correct.\n",
    "        2. A brief explanation of your scoring.\n",
    "\n",
    "        Format your response exactly as follows:\n",
    "        Score: [Your score here]\n",
    "        Explanation: [Your explanation here]\n",
    "        \"\"\"\n",
    "\n",
    "        try:\n",
    "            response = ask_question(prompt)\n",
    "            return parse_response(response)\n",
    "        except Exception as e:\n",
    "            print(f\"An error occurred during evaluation: {str(e)}\")\n",
    "            return {\"relevancy\": 0, \"explanation\": \"Error occurred\"}\n",
    "\n",
    "\n",
    "# Example usage\n",
    "question = \"What is wollastonite and how is it used in agriculture?\"\n",
    "ground_truth = \"Wollastonite is a calcium silicate mineral. It is used in agriculture for its liming capability, silicon content, and calcium content. These properties help improve soil pH, enhance soil structure, and provide essential nutrients to plants.\"\n",
    "generated_answer = \"Wollastonite is a mineral used in agriculture for its calcium content and ability to improve soil structure.\"\n",
    "\n",
    "result = evaluate_answer(question, ground_truth, generated_answer)\n",
    "print(f\"Question: {question}\")\n",
    "print(f\"Ground True: {ground_truth}\")\n",
    "print(f\"Generated Answer: {generated_answer}\")\n",
    "print(f\"Answer Relevancy score: {result['score']}\")\n",
    "print(f\"Explanation: {result['explanation']}\")"
   ]
  },
  {
   "cell_type": "code",
   "execution_count": null,
   "metadata": {},
   "outputs": [],
   "source": [
    "def evaluate_context(query, context):\n",
    "\n",
    "    prompt = f\"\"\"\n",
    "    Query: {query}\n",
    "    Context: {context}\n",
    "\n",
    "    Evaluate if the retrieved context is relevant to the query. Consider the following:\n",
    "    1. Does the context match the subject matter of the query?\n",
    "    2. Can the context be used to fully answer the query?\n",
    "\n",
    "    Respond with:\n",
    "    1. A score from 0 to 1, where 0 is completely irrelevant and 1 is highly relevant.\n",
    "    2. A brief explanation of your scoring.\n",
    "\n",
    "    Format your response exactly as follows:\n",
    "    Score: [Your score here]\n",
    "    Explanation: [Your explanation here]\n",
    "    \"\"\"\n",
    "\n",
    "    try:\n",
    "        response = ask_question(prompt)\n",
    "        return parse_response(response)\n",
    "    except Exception as e:\n",
    "        print(f\"An error occurred during evaluation: {str(e)}\")\n",
    "        return {\"relevancy\": 0, \"explanation\": \"Error occurred\"}\n",
    "\n",
    "\n",
    "\n",
    "# Usage example\n",
    "\n",
    "query = \"What are the benefits of using wollastonite in agriculture?\"\n",
    "context = \"Wollastonite is a calcium silicate mineral. It is used in agriculture for its liming capability, silicon content, and calcium content. These properties can help improve soil structure and provide nutrients to plants.\"\n",
    "\n",
    "result = evaluate_context(query, context)\n",
    "print(f\"Query: {query}\")\n",
    "print(f\"Context: {context}\")\n",
    "print(f\"Score: {result['score']}\")\n",
    "print(f\"Explanation: {result['explanation']}\")"
   ]
  },
  {
   "cell_type": "code",
   "execution_count": null,
   "metadata": {},
   "outputs": [],
   "source": [
    "def evaluate_faithfulness(question: str, answer: str, context: str) -> dict:\n",
    "\n",
    "    prompt = f\"\"\"\n",
    "    Question: {question}\n",
    "    Answer: {answer}\n",
    "    Context: {context}\n",
    "\n",
    "    Evaluate the faithfulness of the answer based on the given context. Consider the following:\n",
    "    1. Does the answer contain information not present in the context?\n",
    "    2. Does the answer contradict any information in the context?\n",
    "    3. Is the answer a fair representation of the information in the context?\n",
    "\n",
    "    Respond with:\n",
    "    1. A score from 0 to 1, where 0 is completely unfaithful and 1 is completely faithful.\n",
    "    2. A brief explanation of your scoring. Include and hallucinations or discrepencies found, if any.\n",
    "\n",
    "    Format your response exactly as follows:\n",
    "    Score: [Your score here]\n",
    "    Explanation: [Your explanation here]\n",
    "    \"\"\"\n",
    "\n",
    "    try:\n",
    "        response = ask_question(prompt)\n",
    "        return parse_response(response)\n",
    "    except Exception as e:\n",
    "        print(f\"An error occurred during evaluation: {str(e)}\")\n",
    "        return {\"faithfulness\": 0, \"explanation\": \"Error occurred\", \"hallucinations\": \"Unable to evaluate\"}\n",
    "\n",
    "# Usage example\n",
    "question = \"What is wollastonite?\"\n",
    "answer = \"Wollastonite is a calcium silicate mineral used in agriculture for its liming capability and silicon content.\"\n",
    "context = \"Wollastonite is a calcium silicate mineral. It is used in agriculture for its liming capability, silicon content, and calcium content.\"\n",
    "\n",
    "result = evaluate_faithfulness(question, answer, context)\n",
    "print(f\"Faithfulness score: {result['score']}\")\n",
    "print(f\"Explanation: {result['explanation']}\")"
   ]
  },
  {
   "cell_type": "code",
   "execution_count": null,
   "metadata": {},
   "outputs": [],
   "source": [
    "from langchain_ollama.llms import OllamaLLM\n",
    "from ragas.metrics import Faithfulness\n",
    "from datasets import Dataset\n",
    "\n",
    "def evaluate_faithfulness(question, answer, contexts):\n",
    "    # Create an instance of OllamaLLM\n",
    "    ollama_llm = OllamaLLM(model=\"mistral\")\n",
    "\n",
    "    # Create an instance of the Faithfulness metric with your LLM\n",
    "    custom_faithfulness = Faithfulness(llm=ollama_llm)\n",
    "\n",
    "def evaluate_single_response(question, answer, contexts):\n",
    "    dataset = Dataset.from_dict({\n",
    "        \"user_input\": question,\n",
    "        \"response\": answer,\n",
    "        \"context\": contexts,\n",
    "        \"ground_truths\": [\"\"]  # Empty string instead of empty list\n",
    "    })\n",
    "\n",
    "    # Use the custom faithfulness metric\n",
    "    result = custom_faithfulness.score(dataset)\n",
    "\n",
    "    return result['faithfulness'][0]\n",
    "\n",
    "# Example usage\n",
    "question = \"What is wollastonite?\"\n",
    "answer = \"Wollastonite is a calcium silicate mineral used in agriculture for its liming capability and silicon content.\"\n",
    "contexts = \"Wollastonite is a calcium silicate mineral. It is used in agriculture for its liming capability, silicon content, and calcium content.\"\n",
    "\n",
    "faithfulness_score = evaluate_single_response(question, answer, contexts)\n",
    "print(f\"Faithfulness score: {faithfulness_score}\")"
   ]
  },
  {
   "cell_type": "code",
   "execution_count": null,
   "metadata": {},
   "outputs": [],
   "source": [
    "evaluation_data = [\n",
    "    {\n",
    "        \"question\": \"What is wollastonite and how does it relate to plant nutrition?\",\n",
    "        \"ground_truth\": \"Wollastonite is a calcium silicate mineral used in agriculture for its liming capability, silicon content, and calcium content. It relates to plant nutrition by providing calcium and silicon, buffering soil pH, and potentially contributing to pest control and powdery mildew suppression.\"\n",
    "    },\n",
    "    # Add more question-answer pairs here\n",
    "]"
   ]
  }
 ],
 "metadata": {
  "kernelspec": {
   "display_name": ".venv",
   "language": "python",
   "name": "python3"
  },
  "language_info": {
   "codemirror_mode": {
    "name": "ipython",
    "version": 3
   },
   "file_extension": ".py",
   "mimetype": "text/x-python",
   "name": "python",
   "nbconvert_exporter": "python",
   "pygments_lexer": "ipython3",
   "version": "3.12.0"
  }
 },
 "nbformat": 4,
 "nbformat_minor": 2
}
